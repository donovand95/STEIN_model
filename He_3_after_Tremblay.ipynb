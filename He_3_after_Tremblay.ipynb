{
 "cells": [
  {
   "cell_type": "code",
   "execution_count": 2,
   "metadata": {},
   "outputs": [],
   "source": [
    "import numpy as np\n",
    "import matplotlib.pyplot as plt\n",
    "from scipy import linalg, integrate\n",
    "from scipy.interpolate import interp1d\n",
    "from jupyterthemes import jtplot\n",
    "import math as math\n",
    "\n",
    "jtplot.style(theme = 'gruvboxd')\n",
    "%matplotlib inline"
   ]
  },
  {
   "cell_type": "code",
   "execution_count": 45,
   "metadata": {},
   "outputs": [],
   "source": [
    "# nx = 100\n",
    "# gr_sz = 0.1\n",
    "\n",
    "# r = gr_sz\n",
    "# dx = (r / nx)\n",
    "# x = np.arange(dx/2, r, dx)\n",
    "# u0 = np.zeros((nx))\n",
    "# nt = 1\n",
    "# dt = 1\n",
    "# # x = np.linspace(((gr_sz / 2) / He_3_nodes), (gr_sz / 2), num = He_3_nodes)\n",
    "\n",
    "# x_up = x + (dx/2)\n",
    "# x_low = x - (dx/2)\n",
    "# x_vol = [(4/3 * np.pi * x_up[i]**3) - (4/3 * np.pi * x_low[i]**3) for i in range(len(x))]\n",
    "# qtz_rho = 2.62\n",
    "# x_up - x_low\n",
    "# shell_mass = [(x_vol[i] * qtz_rho) for i in range(len(x_vol))]\n",
    "# a = 0.043   # kinetics grain size function\n",
    "# P0_3He_annual = 108\n",
    "\n",
    "# Ea = 84500\n",
    "# R = 8.3144\n",
    "\n",
    "# rho = 2.62\n",
    "# mu = 2.7/ 160"
   ]
  },
  {
   "cell_type": "code",
   "execution_count": 56,
   "metadata": {},
   "outputs": [],
   "source": [
    "def MT_He_3(P0, u0, x, dt, dx, T, nx):    \n",
    "    \n",
    "    Ea = 84500\n",
    "    R = 8.3144\n",
    "\n",
    "    rho = 2.62\n",
    "    mu = 2.7/ 160\n",
    "    a = 0.043\n",
    "    alllnD0aa = 11.1\n",
    "    lnD0aa = alllnD0aa\n",
    "    lnD0aa = np.log(np.exp(lnD0aa) * a**2 / r**2)\n",
    "    D0 = np.exp(lnD0aa) * (60 * 60 * 24 * 365.25) * r**2\n",
    "    D = D0 * math.exp((-Ea / R) * (1 / T))    \n",
    "    \n",
    "    beta = (2.0 * dx**2) / (D * dt)\n",
    "    \n",
    "    A1 = np.multiply(np.diag(np.ones(nx)), (-2 -beta)) + np.diag(np.ones(nx-1), k = 1) + np.diag(np.ones(nx-1), k = -1)\n",
    "    A2 = np.multiply(np.diag(np.ones(nx)), (2 - beta)) - np.diag(np.ones(nx-1), k = 1) - np.diag(np.ones(nx-1), k = -1)\n",
    "    A1[0,0] = A1[0,0] - 1\n",
    "    A2[0,0] = A2[0,0] + 1 \n",
    "\n",
    "    unew = np.multiply(u0, x)\n",
    "    He_3_prod = np.multiply(P0,x) * beta * dt\n",
    "\n",
    "    b = A2 @ unew - He_3_prod\n",
    "\n",
    "    unew = np.linalg.solve(A1,b)\n",
    "    u0 = np.divide(unew, x)\n",
    "  \n",
    "    return u0"
   ]
  },
  {
   "cell_type": "code",
   "execution_count": 64,
   "metadata": {},
   "outputs": [],
   "source": [
    "# # running loop, time in years\n",
    "# u0 = np.zeros((100))\n",
    "# output = np.empty((1000,100))\n",
    "# T = 273\n",
    "\n",
    "# for i in range(1000):\n",
    "#     solved = MT_He_3(P0_3He_annual, u0, x, dt, dx, T, nx)\n",
    "#     u0 = solved\n",
    "#     output[i,:] = u0"
   ]
  },
  {
   "cell_type": "code",
   "execution_count": 66,
   "metadata": {},
   "outputs": [
    {
     "data": {
      "text/plain": [
       "812.120328561262"
      ]
     },
     "execution_count": 66,
     "metadata": {},
     "output_type": "execute_result"
    }
   ],
   "source": [
    "# np.sum(np.multiply(solved,shell_mass))"
   ]
  },
  {
   "cell_type": "code",
   "execution_count": null,
   "metadata": {},
   "outputs": [],
   "source": [
    "# summed = np.empty(10000,)\n",
    "\n",
    "# for i in range(10000):\n",
    "#     summed[i] = np.sum(np.multiply(output[i,:],shell_mass))"
   ]
  },
  {
   "cell_type": "code",
   "execution_count": null,
   "metadata": {},
   "outputs": [],
   "source": [
    "# produced = np.empty(10000,)\n",
    "\n",
    "# for i in range(1,10001):\n",
    "#     produced[i-1] = np.sum(np.multiply(P0_3He_annual * i, shell_mass))"
   ]
  },
  {
   "cell_type": "code",
   "execution_count": null,
   "metadata": {},
   "outputs": [],
   "source": [
    "# percent_1_268 = np.empty(10000,)\n",
    "\n",
    "# for i in range(10000):\n",
    "#     percent_1_268[i] = summed[i] / produced[i]"
   ]
  },
  {
   "cell_type": "code",
   "execution_count": null,
   "metadata": {},
   "outputs": [],
   "source": [
    "# index = np.arange(0,10000,1)\n",
    "\n",
    "# fig = plt.figure(figsize = (12,12))\n",
    "# ax = fig.add_subplot(2, 1, 1)\n",
    "\n",
    "\n",
    "# ax.plot(index, percent_01, color = 'purple', lw = '2', ls = 'dashdot')\n",
    "# ax.plot(index, percent_005, color = 'b', lw = '2', ls = 'dashdot')\n",
    "# ax.plot(index, percent_0025, color = 'g', lw = '2', ls = 'dashdot')\n",
    "# ax.plot(index, percent_0025_268, color = 'g', lw = '2', ls = 'dotted')\n",
    "# ax.plot(index, percent_05_268, color = 'b', lw = '2', ls = 'dotted')\n",
    "# ax.plot(index, percent_1_268, color = 'purple', lw = '2', ls = 'dotted')\n",
    "# ax.plot()\n",
    "# ax.set_xscale('log')\n",
    "\n",
    "# plt.show()"
   ]
  }
 ],
 "metadata": {
  "kernelspec": {
   "display_name": "Python 3",
   "language": "python",
   "name": "python3"
  },
  "language_info": {
   "codemirror_mode": {
    "name": "ipython",
    "version": 3
   },
   "file_extension": ".py",
   "mimetype": "text/x-python",
   "name": "python",
   "nbconvert_exporter": "python",
   "pygments_lexer": "ipython3",
   "version": "3.7.1"
  }
 },
 "nbformat": 4,
 "nbformat_minor": 2
}
