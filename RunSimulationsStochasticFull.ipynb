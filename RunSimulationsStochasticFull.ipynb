{
 "cells": [
  {
   "cell_type": "markdown",
   "id": "fe50eb07",
   "metadata": {},
   "source": [
    "## Run Constant Erosion Simulations\n",
    "<br>\n",
    "  \n",
    "#### Syntax\n",
    "`CalcPars, MeasPars, TruePars, RunPars, CosmoPars, HeliumPars = RunSimulationsStochasticFull(InputPars)` <br>\n",
    "#### Input \n",
    "`InputPars` : dictionary containing the following input parameters: <br>\n",
    "    - Total Time : total time to run the model (yrs) <br>\n",
    "    - Erosion Rate : the given (input) erosion rate; stochastic erosion rates drawn from the rockfall generator function will be within +-10% of this value; constant erosion will be exactly this value (cm yr-1) <br>\n",
    "    - c : Pareto distribution shape value; should be 1 > x > 0 <br>\n",
    "    - MAT : mean annual temperature (deg C) <br>\n",
    "    - T_AMP : seasonal temperature amplitude (deg C) <br>\n",
    "#### Output\n",
    "`CalcPars` : dictionary of calculated concentrations and values for \"samples\" <br>\n",
    "`MeasPars` : dictionary equivalent to `CalcPars` except containing concentrations returned for the _measured_ (apparent) erosion rates measured from samples of `CalcPars` <br>\n",
    "`TruePars` : dictionary equivalent to `CalcPars` and `MeasPars` except containing concentrations returned for the _true_ erosion rates calculated by dividing total amount of eroded material by total time <br>\n",
    "`RunPars` : dictionary of parameters relevant for the entire model run <br>\n",
    "`CosmoPars` : dictionary of parameters relevant for CRN calculatiosn <br>\n",
    "`HeliumPars` : dictionary containing parameters relevant for He3 calcualtions <br>\n",
    "\n",
    "#### Notes\n",
    "**Date of Creation:** 7. Juli 2021 <br>\n",
    "**Author:** Donovan Dennis <br>\n",
    "**Update:** <br>"
   ]
  },
  {
   "cell_type": "code",
   "execution_count": 1,
   "id": "87def3f5",
   "metadata": {},
   "outputs": [],
   "source": [
    "def RunSimulationsStochasticFull(InputPars):\n",
    "    CalcPars = {}\n",
    "    MeasPars = {}\n",
    "    TruePars = {}\n",
    "\n",
    "    RunPars, CosmoPars, HeliumPars = SetParams(InputPars)\n",
    "    RunPars = RockfallGenerator(RunPars)\n",
    "\n",
    "    CalcPars = crnLoopFunction(RunPars, CosmoPars, CalcPars)\n",
    "    CalcPars = HeLoopFxn(RunPars, CosmoPars, HeliumPars, CalcPars)\n",
    "    CalcPars = CNSamplingFxn(RunPars,CosmoPars,HeliumPars,CalcPars)\n",
    "\n",
    "    RunMeasPars, CosmoPars, HeliumPars = SetParams(InputPars)\n",
    "    RunMeasPars =  MeasCompERGenerator(RunMeasPars, RunPars, CalcPars)\n",
    "\n",
    "    MeasPars = crnLoopFunction(RunMeasPars, CosmoPars, MeasPars)\n",
    "    MeasPars = HeLoopFxn(RunMeasPars, CosmoPars, HeliumPars, MeasPars)\n",
    "    MeasPars = CNSamplingFxn(RunMeasPars,CosmoPars,HeliumPars,MeasPars)\n",
    "\n",
    "    RunTruePars, CosmoCompPars, HeliumCompPars = SetParams(InputPars)\n",
    "    RunTruePars = TrueCompERGenerator(RunTruePars, RunPars, CalcPars)\n",
    "\n",
    "    TruePars = crnLoopFunction(RunTruePars, CosmoPars, TruePars)\n",
    "    TruePars = HeLoopFxn(RunTruePars, CosmoPars, HeliumPars, TruePars)\n",
    "    TruePars = CNSamplingFxn(RunTruePars,CosmoPars,HeliumPars,TruePars)\n",
    "    \n",
    "    return CalcPars, MeasPars, TruePars, RunPars, CosmoPars, HeliumPars"
   ]
  }
 ],
 "metadata": {
  "kernelspec": {
   "display_name": "Python 3",
   "language": "python",
   "name": "python3"
  },
  "language_info": {
   "codemirror_mode": {
    "name": "ipython",
    "version": 3
   },
   "file_extension": ".py",
   "mimetype": "text/x-python",
   "name": "python",
   "nbconvert_exporter": "python",
   "pygments_lexer": "ipython3",
   "version": "3.9.5"
  }
 },
 "nbformat": 4,
 "nbformat_minor": 5
}
