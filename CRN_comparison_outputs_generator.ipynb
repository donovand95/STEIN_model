{
 "cells": [
  {
   "cell_type": "code",
   "execution_count": 1,
   "metadata": {},
   "outputs": [],
   "source": [
    "import numpy as np\n",
    "import time \n",
    "import matplotlib.pyplot as plt\n",
    "from scipy.interpolate import interp1d, interp2d\n",
    "from scipy import linalg\n",
    "from jupyterthemes import jtplot"
   ]
  },
  {
   "cell_type": "code",
   "execution_count": 15,
   "metadata": {
    "code_folding": []
   },
   "outputs": [],
   "source": [
    "def set_ER(erosion_rates):\n",
    "    erosion_rates[:,0] = initial_ER_rates\n",
    "    \n",
    "    if shift_ER_rate == True:\n",
    "        erosion_rates[:,1] = initial_ER_rates * ER_shift_factor\n",
    "    \n",
    "    return erosion_rates"
   ]
  },
  {
   "cell_type": "code",
   "execution_count": 5,
   "metadata": {
    "code_folding": []
   },
   "outputs": [],
   "source": [
    "def C14fxn(dt, depth, conc0, scaling_factor):\n",
    "       \n",
    "    C14_P0 = SLHL_C14 * scaling_factor   # production rate atoms / g / yr\n",
    "    thalf = 5730    # half life 14-C, years\n",
    "    decay = np.log(2) / thalf\n",
    "    f_tot = 1.72*10**(-2)\n",
    "\n",
    "    mu = 2.62/160 # g * cm^-2\n",
    "    A1 = 170.6 # Granger and Smith (2000)\n",
    "    A2 = 36.75 # ibid.\n",
    "    L1 = 788.6 # g cm^-2; Granger and Smith (2000)\n",
    "    L2 = 2688 # g cm*-2; ibid.\n",
    "    \n",
    "    muons = [f_tot * (A1*np.e**((-rock_rho * depth[i])/L1) + A2*np.e**((-2.62*depth[i])/L2)) for i in depth]  \n",
    "    spallation = [C14_P0 * np.e**(-mu * depth[i]) for i in depth]\n",
    "    production_tot_14 = [spallation[i] + muons[i] for i in depth]\n",
    "    \n",
    "    conc14C = [conc0[i]*np.e**(-decay) + (production_tot_14[i] / (decay + 0) * (1 - np.e**(-(decay + 0) * 1))) for i in depth]\n",
    "\n",
    "    \n",
    "    return conc14C"
   ]
  },
  {
   "cell_type": "code",
   "execution_count": 6,
   "metadata": {
    "code_folding": []
   },
   "outputs": [],
   "source": [
    "def Be10fxn(dt, depth, conc0, scaling_factor):\n",
    "    \n",
    "    A1 = 170.6 # Granger and Smith (2000)\n",
    "    A2 = 36.75 # ibid.\n",
    "    L1 = 788.6 # g cm^-2; Granger and Smith (2000)\n",
    "    L2 = 2688 \n",
    "    \n",
    "    Be10_P0 = SLHL_Be10 * scaling_factor\n",
    "    decay = 4.998e-7    \n",
    "    B_Be = 0.026 # Granger and Smith 2000\n",
    "    L3 = 4360 # g cm^-2 Granger and Smith 2000\n",
    "    f_tot = 5.6*10**(-4)\n",
    "    \n",
    "    f_muons_10 = [0.026 * np.e**(-rock_rho * depth[i] / L3) for i in depth]\n",
    "    neg_muons_10 = [f_tot * (A1*np.e**((-rock_rho * depth[i])/L1) + A2*np.e**((-rock_rho*depth[i])/L2)) for i in depth]\n",
    "    spallogenic_10 = [Be10_P0 * np.e**(-mu * depth[i]) for i in depth]\n",
    "    production_tot_10 = [f_muons_10[i] + spallogenic_10[i] + neg_muons_10[i] for i in depth]\n",
    "    \n",
    "    conc10Be = [conc0[i] * np.e**(-decay) + (production_tot_10[i] / (decay + 0) * (1 - np.e**(-(decay + 0) * 1))) for i in depth]    \n",
    "\n",
    "    return conc10Be"
   ]
  },
  {
   "cell_type": "code",
   "execution_count": 33,
   "metadata": {
    "code_folding": []
   },
   "outputs": [],
   "source": [
    "def CRN_fxn(conc10Be, conc14C, ER, dat_lin):\n",
    "    \n",
    "    conc10Be = Be10fxn(dt, dat_lin, conc10Be, scaling_factor)\n",
    "    conc14C = C14fxn(dt, dat_lin, conc14C, scaling_factor)    \n",
    "    \n",
    "    depths = dat_lin[dat_lin > ER]\n",
    "    minus = len(dat_lin) - len(depths)\n",
    "\n",
    "    sec_Befxn = interp1d(x = (depths - ER), y = conc10Be[minus:], kind = 'cubic', fill_value = \"extrapolate\")\n",
    "    conc10Be[:-minus] = sec_Befxn(x = dat_lin[:-minus])\n",
    "    conc10Be[-1] = 0\n",
    "    \n",
    "    sec_Cfxn = interp1d(x = (depths - ER), y = conc14C[minus:], kind = 'cubic', fill_value = \"extrapolate\")\n",
    "    conc14C[:-minus] = sec_Cfxn(x = dat_lin[:-minus])\n",
    "    conc14C[-1] = 0\n",
    "    \n",
    "    C_Be_ratio = np.divide(conc14C,conc10Be)\n",
    "    \n",
    "    return conc10Be, conc14C, C_Be_ratio"
   ]
  },
  {
   "cell_type": "code",
   "execution_count": 39,
   "metadata": {
    "code_folding": []
   },
   "outputs": [],
   "source": [
    "def CRN_comp_loop_fxn(total_time, initial_ER):\n",
    "    dat_lin = np.arange(0,max_depth[1],1)\n",
    "    \n",
    "    conc14C = [0] * len(dat_lin)\n",
    "    conc10Be = [0] * len(dat_lin)\n",
    "    C_Be_surf = np.empty((total_time,))\n",
    "    C_surf = np.empty((total_time,))\n",
    "    Be_surf = np.empty((total_time,))\n",
    "    C_tot = np.empty((len(dat_lin),total_time))\n",
    "    Be_tot = np.empty((len(dat_lin),total_time))\n",
    "            \n",
    "    ER = initial_ER\n",
    "\n",
    "    for i in range(0, total_time):\n",
    "        conc10Be, conc14C, C_Be_ratio = CRN_fxn(conc10Be, conc14C, ER, dat_lin)  \n",
    "        C_tot[:,i] = conc14C\n",
    "        Be_tot[:,i] = conc10Be\n",
    "        C_Be_surf[i,] = np.average(C_Be_ratio[0:6])\n",
    "        C_surf[i,] = np.average(conc14C[0:6])\n",
    "        Be_surf[i,] = np.average(conc10Be[0:6])\n",
    "            \n",
    "    ratios = [(C_tot[0,i] / Be_tot[0,i]) for i in range(total_time)]\n",
    "\n",
    "    export_mat = np.empty((total_time,4))\n",
    "    export_mat[:,0] = C_surf\n",
    "    export_mat[:,1] = Be_surf\n",
    "    export_mat[:,2] = ratios\n",
    "    export_mat[0,3] = ER\n",
    "\n",
    "    C_export = C_tot\n",
    "    Be_export = Be_tot\n",
    "\n",
    "    print('Comparison Be10 / C14 loop complete.')\n",
    "    \n",
    "    np.savetxt('CON_C14_10Be_ER' + str(ER) + '_expmat.csv',\n",
    "               export_mat,\n",
    "               delimiter = ',')\n",
    "\n",
    "    return C_tot, Be_tot, C_Be_surf, C_surf, Be_surf, ratios"
   ]
  }
 ],
 "metadata": {
  "kernelspec": {
   "display_name": "Python 3",
   "language": "python",
   "name": "python3"
  },
  "language_info": {
   "codemirror_mode": {
    "name": "ipython",
    "version": 3
   },
   "file_extension": ".py",
   "mimetype": "text/x-python",
   "name": "python",
   "nbconvert_exporter": "python",
   "pygments_lexer": "ipython3",
   "version": "3.7.1"
  }
 },
 "nbformat": 4,
 "nbformat_minor": 2
}
