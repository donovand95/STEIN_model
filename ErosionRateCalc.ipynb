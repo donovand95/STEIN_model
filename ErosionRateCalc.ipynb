{
 "cells": [
  {
   "cell_type": "markdown",
   "id": "1ee8993c",
   "metadata": {},
   "source": [
    "## Calculate Erosion Rates\n",
    "<br>\n",
    "  \n",
    "#### Syntax\n",
    "`ER = ErosionRateCalc(conc, P0, decay, L, rock_rho)` <br>\n",
    "#### Input \n",
    "`conc` : concentration (at g-1). <br>\n",
    "`P0` : surface production rate (at g-1 yr-1). <br>\n",
    "`decay` : decay constant (yr-1). <br>\n",
    "`L` : attenuation length (g cm-2). <br>\n",
    "`rock_rho` : density of the rock (g cm-3). <br>\n",
    "#### Output\n",
    "`ER` : vector of erosion rates (cm yr-1) <br>\n",
    "#### Notes\n",
    "**Date of Creation:** 5. Juli 2021 <br>\n",
    "**Author:** Donovan Dennis <br>\n",
    "**Update:** <br>"
   ]
  },
  {
   "cell_type": "code",
   "execution_count": 1,
   "id": "1cbb0104",
   "metadata": {},
   "outputs": [],
   "source": [
    "def ErosionRateCalc(conc, P0, decay, L, rock_rho):\n",
    "    ER = L / rock_rho * (-decay + (P0 / conc))\n",
    "    \n",
    "    return ER"
   ]
  }
 ],
 "metadata": {
  "kernelspec": {
   "display_name": "Python 3",
   "language": "python",
   "name": "python3"
  },
  "language_info": {
   "codemirror_mode": {
    "name": "ipython",
    "version": 3
   },
   "file_extension": ".py",
   "mimetype": "text/x-python",
   "name": "python",
   "nbconvert_exporter": "python",
   "pygments_lexer": "ipython3",
   "version": "3.9.5"
  }
 },
 "nbformat": 4,
 "nbformat_minor": 5
}
