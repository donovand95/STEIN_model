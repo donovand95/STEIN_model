{
 "cells": [
  {
   "cell_type": "code",
   "execution_count": 5,
   "metadata": {
    "code_folding": [
     0
    ]
   },
   "outputs": [],
   "source": [
    "def rockfall_matrix_gen(stoch_base_ER, pareto_c):    \n",
    "    rockfall_mat = np.empty((total_time,scenarios))\n",
    "    erosion_rates = [0] * scenarios\n",
    "    \n",
    "    for i in range(scenarios):\n",
    "        while True:\n",
    "            falls = scipy.stats.genpareto.rvs(c = pareto_c, scale = 0.1, size = total_time)\n",
    "            erosion_rate = np.sum(falls) / total_time\n",
    "\n",
    "            if erosion_rate > stoch_base_ER + (0.1 * stoch_base_ER):\n",
    "                move_on = False\n",
    "            elif erosion_rate < stoch_base_ER - (0.1 * stoch_base_ER):\n",
    "                move_on = False\n",
    "            else:\n",
    "                move_on = True\n",
    "\n",
    "            if move_on == True:\n",
    "                rockfall_mat[:,i] = falls\n",
    "\n",
    "                break\n",
    "        \n",
    "        erosion_rates[i] = erosion_rate\n",
    "        \n",
    "    return rockfall_mat, erosion_rates"
   ]
  },
  {
   "cell_type": "code",
   "execution_count": 4,
   "metadata": {
    "code_folding": [
     0,
     11
    ]
   },
   "outputs": [],
   "source": [
    "def erosion_export(stoch_base_ER):\n",
    "    rockfall_matrix, erosion_rates = rockfall_matrix_gen(stoch_base_ER, pareto_c)\n",
    "    np.savetxt('C:/Users/dennis/Documents/STEIN_links/for_publication/model_outputs/stochastic_erosion/erosion_sets/rockfall_matrix_' + str(stoch_base_ER) + '_' + str(time.strftime('%d-%m-%Y %H:%M:%S')[:10]) + '.csv',\n",
    "                       rockfall_matrix,\n",
    "                       delimiter = ',')\n",
    "    np.savetxt('C:/Users/dennis/Documents/STEIN_links/for_publication/model_outputs/stochastic_erosion/erosion_sets/ER_list_' + str(stoch_base_ER) + '_' + str(time.strftime('%d-%m-%Y %H:%M:%S')[:10]) + '.csv',\n",
    "                       erosion_rates,\n",
    "                       delimiter = ',')\n",
    "    \n",
    "    read_in = open('C:/Users/dennis/Documents/STEIN_links/for_publication/model_outputs/stochastic_erosion/erosion_sets/import_dates.csv')\n",
    "    myreader = csv.reader(read_in, delimiter = ',')\n",
    "    for row in myreader:\n",
    "        imp_list = row[:]\n",
    "    \n",
    "    imp_list.append(time.strftime('%d-%m-%Y %H:%M:%S')[:10])\n",
    "\n",
    "    with open('C:/Users/dennis/Documents/STEIN_links/for_publication/model_outputs/stochastic_erosion/erosion_sets/import_dates.csv', 'w', newline='') as myfile:   \n",
    "         wr = csv.writer(myfile, quoting=csv.QUOTE_ALL)\n",
    "         wr.writerow(imp_list)\n",
    "    \n",
    "    read_in.close()\n",
    "    \n",
    "    return rockfall_matrix"
   ]
  }
 ],
 "metadata": {
  "kernelspec": {
   "display_name": "Python 3",
   "language": "python",
   "name": "python3"
  },
  "language_info": {
   "codemirror_mode": {
    "name": "ipython",
    "version": 3
   },
   "file_extension": ".py",
   "mimetype": "text/x-python",
   "name": "python",
   "nbconvert_exporter": "python",
   "pygments_lexer": "ipython3",
   "version": "3.7.1"
  }
 },
 "nbformat": 4,
 "nbformat_minor": 2
}
