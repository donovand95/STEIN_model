{
 "cells": [
  {
   "cell_type": "code",
   "execution_count": 15,
   "metadata": {
    "code_folding": [
     0
    ]
   },
   "outputs": [],
   "source": [
    "def He3_temps(MAT, T_AMP, dat_lin):        \n",
    "    T0 = Temp_fun(MAT, T_AMP, dat_lin, (1/thermnt))\n",
    "    EDT_import = EDT_calculation(MAT, T_AMP, T0)\n",
    "    EDT_trnsfrm = interp1d(x = EDT_import[5], y = EDT_import[3], \n",
    "                        kind = 'linear',\n",
    "                        fill_value = \"extrapolate\")\n",
    "    EDT_z = EDT_trnsfrm(x = dat_lin)\n",
    "    \n",
    "    return EDT_z"
   ]
  },
  {
   "cell_type": "code",
   "execution_count": 27,
   "metadata": {
    "code_folding": [
     0
    ]
   },
   "outputs": [],
   "source": [
    "def He3_fxn(grain_conc, EDT_z, ER, dat_lin):\n",
    "    He3P0 = SLHL_He3 * np.exp(-mu * dat_lin)\n",
    "    grain_conc = [MT_He_3(He3P0[i], grain_conc[i], x, 1, dx, EDT_z[i], nx) for i in range(len(dat_lin))] \n",
    "\n",
    "    '''\n",
    "    int_z        |   return nodes (depths) which remain after erosion;\n",
    "    first_fxn    |   100 x 100 mesh, 2d interpolation of grain conc. by depth conc.;\n",
    "    first_data   |   interpolation function applied over linear nodes;\n",
    "    second_fxn   |   100 x 100 mesh, 2d interpolation of grain conc from linear nodes at new depth;\n",
    "    grain_conc   |   second function applied back onto the original log nodes.\n",
    "    '''        \n",
    "\n",
    "    first_fxn = interp2d(x = range(0,nx), y = dat_lin, z = np.stack(grain_conc), kind = 'cubic')\n",
    "    first_data = first_fxn(x = range(0,nx), y = dat_lin)\n",
    "    second_fxn = interp2d(x = range(0,nx), y = (dat_lin - ER), z = np.stack(grain_conc), kind = 'cubic') \n",
    "    grain_conc = second_fxn(x = range(0,nx), y = dat_lin)\n",
    "    \n",
    "    return grain_conc"
   ]
  },
  {
   "cell_type": "code",
   "execution_count": 1,
   "metadata": {
    "code_folding": []
   },
   "outputs": [],
   "source": [
    "def He3_comp_loop_fxn(total_time, initial_ER):\n",
    "    dat_lin = np.arange(0,max_depth[0] + 1,1)\n",
    "    \n",
    "    %run He_3_after_Tremblay.ipynb\n",
    "    %run crank_nicolson_bedrock_thermal_field.ipynb\n",
    "\n",
    "    conc3He = [[0]*nx] * len(dat_lin)\n",
    "    He_surf = np.empty((total_time,))\n",
    "\n",
    "    EDT_z = He3_temps(MAT, T_AMP, dat_lin)\n",
    "   \n",
    "    ER = initial_ER\n",
    "    \n",
    "    for i in range(total_time):\n",
    "        conc3He = He3_fxn(conc3He, EDT_z, ER, dat_lin)\n",
    "        He_surf[i] = np.average([np.average(conc3He[i], weights = shell_mass) for i in range(6)])\n",
    "    \n",
    "    print('Comparison He3 loop scenario complete.')\n",
    "    \n",
    "    np.savetxt('STO_He3_ER' + str(ER) + '_surfmat.csv',\n",
    "               He_surf,\n",
    "               delimiter = ',')\n",
    "\n",
    "    return He_surf"
   ]
  }
 ],
 "metadata": {
  "kernelspec": {
   "display_name": "Python 3",
   "language": "python",
   "name": "python3"
  },
  "language_info": {
   "codemirror_mode": {
    "name": "ipython",
    "version": 3
   },
   "file_extension": ".py",
   "mimetype": "text/x-python",
   "name": "python",
   "nbconvert_exporter": "python",
   "pygments_lexer": "ipython3",
   "version": "3.7.1"
  }
 },
 "nbformat": 4,
 "nbformat_minor": 2
}
