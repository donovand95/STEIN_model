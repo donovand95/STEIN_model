{
 "cells": [
  {
   "cell_type": "code",
   "execution_count": 2,
   "metadata": {},
   "outputs": [],
   "source": [
    "import numpy as np\n",
    "import pandas as pd\n",
    "from scipy.interpolate import interp1d, interp2d\n",
    "from scipy import linalg\n",
    "import matplotlib.pyplot as plt\n",
    "import matplotlib.patches as mpatches\n",
    "import random\n",
    "from IPython.display import display, clear_output\n",
    "from jupyterthemes import jtplot\n",
    "import time\n",
    "import scipy as scipy\n",
    "import csv\n",
    "import matplotlib.patches as mpatches\n",
    "from sklearn import linear_model\n",
    "from sklearn.decomposition import PCA\n",
    "\n",
    "jtplot.style(theme = 'gruvboxd')"
   ]
  },
  {
   "cell_type": "code",
   "execution_count": 3,
   "metadata": {},
   "outputs": [],
   "source": [
    "import math as math"
   ]
  },
  {
   "cell_type": "code",
   "execution_count": 4,
   "metadata": {},
   "outputs": [],
   "source": [
    "total_time = 17500\n",
    "scenarios = 10\n",
    "stoch_base_ER = 0.1\n",
    "sample_no = 30\n",
    "P0_Be10 = 4.02\n",
    "P0_He3 = 128.0\n",
    "P0_C14 = 12.76"
   ]
  },
  {
   "cell_type": "code",
   "execution_count": 5,
   "metadata": {},
   "outputs": [],
   "source": [
    "SLHL_Be10 = P0_Be10\n",
    "SLHL_He3 = P0_He3\n",
    "scaling_factor = 1.0"
   ]
  },
  {
   "cell_type": "code",
   "execution_count": 6,
   "metadata": {
    "code_folding": [
     0
    ]
   },
   "outputs": [],
   "source": [
    "def CN_stoch_in_fxn(ERs_all):\n",
    "    CN_import = np.empty((total_time, 4, scenarios))\n",
    "    for i in range(scenarios):\n",
    "        CN_import[:,:3,i] = np.genfromtxt('D:/STEIN_paper/model_outputs/stochastic_erosion/STO_C14_Be10_ER' + str(ERs_all[i]) + '_expmat.csv', \n",
    "                                          delimiter = ',')\n",
    "\n",
    "        CN_import[:,3,i] = np.genfromtxt('D:/STEIN_paper/model_outputs/stochastic_erosion/STO_He3_ER' + str(ERs_all[i]) + '_surfmat.csv',\n",
    "                              delimiter = ',')\n",
    "        \n",
    "    return CN_import"
   ]
  },
  {
   "cell_type": "code",
   "execution_count": 7,
   "metadata": {
    "code_folding": [
     0
    ]
   },
   "outputs": [],
   "source": [
    "def ER_import(stoch_base_ER):\n",
    "    read_in = open('D:/STEIN_paper/model_outputs/stochastic_erosion/erosion_sets/import_dates.csv')\n",
    "    myreader = csv.reader(read_in)\n",
    "    \n",
    "    for row in myreader:\n",
    "        mat_gen_dates = row[:]\n",
    "    \n",
    "    ERs = np.genfromtxt('D:/STEIN_paper/model_outputs/stochastic_erosion/erosion_sets/ER_list_' + str(stoch_base_ER) + '_' + str(mat_gen_dates[30]) + '.csv',\n",
    "                                  delimiter = ',')\n",
    "        \n",
    "    return ERs"
   ]
  },
  {
   "cell_type": "code",
   "execution_count": 8,
   "metadata": {
    "code_folding": [
     0,
     3,
     6,
     9,
     21,
     34
    ]
   },
   "outputs": [],
   "source": [
    "pareto_3ER = [0.10039790132825553, 0.09974171566599452, 0.10938501917905012, 0.10704352837271704, \n",
    "              0.10338776236257217, 0.1087367824765483, 0.10839704966402405, 0.10465266112583306, \n",
    "              0.10733839927658555, 0.10244357377202078]\n",
    "pareto_2ER = [0.10097234782865684, 0.10410151359957116, 0.09803559052545682, 0.1042266549131835, \n",
    "              0.0932084750845557, 0.09449050549642915, 0.09004006218883537, 0.09694779937407147, \n",
    "              0.10022528881913528, 0.10441945607282799]\n",
    "pareto_1ER = [0.09927695923758087, 0.10484617359240724, 0.10444658076824657, 0.10912804075481758,\n",
    "              0.10674019684143121, 0.10904956309288238, 0.10976018511139474, 0.10284410957451133,\n",
    "              0.1043523791698602, 0.10143623412162636]\n",
    "pareto_0ER = [0.09785674950573756, 0.09968263137347035, 0.09829857967836945, 0.09961087699132304,\n",
    "              0.0958566827114354, 0.10146451425663854, 0.09806014551360605, 0.09626150863452168, \n",
    "              0.09803252990200892, 0.09893872919234223]\n",
    "\n",
    "\n",
    "import_05s = [0.04561371271128652, 0.052052256979133134, 0.050288956154872624, 0.05246138057649759,\n",
    "             0.04617464306056679, 0.050269433478853646, 0.04502251132566917, 0.046130387494834696,\n",
    "             0.05256702182710618, 0.05237092987841763]\n",
    "\n",
    "ERs_25 = ER_import(0.25)\n",
    "\n",
    "master05 = np.empty((25000, 11, scenarios))\n",
    "samples05 = np.empty((sample_no, 6, scenarios))\n",
    "\n",
    "for i in range(scenarios):\n",
    "    master05[:,:,i] = np.genfromtxt('D:/STEIN_paper/model_outputs/stochastic_erosion/comparison_output_' + str(import_05s[i]) + '.csv',  \n",
    "                                  delimiter = ',')\n",
    "    samples05[:,:,i] = np.genfromtxt('D:/STEIN_paper/model_outputs/stochastic_erosion/samples_output_' + str(import_05s[i]) + '.csv',\n",
    "                                  delimiter = ',')\n",
    "    measured05 = np.genfromtxt('D:/STEIN_paper/model_outputs/stochastic_erosion/measured_output_' + str(np.mean(import_05s)) + '.csv',\n",
    "                            delimiter = ',')\n",
    "    master_means05 = np.genfromtxt('D:/STEIN_paper/model_outputs/stochastic_erosion/all_year_means_output_' + str(np.mean(import_05s)) + '.csv',  \n",
    "                                    delimiter = ',')\n",
    "    \n",
    "master25 = np.empty((25000, 11, scenarios))\n",
    "samples25 = np.empty((sample_no, 6, scenarios))\n",
    "\n",
    "for i in range(scenarios):\n",
    "    master25[:,:,i] = np.genfromtxt('D:/STEIN_paper/model_outputs/stochastic_erosion/comparison_output_' + str(ERs_25[i]) + '.csv',  \n",
    "                                  delimiter = ',')\n",
    "    samples25[:,:,i] = np.genfromtxt('D:/STEIN_paper/model_outputs/stochastic_erosion/samples_output_' + str(ERs_25[i]) + '.csv',\n",
    "                                  delimiter = ',')\n",
    "    measured25 = np.genfromtxt('D:/STEIN_paper/model_outputs/stochastic_erosion/measured_output_' + str(np.mean(ERs_25)) + '.csv',\n",
    "                            delimiter = ',')\n",
    "    master_means25 = np.genfromtxt('D:/STEIN_paper/model_outputs/stochastic_erosion/all_year_means_output_' + str(np.mean(ERs_25)) + '.csv',  \n",
    "                                    delimiter = ',')"
   ]
  },
  {
   "cell_type": "code",
   "execution_count": 9,
   "metadata": {
    "code_folding": [
     0
    ]
   },
   "outputs": [],
   "source": [
    "def sampling_fxn(CN_import_matrix, sample_no, scenarios):\n",
    "    P0_Be10 = SLHL_Be10 * scaling_factor\n",
    "    P0_He3 = SLHL_Be10 * scaling_factor\n",
    "    sampling_years = np.sort(np.random.choice(np.arange(int(total_time * 0.1),total_time),sample_no))\n",
    "    sampling_mat = np.empty((sample_no, 6, scenarios))\n",
    "    measured = np.empty((6,scenarios))\n",
    "    \n",
    "    for j in range(scenarios):\n",
    "        \n",
    "        sampling_14C = []\n",
    "        sampling_Be = []\n",
    "        sampling_rat = []\n",
    "        sampling_3He = []\n",
    "    \n",
    "        for i in range(sample_no):           \n",
    "\n",
    "            sampling_14C.append(CN_import_matrix[sampling_years[i],0,j])\n",
    "            sampling_Be.append(CN_import_matrix[sampling_years[i],1,j])\n",
    "            sampling_rat.append(CN_import_matrix[sampling_years[i],2,j])\n",
    "            sampling_3He.append(CN_import_matrix[sampling_years[i],3,j])\n",
    "        \n",
    "        sampling_mat[:,0,j] = sampling_14C\n",
    "        sampling_mat[:,1,j] = sampling_Be\n",
    "        sampling_mat[:,2,j] = sampling_rat\n",
    "        sampling_mat[:,3,j] = sampling_3He\n",
    "        sampling_mat[:,4,j] = np.divide(sampling_3He,sampling_Be) * (P0_Be10 / P0_He3)\n",
    "        sampling_mat[:,5,j] = sampling_years\n",
    "        \n",
    "        \n",
    "        measured[0,j] = np.mean(sampling_mat[:,0,j])\n",
    "        measured[1,j] = np.mean(sampling_mat[:,1,j])\n",
    "        measured[2,j] = measured[0,j] / measured[1,j]\n",
    "        measured[3,j] = np.mean(sampling_mat[:,3,j])\n",
    "        measured[4,j] = (np.mean(sampling_mat[:,4,j]) / np.mean(sampling_mat[:,1])) * (P0_Be10 / P0_He3)\n",
    "        measured[5,j] = (160 / 2.62 * P0_Be10 / measured[1,j])\n",
    "    \n",
    "    measured_ER = [(160 / 2.62 * P0_Be10 / measured[1,j]) for j in range(scenarios)]\n",
    "    \n",
    "    return sampling_mat, measured, measured_ER  "
   ]
  },
  {
   "cell_type": "code",
   "execution_count": 10,
   "metadata": {
    "code_folding": [
     0
    ]
   },
   "outputs": [],
   "source": [
    "def high_yr_bias_fxn(num_biased_samples):\n",
    "    bias_years = [[[np.argmax(master_list[l][:,5,j])] for j in range(scenarios)] for l in range(4)]\n",
    "\n",
    "    bias_extract = np.empty((3, 1000, num_biased_samples, 6, scenarios))\n",
    "\n",
    "    for j in range(scenarios):\n",
    "        for l in range(3):\n",
    "            bias_extract[l,:,:,:,j] = master_list[l][bias_years[l][j],:6,j] \n",
    "\n",
    "    bias_samples_1000 = [[sampling_fxn(master_list[j], sample_no, scenarios)[0] for k in range(1000)] for j in range(4)]  \n",
    "    bias_samples_1000 = np.stack(bias_samples_1000)\n",
    "    bias_measured = np.empty((3,1000,6,scenarios))\n",
    "\n",
    "    for j in range(scenarios):\n",
    "            for l in range(3):\n",
    "                bias_samples_1000[l,:,:num_biased_samples,:,j] = bias_extract[l,:,:,:,j] \n",
    "\n",
    "    bias_measured = np.mean(bias_samples_1000, axis = 2)\n",
    "\n",
    "    for j in range(scenarios):\n",
    "        for k in range(1000):\n",
    "            for l in range(3):\n",
    "                bias_measured[l,k,5,j] = 160 / 2.62 * P0_Be10 / bias_measured[l,k,1,j]\n",
    "                bias_measured[l,k,2,j] = bias_measured[l,k,0,j] / bias_measured[l,k,1,j]\n",
    "                bias_measured[l,k,4,j] = bias_measured[l,k,3,j] / bias_measured[l,k,1,j] * (P0_Be10 / P0_He3)  \n",
    "\n",
    "    bias_measured_ER = bias_measured[:,:,5,:][:]\n",
    "    bias_ER_error = [[[(bias_measured_ER[l][k][j] - actual_ERs[l][j]) for j in range(scenarios)] for k in range(1000)] for l in range(4)]\n",
    "    bias_C14_error = [[[(bias_measured[l][k,2,j] - actual_means_list[l][8][j])  for j in range(scenarios)] for k in range(1000)] for l in range(4)] \n",
    "    C14_perc = [[[bias_measured[l][k,0,j] / bias_measured[l][k,1,j] * (P0_Be10 / P0_C14) for j in range(scenarios)] for k in range(1000)] for l in range(4)] \n",
    "\n",
    "    return bias_measured_ER, bias_ER_error, bias_C14_error, C14_perc"
   ]
  },
  {
   "cell_type": "code",
   "execution_count": 11,
   "metadata": {
    "code_folding": [
     0
    ]
   },
   "outputs": [],
   "source": [
    "def high_yr_bias_fxn_few(num_biased_samples):\n",
    "    bias_years = [[[np.argmax(master_list[l][:,5,j])] for j in range(scenarios)] for l in range(4)]\n",
    "\n",
    "    bias_extract = np.empty((3, 1000, num_biased_samples, 6, scenarios))\n",
    "\n",
    "    for j in range(scenarios):\n",
    "        for l in range(3):\n",
    "            bias_extract[l,:,:,:,j] = master_list[l][bias_years[l][j],:6,j] \n",
    "\n",
    "    bias_samples_1000 = [[sampling_fxn(master_list[j], 5, scenarios)[0] for k in range(1000)] for j in range(4)]  \n",
    "    bias_samples_1000 = np.stack(bias_samples_1000)\n",
    "    bias_measured = np.empty((3,1000,6,scenarios))\n",
    "\n",
    "    for j in range(scenarios):\n",
    "            for l in range(3):\n",
    "                bias_samples_1000[l,:,:num_biased_samples,:,j] = bias_extract[l,:,:,:,j] \n",
    "\n",
    "    bias_measured = np.mean(bias_samples_1000, axis = 2)\n",
    "\n",
    "    for j in range(scenarios):\n",
    "        for k in range(1000):\n",
    "            for l in range(3):\n",
    "                bias_measured[l,k,5,j] = 160 / 2.62 * P0_Be10 / bias_measured[l,k,1,j]\n",
    "                bias_measured[l,k,2,j] = bias_measured[l,k,0,j] / bias_measured[l,k,1,j]\n",
    "                bias_measured[l,k,4,j] = bias_measured[l,k,3,j] / bias_measured[l,k,1,j] * (P0_Be10 / P0_He3)  \n",
    "\n",
    "    bias_measured_ER = bias_measured[:,:,5,:][:]\n",
    "    bias_ER_error = [[[(bias_measured_ER[l][k][j] - actual_ERs[l][j]) for j in range(scenarios)] for k in range(1000)] for l in range(4)]\n",
    "    bias_C14_error = [[[(bias_measured[l][k,2,j] - actual_means_list[l][8][j])  for j in range(scenarios)] for k in range(1000)] for l in range(4)] \n",
    "    C14_perc = [[[bias_measured[l][k,0,j] / bias_measured[l][k,1,j] * (P0_Be10 / P0_C14) for j in range(scenarios)] for k in range(1000)] for l in range(4)] \n",
    "\n",
    "    return bias_measured_ER, bias_ER_error, bias_C14_error, C14_perc"
   ]
  },
  {
   "cell_type": "code",
   "execution_count": 12,
   "metadata": {
    "code_folding": [
     0
    ]
   },
   "outputs": [],
   "source": [
    "def high_yr_200_bias_fxn(num_biased_samples):\n",
    "    scenarios = 10\n",
    "    scenario = 7\n",
    "    bias_years = [[[np.argmax(master_list[l][:,5,j])+150] for j in range(3,scenarios)] for l in range(4)]\n",
    "\n",
    "    bias_extract = np.empty((3, 1000, num_biased_samples, 6, scenario))\n",
    "\n",
    "    for j in range(scenario):\n",
    "        for l in range(3):\n",
    "            bias_extract[l,:,:,:,j] = master_list[l][bias_years[l][j],:6,j] \n",
    "\n",
    "    bias_samples_1000 = [[sampling_fxn(master_list[j], sample_no, scenario)[0] for k in range(1000)] for j in range(4)]  \n",
    "    bias_samples_1000 = np.stack(bias_samples_1000)\n",
    "    bias_measured = np.empty((3,1000,6,scenario))\n",
    "\n",
    "    for j in range(scenario):\n",
    "            for l in range(3):\n",
    "                bias_samples_1000[l,:,:num_biased_samples,:,j] = bias_extract[l,:,:,:,j] \n",
    "\n",
    "    bias_measured = np.mean(bias_samples_1000, axis = 2)\n",
    "\n",
    "    for j in range(scenario):\n",
    "        for k in range(1000):\n",
    "            for l in range(3):\n",
    "                bias_measured[l,k,5,j] = 160 / 2.62 * P0_Be10 / bias_measured[l,k,1,j]\n",
    "                bias_measured[l,k,2,j] = bias_measured[l,k,0,j] / bias_measured[l,k,1,j]\n",
    "                bias_measured[l,k,4,j] = bias_measured[l,k,3,j] / bias_measured[l,k,1,j] * (P0_Be10 / P0_He3)  \n",
    "\n",
    "    bias_measured_ER = bias_measured[:,:,5,:][:]\n",
    "    bias_ER_error = [[[(bias_measured_ER[l][k][j] - actual_ERs[l][j+3]) for j in range(scenario)] for k in range(1000)] for l in range(4)]\n",
    "    bias_C14_error = [[[(bias_measured[l][k,2,j] - actual_means_list[l][8][j+3])  for j in range(scenario)] for k in range(1000)] for l in range(4)] \n",
    "    C14_perc = [[[bias_measured[l][k,0,j] / bias_measured[l][k,1,j] * (P0_Be10 / P0_C14) for j in range(scenario)] for k in range(1000)] for l in range(4)] \n",
    "    \n",
    "    return bias_measured_ER, bias_ER_error, bias_C14_error, C14_perc"
   ]
  },
  {
   "cell_type": "code",
   "execution_count": 13,
   "metadata": {
    "code_folding": [
     0
    ]
   },
   "outputs": [],
   "source": [
    "def sampling_fxn_roll_bi(CN_import_matrix,sample_no,year):\n",
    "    P0_Be10 = SLHL_Be10 * scaling_factor\n",
    "    P0_He3 = SLHL_Be10 * scaling_factor\n",
    "    sampling_years = np.sort(np.random.choice(np.arange(int(year * 0.1),year), sample_no))\n",
    "    sampling_mat = np.empty((sample_no, 6))\n",
    "    measured = np.empty((6,1))\n",
    "\n",
    "    sampling_14C = []\n",
    "    sampling_Be = []\n",
    "    sampling_rat = []\n",
    "    sampling_3He = []\n",
    "\n",
    "    for i in range(sample_no):           \n",
    "\n",
    "        sampling_14C.append(CN_import_matrix[sampling_years[i],0,run])\n",
    "        sampling_Be.append(CN_import_matrix[sampling_years[i],1,run])\n",
    "        sampling_rat.append(CN_import_matrix[sampling_years[i],2,run])\n",
    "        sampling_3He.append(CN_import_matrix[sampling_years[i],3,run])\n",
    "\n",
    "    sampling_mat[:,0] = sampling_14C\n",
    "    sampling_mat[:,1] = sampling_Be\n",
    "    sampling_mat[:,2] = sampling_rat\n",
    "    sampling_mat[:,3] = sampling_3He\n",
    "    sampling_mat[:,4] = np.divide(sampling_3He,sampling_Be) * (P0_Be10 / P0_He3)\n",
    "    sampling_mat[:,5] = sampling_years\n",
    "\n",
    "\n",
    "    measured[0,] = np.mean(sampling_mat[:0])\n",
    "    measured[1,] = np.mean(sampling_mat[:1])\n",
    "    measured[2,] = measured[0] / measured[1]\n",
    "    measured[3,] = np.mean(sampling_mat[:,3])\n",
    "    measured[4,] = (np.mean(sampling_mat[:,4]) / np.mean(sampling_mat[:,1])) * (P0_Be10 / P0_He3)\n",
    "    measured[5,] = (160 / 2.62 * P0_Be10 / measured[1,])\n",
    "\n",
    "    measured_ER = (160 / 2.62 * P0_Be10 / measured[1,])\n",
    "\n",
    "    return sampling_mat, measured, measured_ER "
   ]
  },
  {
   "cell_type": "code",
   "execution_count": 14,
   "metadata": {
    "code_folding": [
     0
    ]
   },
   "outputs": [],
   "source": [
    "def rolling_bias(num_biased_samples,year,pareto,run):\n",
    "    #    bias_years = [[[np.argmax(master_list[l][:,5,j])+150] for j in range(3,scenarios)] for l in range(4)]\n",
    "\n",
    "    bias_extract = np.empty((num_biased_samples, 6))\n",
    "\n",
    "    bias_extract[:,:] = master_list[pareto][year,:6,run] \n",
    "\n",
    "    bias_samples = sampling_fxn_roll_bi(master_list[pareto], 30, year)[0]\n",
    "    bias_samples[:num_biased_samples,:] = bias_extract[:,:] \n",
    "    bias_measured = np.mean(bias_samples, axis = 0)\n",
    "    \n",
    "    bias_measured_ER = 160 / 2.62 * P0_Be10 / bias_measured[1]\n",
    "    bias_measured_rat = bias_measured[0] / bias_measured[1]\n",
    "    bias_measured_He = bias_measured[3] / bias_measured[1] * (P0_Be10 / P0_He3)  \n",
    "  \n",
    "    return bias_measured_ER, bias_measured_rat, bias_measured_He, bias_samples"
   ]
  },
  {
   "cell_type": "code",
   "execution_count": 15,
   "metadata": {
    "code_folding": [
     5,
     19,
     38,
     57,
     76
    ]
   },
   "outputs": [],
   "source": [
    "master0 = np.empty((total_time, 11, scenarios))\n",
    "samples0 = np.empty((sample_no, 6, scenarios))\n",
    "He3_OG0 = np.empty((scenarios,))\n",
    "Test_OG0 = np.empty((scenarios,))\n",
    "\n",
    "for i in range(0,3):\n",
    "    master0[:,:,i] = np.genfromtxt('D:/STEIN_paper/model_outputs/stochastic_erosion/comparison_output_' + str(pareto_0ER[i]) + '.csv',  \n",
    "                                  delimiter = ',')\n",
    "    samples0[:,:,i] = np.genfromtxt('D:/STEIN_paper/model_outputs/stochastic_erosion/samples_output_' + str(pareto_0ER[i]) + '.csv',\n",
    "                                  delimiter = ',')\n",
    "    measured0 = np.genfromtxt('D:/STEIN_paper/model_outputs/stochastic_erosion/measured_output_' + str(0.09840629477594534) + '.csv',\n",
    "                            delimiter = ',')\n",
    "    master_means0 = np.genfromtxt('D:/STEIN_paper/model_outputs/stochastic_erosion/all_year_means_output_' + str(0.09840629477594534) + '.csv',  \n",
    "                                    delimiter = ',')\n",
    "    He3_OG0[i]= np.mean(np.genfromtxt('D:/STEIN_paper/model_outputs/constant_erosion/CON_He3_ER' + str(pareto_0ER[i]) + '._surfmat.csv',\n",
    "                                     delimiter = ',')[5000:,])\n",
    "    Test_OG0[i] = np.mean(np.genfromtxt('D:/STEIN_paper/model_outputs/constant_erosion/CON_C14_10Be_ER' + str(pareto_0ER[i]) + '_expmat.csv', delimiter = ','))              \n",
    "    master_means0 = np.vstack([master_means0, He3_OG0])\n",
    "    \n",
    "for i in range(5,9):\n",
    "    master0[:,:,i] = np.genfromtxt('D:/STEIN_paper/model_outputs/stochastic_erosion/comparison_output_' + str(pareto_0ER[i]) + '.csv',  \n",
    "                                  delimiter = ',')\n",
    "    samples0[:,:,i] = np.genfromtxt('D:/STEIN_paper/model_outputs/stochastic_erosion/samples_output_' + str(pareto_0ER[i]) + '.csv',\n",
    "                                  delimiter = ',')\n",
    "    measured0 = np.genfromtxt('D:/STEIN_paper/model_outputs/stochastic_erosion/measured_output_' + str(0.09840629477594534) + '.csv',\n",
    "                            delimiter = ',')\n",
    "    master_means0 = np.genfromtxt('D:/STEIN_paper/model_outputs/stochastic_erosion/all_year_means_output_' + str(0.09840629477594534) + '.csv',  \n",
    "                                    delimiter = ',')\n",
    "    He3_OG0[i]= np.mean(np.genfromtxt('D:/STEIN_paper/model_outputs/constant_erosion/CON_He3_ER' + str(pareto_0ER[i]) + '._surfmat.csv',\n",
    "                                     delimiter = ',')[5000:,])\n",
    "    Test_OG0[i] = np.mean(np.genfromtxt('D:/STEIN_paper/model_outputs/constant_erosion/CON_C14_10Be_ER' + str(pareto_0ER[i]) + '_expmat.csv', delimiter = ','))              \n",
    "    master_means0 = np.vstack([master_means0, He3_OG0])\n",
    "    \n",
    "master1 = np.empty((total_time, 11, scenarios))\n",
    "samples1 = np.empty((sample_no, 6, scenarios))\n",
    "He3_OG1 = np.empty((scenarios,))\n",
    "Test_OG1 = np.empty((scenarios,))\n",
    "\n",
    "for i in range(scenarios):\n",
    "    master1[:,:,i] = np.genfromtxt('D:/STEIN_paper/model_outputs/stochastic_erosion/comparison_output_' + str(pareto_1ER[i]) + '.csv',  \n",
    "                                  delimiter = ',')\n",
    "    samples1[:,:,i] = np.genfromtxt('D:/STEIN_paper/model_outputs/stochastic_erosion/samples_output_' + str(pareto_1ER[i]) + '.csv',\n",
    "                                  delimiter = ',')\n",
    "    measured1 = np.genfromtxt('D:/STEIN_paper/model_outputs/stochastic_erosion/measured_output_' + str(np.mean(pareto_1ER)) + '.csv',\n",
    "                            delimiter = ',')\n",
    "    master_means1 = np.genfromtxt('D:/STEIN_paper/model_outputs/stochastic_erosion/all_year_means_output_' + str(np.mean(pareto_1ER)) + '.csv',  \n",
    "                                    delimiter = ',')\n",
    "    He3_OG1[i]= np.mean(np.genfromtxt('D:/STEIN_paper/model_outputs/constant_erosion/CON_He3_ER' + str(pareto_1ER[i]) + '._surfmat.csv',\n",
    "                                     delimiter = ',')[5000:,])\n",
    "    Test_OG1[i] = np.mean(np.genfromtxt('D:/STEIN_paper/model_outputs/constant_erosion/CON_C14_10Be_ER' + str(pareto_1ER[i]) + '_expmat.csv', delimiter = ','))              \n",
    "    master_means1 = np.vstack([master_means1, He3_OG1])\n",
    "    \n",
    "master2 = np.empty((total_time, 11, scenarios))\n",
    "samples2 = np.empty((sample_no, 6, scenarios))\n",
    "He3_OG2 = np.empty((scenarios,))\n",
    "Test_OG2 = np.empty((scenarios,))\n",
    "\n",
    "for i in range(scenarios):\n",
    "    master2[:,:,i] = np.genfromtxt('D:/STEIN_paper/model_outputs/stochastic_erosion/comparison_output_' + str(pareto_2ER[i]) + '.csv',  \n",
    "                                  delimiter = ',')    \n",
    "    samples2[:,:,i] = np.genfromtxt('D:/STEIN_paper/model_outputs/stochastic_erosion/samples_output_' + str(pareto_2ER[i]) + '.csv',\n",
    "                                  delimiter = ',')\n",
    "    measured2 = np.genfromtxt('D:/STEIN_paper/model_outputs/stochastic_erosion/measured_output_' + str(np.mean(pareto_2ER)) + '.csv',\n",
    "                            delimiter = ',')\n",
    "    master_means2 = np.genfromtxt('D:/STEIN_paper/model_outputs/stochastic_erosion/all_year_means_output_' + str(np.mean(pareto_2ER)) + '.csv',  \n",
    "                                    delimiter = ',')\n",
    "    He3_OG2[i]= np.mean(np.genfromtxt('D:/STEIN_paper/model_outputs/constant_erosion/CON_He3_ER' + str(pareto_2ER[i]) + '._surfmat.csv',\n",
    "                                     delimiter = ',')[5000:,])\n",
    "    Test_OG2[i] = np.mean(np.genfromtxt('D:/STEIN_paper/model_outputs/constant_erosion/CON_C14_10Be_ER' + str(pareto_2ER[i]) + '_expmat.csv', delimiter = ','))                     \n",
    "    master_means2 = np.vstack([master_means1, He3_OG2])\n",
    "    \n",
    "master3 = np.empty((total_time, 11, scenarios))\n",
    "samples3 = np.empty((sample_no, 6, scenarios))\n",
    "He3_OG3 = np.empty((scenarios,))\n",
    "Test_OG3 = np.empty((scenarios,))\n",
    "\n",
    "for i in range(scenarios):\n",
    "    master3[:,:,i] = np.genfromtxt('D:/STEIN_paper/model_outputs/stochastic_erosion/comparison_output_' + str(pareto_3ER[i]) + '.csv',  \n",
    "                                  delimiter = ',')\n",
    "    samples3[:,:,i] = np.genfromtxt('D:/STEIN_paper/model_outputs/stochastic_erosion/samples_output_' + str(pareto_3ER[i]) + '.csv',\n",
    "                                  delimiter = ',')\n",
    "    measured3 = np.genfromtxt('D:/STEIN_paper/model_outputs/stochastic_erosion/measured_output_' + str(np.mean(pareto_3ER)) + '.csv',\n",
    "                            delimiter = ',')\n",
    "    master_means3 = np.genfromtxt('D:/STEIN_paper/model_outputs/stochastic_erosion/all_year_means_output_' + str(np.mean(pareto_3ER)) + '.csv',  \n",
    "                                    delimiter = ',')\n",
    "    He3_OG3[i] = np.mean(np.genfromtxt('D:/STEIN_paper/model_outputs/constant_erosion/CON_He3_ER' + str(pareto_3ER[i]) + '._surfmat.csv',\n",
    "                                     delimiter = ',')[5000:])\n",
    "    master_means3 = np.vstack([master_means3, He3_OG3])"
   ]
  },
  {
   "cell_type": "code",
   "execution_count": 16,
   "metadata": {},
   "outputs": [],
   "source": [
    "master_list = [master0, master1, master2, master3]\n",
    "samples_list = [samples0, samples1, samples2, samples3]\n",
    "measured_list = [measured0, measured1, measured2, measured3]\n",
    "actual_means_list = [master_means0, master_means1, master_means2, master_means3]\n",
    "actual_ERs = [[np.sum(master_list[k][1750:, 5, j]) / (17500 - 1750) for j in range(scenarios)] for k in range(4)]\n",
    "measured_ER = [[(160 / 2.62 * P0_Be10 / measured_list[k][1,j]) for j in range(scenarios)] for k in range(4)]\n",
    "ER_error = [[(actual_ERs[k][j] - measured_ER[k][j]) for j in range(scenarios)] for k in range(4)]\n",
    "measured_He_ER = [[(160 / 2.62 * P0_He3 / measured_list[k][3,j]) for j in range(scenarios)] for k in range(4)]\n",
    "C14_percent = [[[measured_list[k][0,j] / measured_list[k][1,j] * (P0_Be10 / P0_C14)] for j in range(scenarios)] for k in range(4)]\n",
    "# scaled_C14_error = [[(measured_list[j][2,i] / measured_list[j][k,i]) - actual_means_list[j][8][i] for i in range(scenarios)] for j in range(3)] \n",
    "C14_error = [[measured_list[k][2,j] - actual_means_list[k][8][j] for j in range(scenarios)] for k in range(4)] "
   ]
  },
  {
   "cell_type": "code",
   "execution_count": 17,
   "metadata": {},
   "outputs": [
    {
     "name": "stderr",
     "output_type": "stream",
     "text": [
      "C:\\Users\\dennis\\Anaconda3\\lib\\site-packages\\ipykernel_launcher.py:26: RuntimeWarning: invalid value encountered in true_divide\n",
      "C:\\Users\\dennis\\Anaconda3\\lib\\site-packages\\ipykernel_launcher.py:32: RuntimeWarning: invalid value encountered in double_scalars\n",
      "C:\\Users\\dennis\\Anaconda3\\lib\\site-packages\\ipykernel_launcher.py:35: RuntimeWarning: divide by zero encountered in double_scalars\n",
      "C:\\Users\\dennis\\Anaconda3\\lib\\site-packages\\ipykernel_launcher.py:37: RuntimeWarning: divide by zero encountered in double_scalars\n",
      "C:\\Users\\dennis\\Anaconda3\\lib\\site-packages\\ipykernel_launcher.py:3: RuntimeWarning: invalid value encountered in double_scalars\n",
      "  This is separate from the ipykernel package so we can avoid doing imports until\n",
      "C:\\Users\\dennis\\Anaconda3\\lib\\site-packages\\ipykernel_launcher.py:4: RuntimeWarning: divide by zero encountered in double_scalars\n",
      "  after removing the cwd from sys.path.\n",
      "C:\\Users\\dennis\\Anaconda3\\lib\\site-packages\\ipykernel_launcher.py:5: RuntimeWarning: divide by zero encountered in double_scalars\n",
      "  \"\"\"\n",
      "C:\\Users\\dennis\\Anaconda3\\lib\\site-packages\\ipykernel_launcher.py:7: RuntimeWarning: invalid value encountered in true_divide\n",
      "  import sys\n"
     ]
    }
   ],
   "source": [
    "sampling_1000 = [[sampling_fxn(master_list[k], sample_no, scenarios)[1] for i in range(1000)] for k in range(4)]  \n",
    "C14_error_1000 = [[[sampling_1000[l][k][2,j] - actual_means_list[l][8][j] for j in range(scenarios)] for k in range(1000)] for l in range(4)]\n",
    "C14_percent_1000 = [[[sampling_1000[l][k][0,j] / sampling_1000[l][k][1,j] * (P0_Be10/ P0_C14) for j in range(scenarios)] for k in range(1000)] for l in range(4)]\n",
    "measured_ER_1000 = [[[(160 / 2.62 * P0_Be10 / sampling_1000[l][k][1][j]) for j in range(scenarios)] for k in range(1000)] for l in range(4)]\n",
    "measured_He_ER_1000 = [[[(160 / 2.62 * P0_He3 / sampling_1000[l][k][3][j]) for j in range(scenarios)] for k in range(1000)] for l in range(4)]\n",
    "ER_error_1000 = [[[(actual_ERs[l][j] - measured_ER_1000[l][k][j]) for j in range(scenarios)] for k in range(1000)] for l in range(4)]\n",
    "measured_perc_1000 = [[[(np.divide(sampling_1000[l][k][3][j],sampling_1000[l][k][1][j]) * (P0_Be10 / P0_He3))  for j in range(scenarios)] for k in range(1000)] for l in range(4)]\n",
    "He_error_1000 = [[[(measured_perc_1000[l][k][j] - actual_means_list[l][10][j])*100 for j in range(scenarios)] for k in range(1000)] for l in range(4)]"
   ]
  },
  {
   "cell_type": "code",
   "execution_count": 18,
   "metadata": {},
   "outputs": [],
   "source": [
    "master_other = [master05, master25]\n",
    "samples_other = [samples05, samples25]\n",
    "measured_other = [measured05, measured25]\n",
    "actual_means_other = [master_means05, master_means25]\n",
    "actual_ERs_other = [[np.sum(master_other[k][2500:,5,j])/(25000 - 2500) for j in range(scenarios)] for k in range(2)]  \n",
    "measured_ER_other = [[(160 / 2.62 * 3.89 / measured_other[k][1,j]) for j in range(scenarios)] for k in range(2)]\n",
    "ER_error_other = [[(actual_ERs_other[k][j] - measured_ER_other[k][j]) for j in range(scenarios)] for k in range(2)]  \n",
    "measured_He_ER_other = [[(160 / 2.62 * P0_He3 / measured_other[k][3,j]) for j in range(scenarios)] for k in range(2)]\n",
    "C14_percent_other = [[[measured_other[k][0,j] / measured_other[k][1,j] * (3.89 / P0_C14)] for j in range(scenarios)] for k in range(2)]\n",
    "C14_error_other = [[measured_other[k][2,j] - actual_means_other[k][8][j] for j in range(scenarios)] for k in range(2)] \n",
    "sampling_1000_other = [[sampling_fxn(master_other[k], sample_no, scenarios)[1] for i in range(1000)] for k in range(2)]  \n",
    "C14_error_1000_other = [[[sampling_1000_other[l][k][2,j] - actual_means_other[l][8][j] for j in range(scenarios)] for k in range(1000)] for l in range(2)]\n",
    "C14_percent_1000_other = [[[sampling_1000_other[l][k][0,j] / sampling_1000_other[l][k][1,j] * (3.89 / P0_C14) for j in range(scenarios)] for k in range(1000)] for l in range(2)]\n",
    "measured_ER_1000_other = [[[(160 / 2.62 * 3.89 / sampling_1000_other[l][k][1][j]) for j in range(scenarios)] for k in range(1000)] for l in range(2)]\n",
    "measured_He_ER_1000_other = [[[(160 / 2.62 * P0_He3 / sampling_1000_other[l][k][3][j]) for j in range(scenarios)] for k in range(1000)] for l in range(2)]\n",
    "ER_error_1000_other = [[[(actual_ERs_other[l][j] - measured_ER_1000_other[l][k][j]) for j in range(scenarios)] for k in range(1000)] for l in range(2)]\n",
    "measured_perc_1000_other = [[[(np.divide(sampling_1000_other[l][k][3][j],sampling_1000_other[l][k][1][j]) * (3.89 / P0_He3))  for j in range(scenarios)] for k in range(1000)] for l in range(2)]\n",
    "He_error_1000_other = [[[(measured_perc_1000_other[l][k][j] - actual_means_other[l][10][j])*100 for j in range(scenarios)] for k in range(1000)] for l in range(2)]"
   ]
  },
  {
   "cell_type": "code",
   "execution_count": 19,
   "metadata": {},
   "outputs": [
    {
     "name": "stderr",
     "output_type": "stream",
     "text": [
      "C:\\Users\\dennis\\Anaconda3\\lib\\site-packages\\ipykernel_launcher.py:26: RuntimeWarning: invalid value encountered in true_divide\n",
      "C:\\Users\\dennis\\Anaconda3\\lib\\site-packages\\ipykernel_launcher.py:32: RuntimeWarning: invalid value encountered in double_scalars\n",
      "C:\\Users\\dennis\\Anaconda3\\lib\\site-packages\\ipykernel_launcher.py:35: RuntimeWarning: divide by zero encountered in double_scalars\n",
      "C:\\Users\\dennis\\Anaconda3\\lib\\site-packages\\ipykernel_launcher.py:37: RuntimeWarning: divide by zero encountered in double_scalars\n",
      "C:\\Users\\dennis\\Anaconda3\\lib\\site-packages\\ipykernel_launcher.py:23: RuntimeWarning: divide by zero encountered in double_scalars\n",
      "C:\\Users\\dennis\\Anaconda3\\lib\\site-packages\\ipykernel_launcher.py:24: RuntimeWarning: invalid value encountered in double_scalars\n",
      "C:\\Users\\dennis\\Anaconda3\\lib\\site-packages\\ipykernel_launcher.py:25: RuntimeWarning: invalid value encountered in double_scalars\n",
      "C:\\Users\\dennis\\Anaconda3\\lib\\site-packages\\ipykernel_launcher.py:30: RuntimeWarning: invalid value encountered in double_scalars\n"
     ]
    }
   ],
   "source": [
    "only_3 = high_yr_bias_fxn_few(2)"
   ]
  },
  {
   "cell_type": "code",
   "execution_count": 33,
   "metadata": {
    "scrolled": true
   },
   "outputs": [
    {
     "name": "stderr",
     "output_type": "stream",
     "text": [
      "C:\\Users\\dennis\\Anaconda3\\lib\\site-packages\\ipykernel_launcher.py:26: RuntimeWarning: invalid value encountered in true_divide\n",
      "C:\\Users\\dennis\\Anaconda3\\lib\\site-packages\\ipykernel_launcher.py:32: RuntimeWarning: invalid value encountered in double_scalars\n",
      "C:\\Users\\dennis\\Anaconda3\\lib\\site-packages\\ipykernel_launcher.py:35: RuntimeWarning: divide by zero encountered in double_scalars\n",
      "C:\\Users\\dennis\\Anaconda3\\lib\\site-packages\\ipykernel_launcher.py:37: RuntimeWarning: divide by zero encountered in double_scalars\n",
      "C:\\Users\\dennis\\Anaconda3\\lib\\site-packages\\ipykernel_launcher.py:25: RuntimeWarning: divide by zero encountered in double_scalars\n",
      "C:\\Users\\dennis\\Anaconda3\\lib\\site-packages\\ipykernel_launcher.py:26: RuntimeWarning: invalid value encountered in double_scalars\n",
      "C:\\Users\\dennis\\Anaconda3\\lib\\site-packages\\ipykernel_launcher.py:27: RuntimeWarning: invalid value encountered in double_scalars\n"
     ]
    }
   ],
   "source": [
    "bias_200_half = high_yr_200_bias_fxn(15)\n",
    "bias_200_10 = high_yr_200_bias_fxn(10)\n",
    "bias_200_5 = high_yr_200_bias_fxn(5)"
   ]
  },
  {
   "cell_type": "code",
   "execution_count": null,
   "metadata": {},
   "outputs": [
    {
     "name": "stderr",
     "output_type": "stream",
     "text": [
      "C:\\Users\\dennis\\Anaconda3\\lib\\site-packages\\ipykernel_launcher.py:26: RuntimeWarning: invalid value encountered in true_divide\n",
      "C:\\Users\\dennis\\Anaconda3\\lib\\site-packages\\ipykernel_launcher.py:32: RuntimeWarning: invalid value encountered in double_scalars\n",
      "C:\\Users\\dennis\\Anaconda3\\lib\\site-packages\\ipykernel_launcher.py:35: RuntimeWarning: divide by zero encountered in double_scalars\n",
      "C:\\Users\\dennis\\Anaconda3\\lib\\site-packages\\ipykernel_launcher.py:37: RuntimeWarning: divide by zero encountered in double_scalars\n",
      "C:\\Users\\dennis\\Anaconda3\\lib\\site-packages\\numpy\\core\\_methods.py:151: RuntimeWarning: overflow encountered in reduce\n",
      "  ret = umr_sum(arr, axis, dtype, out, keepdims)\n"
     ]
    }
   ],
   "source": [
    "bias_high_half = high_yr_bias_fxn(15)"
   ]
  },
  {
   "cell_type": "code",
   "execution_count": 20,
   "metadata": {},
   "outputs": [],
   "source": [
    "'''\n",
    "Compiling a matrix of 1D objects to perform multiple linear regression or principal \n",
    "components analyis.\n",
    "'''\n",
    "\n",
    "actual_ERs_pca_list = []\n",
    "measured_ER_pca_list = []\n",
    "ER_error_pca_list = []\n",
    "C14_error_pca_list = []\n",
    "C14_perc_pca_list = []\n",
    "\n",
    "# actual_ERs_pca_list.append(np.concatenate([np.concatenate([[actual_ERs[l][j]] * 1000 for j in range(scenarios)]) for l in range(1,4)]))  \n",
    "\n",
    "\n",
    "[[[measured_ER_pca_list.append(measured_ER_1000[l][k][j]) for j in range(scenarios)] for k in range(1000)] for l in range(1,4)]  \n",
    "[[[ER_error_pca_list.append(ER_error_1000[l][k][j]) for j in range(scenarios)] for k in range(1000)] for l in range(1,4)]  \n",
    "[[[C14_error_pca_list.append(C14_error_1000[l][k][j]) for j in range(scenarios)] for k in range(1000)] for l in range(1,4)]  \n",
    "[[[C14_perc_pca_list.append(C14_percent_1000[l][k][j]) for j in range(scenarios)] for k in range(1000)] for l in range(1,4)]\n",
    "\n",
    "# actual_ERs_pca_list.append(np.concatenate([[actual_ERs[0][j]] * 1000 for j in range(0,3)]))\n",
    "[[measured_ER_pca_list.append(measured_ER_1000[0][k][j]) for j in range(0,3)] for k in range(1000)] \n",
    "[[ER_error_pca_list.append(ER_error_1000[0][k][j]) for j in range(0,3)] for k in range(1000)]  \n",
    "[[C14_error_pca_list.append(C14_error_1000[0][k][j]) for j in range(0,3)] for k in range(1000)]  \n",
    "[[C14_perc_pca_list.append(C14_percent_1000[0][k][j]) for j in range(0,3)] for k in range(1000)]\n",
    " \n",
    "# actual_ERs_pca_list.append(np.concatenate([[actual_ERs[0][j]] * 1000 for j in range(5,9)]))\n",
    "[[measured_ER_pca_list.append(measured_ER_1000[0][k][j]) for j in range(5,9)] for k in range(1000)] \n",
    "[[ER_error_pca_list.append(ER_error_1000[0][k][j]) for j in range(5,9)] for k in range(1000)]  \n",
    "[[C14_error_pca_list.append(C14_error_1000[0][k][j]) for j in range(5,9)] for k in range(1000)]  \n",
    "[[C14_perc_pca_list.append(C14_percent_1000[0][k][j]) for j in range(5,9)] for k in range(1000)]\n",
    "\n",
    "actual_ERs_pca_list = np.concatenate([[actual_ERs[0][0]] * 1000] + [[actual_ERs[0][1]] * 1000] +\n",
    "               [[actual_ERs[0][2]] * 1000] + [[actual_ERs[0][6]] * 1000] + \n",
    "               [[actual_ERs[0][7]] * 1000] + [[actual_ERs[0][8]] * 1000] + \n",
    "               [[actual_ERs[0][7]] * 1000] +\n",
    "               [np.concatenate([np.concatenate([[actual_ERs[l][j]] * 1000 for j in range(scenarios)]) for l in range(1,4)])])\n",
    "\n",
    "pca_mat = np.empty((37000,5))\n",
    "pca_mat[:,4] = actual_ERs_pca_list\n",
    "pca_mat[:,1] = measured_ER_pca_list\n",
    "pca_mat[:,3] = ER_error_pca_list\n",
    "pca_mat[:,2] = C14_error_pca_list\n",
    "pca_mat[:,0] = C14_perc_pca_list"
   ]
  },
  {
   "cell_type": "code",
   "execution_count": 21,
   "metadata": {},
   "outputs": [],
   "source": [
    "actual_ERs_drop = [0] * 18\n",
    "actual_ERs_drop[:4] = actual_ERs[0][5:9]\n",
    "actual_ERs_drop[4:11] = actual_ERs[1][3:]\n",
    "actual_ERs_drop[11:] = actual_ERs[2][3:]"
   ]
  },
  {
   "cell_type": "code",
   "execution_count": 36,
   "metadata": {},
   "outputs": [],
   "source": [
    "\n",
    "actual_ERs_only_few = []\n",
    "measured_ER_only_3 = []\n",
    "ER_error_only_3 = []\n",
    "C14_error_only_3 = []\n",
    "C14_rat_only_3 = []\n",
    "C14_perc_only_3 = []\n",
    "\n",
    "# actual_ERs_pca_list.append(np.concatenate([np.concatenate([[actual_ERs[l][j]] * 1000 for j in range(scenarios)]) for l in range(1,4)]))  \n",
    "\n",
    "\n",
    "[[[measured_ER_only_3.append(only_3[0][l][k][j]) for j in range(7)] for k in range(1000)] for l in range(1,3)]  \n",
    "[[[ER_error_only_3.append(only_3[1][l][k][j]) for j in range(7)] for k in range(1000)] for l in range(1,3)]  \n",
    "[[[C14_error_only_3.append(only_3[2][l][k][j]) for j in range(7)] for k in range(1000)] for l in range(1,3)]    \n",
    "[[[C14_perc_only_3.append(only_3[3][l][k][j]) for j in range(7)] for k in range(1000)] for l in range(1,3)]    \n",
    "\n",
    "# [[[C14_rat_pca_list_bias.append(bias_200_half[])]]]\n",
    "\n",
    "actual_ERs_only_3 = np.array([np.concatenate([[actual_ERs_drop[i]] * 1000 for i in range(4,11)] + \n",
    "                                           [[actual_ERs_drop[i]] * 1000 for i in range(11,18)])])\n",
    "\n",
    "# measured_ER_pca_list_bias = [v for v in measured_ER_pca_list_bias if not math.isnan(v) and not math.isinf(v)]\n",
    "# ER_error_pca_list_bias = [v for v in ER_error_pca_list_bias if not math.isnan(v) and not math.isinf(v)]\n",
    "# C14_error_pca_list_bias = [v for v in C14_error_pca_list_bias if not math.isnan(v) and not math.isinf(v)]\n",
    "\n",
    "pca_mat_few = np.empty((14000,5))\n",
    "pca_mat_few[:,4] = actual_ERs_only_3[np.logical_not(np.isnan(actual_ERs_pca_list_bias))]\n",
    "pca_mat_few[:14000,1] = measured_ER_only_3\n",
    "pca_mat_few[:14000,3] = ER_error_only_3\n",
    "pca_mat_few[:14000,2] = [C14_error_only_3 [i] * (P0_Be10 / P0_C14) for i in range(14000)]\n",
    "pca_mat_few[:14000,0] = C14_perc_only_3   "
   ]
  },
  {
   "cell_type": "code",
   "execution_count": 40,
   "metadata": {},
   "outputs": [],
   "source": [
    "pca_mat_few_pred = np.exp(model_perc.predict(pca_mat_few[:,:3]))"
   ]
  },
  {
   "cell_type": "code",
   "execution_count": 837,
   "metadata": {},
   "outputs": [
    {
     "data": {
      "text/plain": [
       "0.5840305649259336"
      ]
     },
     "execution_count": 837,
     "metadata": {},
     "output_type": "execute_result"
    }
   ],
   "source": [
    "np.mean(pca_mat_few[:,2])"
   ]
  },
  {
   "cell_type": "code",
   "execution_count": 833,
   "metadata": {},
   "outputs": [
    {
     "name": "stdout",
     "output_type": "stream",
     "text": [
      "8.40852694491252e-05 0.0007578402384931395\n"
     ]
    }
   ],
   "source": [
    "print(np.mean([(pca_mat_few_pred[i] - pca_mat_few[i,4])**2 for i in range(len(pca_mat_few))]),   \n",
    "    np.mean([(pca_mat_few[i,1] - pca_mat_few[i,4])**2 for i in range(len(pca_mat_few))]))"
   ]
  },
  {
   "cell_type": "code",
   "execution_count": 86,
   "metadata": {},
   "outputs": [
    {
     "data": {
      "image/png": "[encoded data removed]",
      "text/plain": [
       "<Figure size 900x375 with 2 Axes>"
      ]
     },
     "metadata": {},
     "output_type": "display_data"
    }
   ],
   "source": [
    "jtplot.reset()\n",
    "\n",
    "fig, (ax1, ax2) = plt.subplots(ncols =2, nrows = 1,\n",
    "                              figsize = (9,3.75),\n",
    "                              tight_layout = True)\n",
    "# plt.scatter(pca_mat_few[:,4], pca_mat_few[:,1], alpha = 0.3)\n",
    "\n",
    "colors = ['#16697a', '#db6400', '#c4b6b6']\n",
    "texts = ['Reduced sample size', 'Post-large-event weighted', 'Largest event weighted']\n",
    "\n",
    "ax1.scatter(pca_mat_few[:,1], pca_mat_few[:,1] - pca_mat_few[:,4], \n",
    "            alpha = 0.3, color = colors[0])\n",
    "ax1.scatter(pca_mat_bias[:,1], pca_mat_bias[:,1] - pca_mat_bias[:,4],  \n",
    "            alpha = 0.3, color = colors[1])\n",
    "ax1.scatter(pca_mat_bias_high[:,1], pca_mat_bias_high[:,1] - pca_mat_bias_high[:,4],  \n",
    "            alpha = 0.3, color = colors[2])\n",
    "ax1.set_xlabel('Measured erosion rate (cm yr$^{-1}$)')\n",
    "ax1.set_ylabel('Measured erosion rate error (cm yr$^{-1}$)')\n",
    "\n",
    "ax2.scatter( pca_mat_few_pred, pca_mat_few_pred - pca_mat_few[:,4], \n",
    "            alpha = 0.3, color = colors[0])\n",
    "ax2.scatter(predictions_bias, predictions_bias - pca_mat_bias[:,4], \n",
    "            alpha = 0.3, color = colors[1])\n",
    "ax2.scatter(predictions_bias_high, predictions_bias_high - pca_mat_bias_high[:,4], \n",
    "            alpha = 0.3, color = colors[2])\n",
    "ax2.set_xlabel('Corrected erosion rate (cm yr$^{-1}$)')\n",
    "ax2.set_ylabel('Corrected erosion rate error (cm yr$^{-1}$)')\n",
    "\n",
    "patches = [ plt.plot([],[], marker='o', ms = 6, ls=\"\", mec=None, color=colors[i], \n",
    "            label=\"{:s}\".format(texts[i]) )[0]  for i in range(len(texts)) ]\n",
    "ax1.legend(handles = patches, fontsize = 8.75)\n",
    "\n",
    "plt.savefig('D:/STEIN_paper/model_outputs/figures/corrected_erosion_rates_and_error.jpg')\n"
   ]
  },
  {
   "cell_type": "code",
   "execution_count": 46,
   "metadata": {},
   "outputs": [],
   "source": [
    "'''\n",
    "Compiling a matrix of 1D objects to perform multiple linear regression or principal \n",
    "components analyis.\n",
    "'''\n",
    "\n",
    "actual_ERs_pca_list_bias = []\n",
    "measured_ER_pca_list_bias = []\n",
    "ER_error_pca_list_bias = []\n",
    "C14_error_pca_list_bias = []\n",
    "C14_rat_pca_list_bias = []\n",
    "C14_perc_pca_list_bias = []\n",
    "\n",
    "# actual_ERs_pca_list.append(np.concatenate([np.concatenate([[actual_ERs[l][j]] * 1000 for j in range(scenarios)]) for l in range(1,4)]))  \n",
    "\n",
    "\n",
    "[[[measured_ER_pca_list_bias.append(bias_200_half[0][l][k][j]) for j in range(7)] for k in range(1000)] for l in range(1,3)]  \n",
    "[[[ER_error_pca_list_bias.append(bias_200_half[1][l][k][j]) for j in range(7)] for k in range(1000)] for l in range(1,3)]  \n",
    "[[[C14_error_pca_list_bias.append(bias_200_half[2][l][k][j]) for j in range(7)] for k in range(1000)] for l in range(1,3)]    \n",
    "[[[C14_perc_pca_list_bias.append(bias_200_half[3][l][k][j]) for j in range(7)] for k in range(1000)] for l in range(1,3)]    \n",
    "\n",
    "# [[[C14_rat_pca_list_bias.append(bias_200_half[])]]]\n",
    "\n",
    "actual_ERs_pca_list_bias = np.array([np.concatenate([[actual_ERs_drop[i]] * 1000 for i in range(4,11)] + \n",
    "                                           [[actual_ERs_drop[i]] * 1000 for i in range(11,18)])])\n",
    "\n",
    "# measured_ER_pca_list_bias = [v for v in measured_ER_pca_list_bias if not math.isnan(v) and not math.isinf(v)]\n",
    "# ER_error_pca_list_bias = [v for v in ER_error_pca_list_bias if not math.isnan(v) and not math.isinf(v)]\n",
    "# C14_error_pca_list_bias = [v for v in C14_error_pca_list_bias if not math.isnan(v) and not math.isinf(v)]\n",
    "\n",
    "pca_mat_bias = np.empty((14000,5))\n",
    "pca_mat_bias[:,4] = actual_ERs_pca_list_bias[np.logical_not(np.isnan(actual_ERs_pca_list_bias))]\n",
    "pca_mat_bias[:14000,1] = measured_ER_pca_list_bias\n",
    "pca_mat_bias[:14000,3] = ER_error_pca_list_bias\n",
    "pca_mat_bias[:14000,2] = [C14_error_pca_list_bias[i] * (P0_Be10 / P0_C14) for i in range(14000)]\n",
    "pca_mat_bias[:14000,0] = C14_perc_pca_list_bias   "
   ]
  },
  {
   "cell_type": "code",
   "execution_count": 45,
   "metadata": {},
   "outputs": [],
   "source": [
    "actual_ERs_pca_list_bias_high = []\n",
    "measured_ER_pca_list_bias_high = []\n",
    "ER_error_pca_list_bias_high = []\n",
    "C14_error_pca_list_bias_high = []\n",
    "C14_rat_pca_list_bias_high = []\n",
    "C14_perc_pca_list_bias_high = []\n",
    "\n",
    "# actual_ERs_pca_list.append(np.concatenate([np.concatenate([[actual_ERs[l][j]] * 1000 for j in range(scenarios)]) for l in range(1,4)]))  \n",
    "\n",
    "\n",
    "[[[measured_ER_pca_list_bias_high.append(bias_high_half[0][l][k][j]) for j in range(7)] for k in range(1000)] for l in range(1,3)]  \n",
    "[[[ER_error_pca_list_bias_high.append(bias_high_half[1][l][k][j]) for j in range(7)] for k in range(1000)] for l in range(1,3)]  \n",
    "[[[C14_error_pca_list_bias_high.append(bias_high_half[2][l][k][j]) for j in range(7)] for k in range(1000)] for l in range(1,3)]    \n",
    "[[[C14_perc_pca_list_bias_high.append(bias_high_half[3][l][k][j]) for j in range(7)] for k in range(1000)] for l in range(1,3)]    \n",
    "\n",
    "actual_ERs_pca_list_bias_high = np.array([np.concatenate([[actual_ERs_drop[i]] * 1000 for i in range(4,11)] + \n",
    "                                           [[actual_ERs_drop[i]] * 1000 for i in range(11,18)])])\n",
    "\n",
    "# measured_ER_pca_list_bias = [v for v in measured_ER_pca_list_bias if not math.isnan(v) and not math.isinf(v)]\n",
    "# ER_error_pca_list_bias = [v for v in ER_error_pca_list_bias if not math.isnan(v) and not math.isinf(v)]\n",
    "# C14_error_pca_list_bias = [v for v in C14_error_pca_list_bias if not math.isnan(v) and not math.isinf(v)]\n",
    "\n",
    "pca_mat_bias_high = np.empty((14000,5))\n",
    "pca_mat_bias_high[:,4] = actual_ERs_pca_list_bias_high\n",
    "pca_mat_bias_high[:14000,1] = measured_ER_pca_list_bias_high\n",
    "pca_mat_bias_high[:14000,3] = ER_error_pca_list_bias_high\n",
    "pca_mat_bias_high[:14000,2] = [C14_error_pca_list_bias_high[i] * (P0_Be10 / P0_C14) for i in range(14000)]\n",
    "pca_mat_bias_high[:14000,0] = C14_perc_pca_list_bias_high"
   ]
  },
  {
   "cell_type": "code",
   "execution_count": 150,
   "metadata": {},
   "outputs": [],
   "source": [
    "pca_mat = pca_mat[37000:,:]"
   ]
  },
  {
   "cell_type": "code",
   "execution_count": 38,
   "metadata": {},
   "outputs": [],
   "source": [
    "'''\n",
    "Compiling a matrix of 1D objects to perform multiple linear regression or principal \n",
    "components analyis.\n",
    "'''\n",
    "\n",
    "actual_ERs_pca_list = []\n",
    "measured_ER_pca_list = []\n",
    "ER_error_pca_list = []\n",
    "C14_error_pca_list = []\n",
    "C14_perc_pca_list = []\n",
    "\n",
    "# actual_ERs_pca_list.append(np.concatenate([np.concatenate([[actual_ERs[l][j]] * 1000 for j in range(scenarios)]) for l in range(1,4)]))  \n",
    "\n",
    "\n",
    "[[[measured_ER_pca_list.append(measured_ER_1000[l][k][j]) for j in range(scenarios)] for k in range(1000)] for l in range(1,4)]  \n",
    "[[[ER_error_pca_list.append(ER_error_1000[l][k][j]) for j in range(scenarios)] for k in range(1000)] for l in range(1,4)]  \n",
    "[[[C14_error_pca_list.append(C14_error_1000[l][k][j]) for j in range(scenarios)] for k in range(1000)] for l in range(1,4)]  \n",
    "[[[C14_perc_pca_list.append(C14_percent_1000[l][k][j]) for j in range(scenarios)] for k in range(1000)] for l in range(1,4)]\n",
    "\n",
    "# actual_ERs_pca_list.append(np.concatenate([[actual_ERs[0][j]] * 1000 for j in range(0,3)]))\n",
    "[[measured_ER_pca_list.append(measured_ER_1000[0][k][j]) for j in range(0,3)] for k in range(1000)] \n",
    "[[ER_error_pca_list.append(ER_error_1000[0][k][j]) for j in range(0,3)] for k in range(1000)]  \n",
    "[[C14_error_pca_list.append(C14_error_1000[0][k][j]) for j in range(0,3)] for k in range(1000)]  \n",
    "[[C14_perc_pca_list.append(C14_percent_1000[0][k][j]) for j in range(0,3)] for k in range(1000)]\n",
    " \n",
    "    \n",
    "# actual_ERs_pca_list.append(np.concatenate([[actual_ERs[0][j]] * 1000 for j in range(5,9)]))\n",
    "[[measured_ER_pca_list.append(measured_ER_1000[0][k][j]) for j in range(5,9)] for k in range(1000)] \n",
    "[[ER_error_pca_list.append(ER_error_1000[0][k][j]) for j in range(5,9)] for k in range(1000)]  \n",
    "[[C14_error_pca_list.append(C14_error_1000[0][k][j]) for j in range(5,9)] for k in range(1000)]  \n",
    "[[C14_perc_pca_list.append(C14_percent_1000[0][k][j]) for j in range(5,9)] for k in range(1000)]\n",
    "\n",
    "[[[measured_ER_pca_list.append(measured_ER_1000_other[l][k][j]) for j in range(scenarios)] for k in range(1000)] for l in range(2)]  \n",
    "[[[ER_error_pca_list.append(ER_error_1000_other[l][k][j]) for j in range(scenarios)] for k in range(1000)] for l in range(2)]  \n",
    "[[[C14_error_pca_list.append(C14_error_1000_other[l][k][j]) for j in range(scenarios)] for k in range(1000)] for l in range(2)]  \n",
    "[[[C14_perc_pca_list.append(C14_percent_1000_other[l][k][j]) for j in range(scenarios)] for k in range(1000)] for l in range(2)]\n",
    "\n",
    "\n",
    "actual_ERs_pca_list = np.concatenate([[actual_ERs[0][0]] * 1000] + [[actual_ERs[0][1]] * 1000] +\n",
    "               [[actual_ERs[0][2]] * 1000] + [[actual_ERs[0][6]] * 1000] + \n",
    "               [[actual_ERs[0][7]] * 1000] + [[actual_ERs[0][8]] * 1000] + \n",
    "               [[actual_ERs[0][7]] * 1000] +\n",
    "               [np.concatenate([np.concatenate([[actual_ERs[l][j]] * 1000 for j in range(scenarios)]) for l in range(1,4)])] + \n",
    "               [np.concatenate([np.concatenate([[actual_ERs_other[l][j]] * 1000 for j in range(scenarios)]) for l in range(2)])])\n",
    "\n",
    "pca_mat = np.empty((57000,5))\n",
    "\n",
    "pca_mat[:,4] = actual_ERs_pca_list\n",
    "pca_mat[:,1] = measured_ER_pca_list\n",
    "pca_mat[:,3] = ER_error_pca_list\n",
    "pca_mat[:,2] = [C14_error_pca_list[i] * (P0_Be10 / P0_C14) for i in range(57000)]\n",
    "pca_mat[:,0] = C14_perc_pca_list\n",
    "\n",
    "# test_mat = np.empty((28500,5))\n",
    "\n",
    "# pca_mat[:,4] = actual_ERs_pca_list\n",
    "# pca_mat[:,1] = measured_ER_pca_list\n",
    "# pca_mat[:,3] = ER_error_pca_list\n",
    "# pca_mat[:,2] = C14_error_pca_list\n",
    "# pca_mat[:,0] = C14_rat_pca_list\n"
   ]
  },
  {
   "cell_type": "code",
   "execution_count": 47,
   "metadata": {
    "code_folding": [],
    "scrolled": true
   },
   "outputs": [],
   "source": [
    "'''\n",
    "Define the linear regression model. Here it is based on the measured ER and the difference between the\n",
    "measured 14C/10Be ratio and the expected 14C/10Be ratio for constant erosion given the _measured_ (i.e.\n",
    "not the actual) erosion rate.\n",
    "\n",
    "This allows us to use only measured information to reconstruct the actual (total lost / total time)\n",
    "erosion rate.\n",
    "'''\n",
    "# clf = MultiOutputRegressor(Ridge(random_state=123)).fit(X, y)\n",
    "X = pca_mat[:,0:3]\n",
    "y = np.log(pca_mat[:,4])\n",
    "\n",
    "lm = linear_model.LinearRegression()\n",
    "model_perc = lm.fit(X,y)\n",
    "\n",
    "predictions_bias_high = np.exp(model_perc.predict(pca_mat_bias_high[:,0:3])) # first predictions based on the original dataset that trained the model.\n",
    "predictions_bias = np.exp(model_perc.predict(pca_mat_bias[:,0:3])) # first predictions based on the original dataset that trained the model.\n",
    "\n",
    "#print('coefficients: ' + str(lm.coef_), 'intercept: ' + str(lm.intercept_))"
   ]
  },
  {
   "cell_type": "code",
   "execution_count": 749,
   "metadata": {},
   "outputs": [
    {
     "name": "stdout",
     "output_type": "stream",
     "text": [
      "0.011771646783432524 0.0011798327486162035 0.0020407058635686774 0.0006125289967488009\n"
     ]
    }
   ],
   "source": [
    "print(np.mean([(predictions_bias_high[i] - pca_mat_bias_high[i,4])**2 for i in range(len(predictions_bias_high))]),   \n",
    "    np.mean([(pca_mat_bias_high[i,1] - pca_mat_bias_high[i,4])**2 for i in range(len(predictions_bias_high))]),  \n",
    "     np.mean([(predictions_bias[i] - pca_mat_bias[i,4])**2 for i in range(len(predictions_bias))]),\n",
    "     np.mean([(pca_mat_bias[i,1] - pca_mat_bias[i,4])**2 for i in range(len(predictions_bias))]))"
   ]
  },
  {
   "cell_type": "code",
   "execution_count": 752,
   "metadata": {},
   "outputs": [
    {
     "name": "stdout",
     "output_type": "stream",
     "text": [
      "0.002101996447986331 0.0011798327486162035 0.001458368256441331 0.0006125289967488009\n"
     ]
    }
   ],
   "source": [
    "print(np.mean([(predictions_bias_high[i] - pca_mat_bias_high[i,4])**2 for i in range(len(predictions_bias_high))]),   \n",
    "    np.mean([(pca_mat_bias_high[i,1] - pca_mat_bias_high[i,4])**2 for i in range(len(predictions_bias_high))]),  \n",
    "     np.mean([(predictions_bias[i] - pca_mat_bias[i,4])**2 for i in range(len(predictions_bias))]),\n",
    "     np.mean([(pca_mat_bias[i,1] - pca_mat_bias[i,4])**2 for i in range(len(predictions_bias))]))"
   ]
  },
  {
   "cell_type": "code",
   "execution_count": 754,
   "metadata": {},
   "outputs": [
    {
     "name": "stdout",
     "output_type": "stream",
     "text": [
      "0.0004484137241176934 0.0011798327486162035 0.0008694690893800217 0.0006125289967488009\n"
     ]
    }
   ],
   "source": [
    "print(np.mean([(predictions_bias_high[i] - pca_mat_bias_high[i,4])**2 for i in range(len(predictions_bias_high))]),   \n",
    "    np.mean([(pca_mat_bias_high[i,1] - pca_mat_bias_high[i,4])**2 for i in range(len(predictions_bias_high))]),  \n",
    "     np.mean([(predictions_bias[i] - pca_mat_bias[i,4])**2 for i in range(len(predictions_bias))]),\n",
    "     np.mean([(pca_mat_bias[i,1] - pca_mat_bias[i,4])**2 for i in range(len(predictions_bias))]))"
   ]
  },
  {
   "cell_type": "code",
   "execution_count": 790,
   "metadata": {},
   "outputs": [
    {
     "name": "stdout",
     "output_type": "stream",
     "text": [
      "0.0001039811044687238 0.0011798327486162035 0.00012268780247726345 0.0006125289967488009\n"
     ]
    }
   ],
   "source": [
    "print(np.mean([(predictions_bias_high[i] - pca_mat_bias_high[i,4])**2 for i in range(len(predictions_bias_high))]),   \n",
    "    np.mean([(pca_mat_bias_high[i,1] - pca_mat_bias_high[i,4])**2 for i in range(len(predictions_bias_high))]),  \n",
    "     np.mean([(predictions_bias[i] - pca_mat_bias[i,4])**2 for i in range(len(predictions_bias))]),\n",
    "     np.mean([(pca_mat_bias[i,1] - pca_mat_bias[i,4])**2 for i in range(len(predictions_bias))]))"
   ]
  },
  {
   "cell_type": "code",
   "execution_count": 743,
   "metadata": {},
   "outputs": [
    {
     "name": "stdout",
     "output_type": "stream",
     "text": [
      "0.0001039811044687238 0.0011798327486162035 0.00012268780247726345 0.0006125289967488009\n"
     ]
    }
   ],
   "source": [
    "print(np.mean([(predictions_bias_high[i] - pca_mat_bias_high[i,4])**2 for i in range(len(predictions_bias_high))]),   \n",
    "    np.mean([(pca_mat_bias_high[i,1] - pca_mat_bias_high[i,4])**2 for i in range(len(predictions_bias_high))]),  \n",
    "     np.mean([(predictions_bias[i] - pca_mat_bias[i,4])**2 for i in range(len(predictions_bias))]),\n",
    "     np.mean([(pca_mat_bias[i,1] - pca_mat_bias[i,4])**2 for i in rangQe(len(predictions_bias))]))"
   ]
  },
  {
   "cell_type": "code",
   "execution_count": 400,
   "metadata": {},
   "outputs": [],
   "source": [
    "actual_ERs_drop = [0] * 18\n",
    "actual_ERs_drop[:4] = actual_ERs[0][5:9]\n",
    "actual_ERs_drop[4:11] = actual_ERs[1][3:]\n",
    "actual_ERs_drop[11:] = actual_ERs[2][3:]\n"
   ]
  },
  {
   "cell_type": "code",
   "execution_count": 339,
   "metadata": {},
   "outputs": [
    {
     "data": {
      "text/plain": [
       "[[None, None, None, None, None, None, None, None, None, None],\n",
       " [None, None, None, None, None, None, None, None, None, None]]"
      ]
     },
     "execution_count": 339,
     "metadata": {},
     "output_type": "execute_result"
    }
   ],
   "source": [
    "interp_ER_mes_list = []\n",
    "interp_C14_perc_list = []\n",
    "interp_ER_err_list = []\n",
    "interp_ER_act_list = []\n",
    "\n",
    "[[interp_C14_perc_list.append(C14_percent_other[l][j]) for j in range(scenarios)] for l in range(2)]  \n",
    "[[interp_ER_mes_list.append(measured_ER_other[l][j]) for j in range(scenarios)] for  l in range(2)]  \n",
    "[[interp_ER_err_list.append(ER_error_other[l][j]) for j in range(scenarios)] for l in range(2)]  \n",
    "[[interp_ER_act_list.append(actual_ERs_other[l][j]) for j in range(scenarios)] for l in range(2)]  \n",
    "\n",
    "\n",
    "# fix_interp = scipy.interpolate.interp2d(interp_C14_perc_list,interp_ER_mes_list,interp_ER_err_list, kind = 'linear')\n",
    "# fix_interp = scipy.interpolate.interp2d(pca_mat[:,0],pca_mat[:,1],pca_mat[:,3], kind = 'spline')"
   ]
  },
  {
   "cell_type": "code",
   "execution_count": 341,
   "metadata": {},
   "outputs": [],
   "source": [
    "interp_C14_perc_list= np.reshape(interp_C14_perc_list,20)"
   ]
  },
  {
   "cell_type": "code",
   "execution_count": 562,
   "metadata": {},
   "outputs": [
    {
     "data": {
      "text/plain": [
       "(-0.3, 0.9)"
      ]
     },
     "execution_count": 562,
     "metadata": {},
     "output_type": "execute_result"
    },
    {
     "data": {
      "image/png": "[encoded data removed]",
      "text/plain": [
       "<Figure size 640x480 with 1 Axes>"
      ]
     },
     "metadata": {},
     "output_type": "display_data"
    }
   ],
   "source": [
    "plt.scatter(pca_mat[:,2], (pca_mat[:,3] / pca_mat[:,4]))\n",
    "plt.scatter(episodic_for_corr_mat[:,2], episodic_for_corr_mat[:,3] / actual_ERs_episodic)\n",
    "plt.ylim(-0.3,0.9)"
   ]
  },
  {
   "cell_type": "code",
   "execution_count": 482,
   "metadata": {},
   "outputs": [
    {
     "data": {
      "text/plain": [
       "(14000, 1)"
      ]
     },
     "execution_count": 482,
     "metadata": {},
     "output_type": "execute_result"
    }
   ],
   "source": [
    "np.shape(pca_mat[:,2].reshape(-1,1))\n",
    "np.shape(pca_mat_bias[:,2].reshape(-1,1)) "
   ]
  },
  {
   "cell_type": "code",
   "execution_count": 483,
   "metadata": {},
   "outputs": [],
   "source": [
    "# mat_mat = np.empty((20,4))\n",
    "# mat_mat[:,0] = interp_C14_perc_list\n",
    "# mat_mat[:,1] = interp_ER_mes_list\n",
    "# mat_mat[:,2] = interp_ER_err_list\n",
    "# mat_mat[:,3] = interp_ER_act_list\n",
    "\n",
    "X = pca_mat[:,2].reshape(-1,1)\n",
    "y = (pca_mat[:,3] / pca_mat[:,4])\n",
    "\n",
    "lm = linear_model.LinearRegression()\n",
    "model_model = lm.fit(X,y)\n",
    "\n",
    "output = model_model.predict(pca_mat_bias[:,2].reshape(-1,1))\n",
    "# test_out = fix_interp(pca_mat[:10000,0],pca_mat[:10000,1])"
   ]
  },
  {
   "cell_type": "code",
   "execution_count": 380,
   "metadata": {},
   "outputs": [],
   "source": [
    "test_range = np.linspace(0,14000,14000)"
   ]
  },
  {
   "cell_type": "code",
   "execution_count": 366,
   "metadata": {},
   "outputs": [
    {
     "data": {
      "application/javascript": [
       "/* Put everything inside the global mpl namespace */\n",
       "window.mpl = {};\n",
       "\n",
       "\n",
       "mpl.get_websocket_type = function() {\n",
       "    if (typeof(WebSocket) !== 'undefined') {\n",
       "        return WebSocket;\n",
       "    } else if (typeof(MozWebSocket) !== 'undefined') {\n",
       "        return MozWebSocket;\n",
       "    } else {\n",
       "        alert('Your browser does not have WebSocket support. ' +\n",
       "              'Please try Chrome, Safari or Firefox ≥ 6. ' +\n",
       "              'Firefox 4 and 5 are also supported but you ' +\n",
       "              'have to enable WebSockets in about:config.');\n",
       "    };\n",
       "}\n",
       "\n",
       "mpl.figure = function(figure_id, websocket, ondownload, parent_element) {\n",
       "    this.id = figure_id;\n",
       "\n",
       "    this.ws = websocket;\n",
       "\n",
       "    this.supports_binary = (this.ws.binaryType != undefined);\n",
       "\n",
       "    if (!this.supports_binary) {\n",
       "        var warnings = document.getElementById(\"mpl-warnings\");\n",
       "        if (warnings) {\n",
       "            warnings.style.display = 'block';\n",
       "            warnings.textContent = (\n",
       "                \"This browser does not support binary websocket messages. \" +\n",
       "                    \"Performance may be slow.\");\n",
       "        }\n",
       "    }\n",
       "\n",
       "    this.imageObj = new Image();\n",
       "\n",
       "    this.context = undefined;\n",
       "    this.message = undefined;\n",
       "    this.canvas = undefined;\n",
       "    this.rubberband_canvas = undefined;\n",
       "    this.rubberband_context = undefined;\n",
       "    this.format_dropdown = undefined;\n",
       "\n",
       "    this.image_mode = 'full';\n",
       "\n",
       "    this.root = $('<div/>');\n",
       "    this._root_extra_style(this.root)\n",
       "    this.root.attr('style', 'display: inline-block');\n",
       "\n",
       "    $(parent_element).append(this.root);\n",
       "\n",
       "    this._init_header(this);\n",
       "    this._init_canvas(this);\n",
       "    this._init_toolbar(this);\n",
       "\n",
       "    var fig = this;\n",
       "\n",
       "    this.waiting = false;\n",
       "\n",
       "    this.ws.onopen =  function () {\n",
       "            fig.send_message(\"supports_binary\", {value: fig.supports_binary});\n",
       "            fig.send_message(\"send_image_mode\", {});\n",
       "            if (mpl.ratio != 1) {\n",
       "                fig.send_message(\"set_dpi_ratio\", {'dpi_ratio': mpl.ratio});\n",
       "            }\n",
       "            fig.send_message(\"refresh\", {});\n",
       "        }\n",
       "\n",
       "    this.imageObj.onload = function() {\n",
       "            if (fig.image_mode == 'full') {\n",
       "                // Full images could contain transparency (where diff images\n",
       "                // almost always do), so we need to clear the canvas so that\n",
       "                // there is no ghosting.\n",
       "                fig.context.clearRect(0, 0, fig.canvas.width, fig.canvas.height);\n",
       "            }\n",
       "            fig.context.drawImage(fig.imageObj, 0, 0);\n",
       "        };\n",
       "\n",
       "    this.imageObj.onunload = function() {\n",
       "        fig.ws.close();\n",
       "    }\n",
       "\n",
       "    this.ws.onmessage = this._make_on_message_function(this);\n",
       "\n",
       "    this.ondownload = ondownload;\n",
       "}\n",
       "\n",
       "mpl.figure.prototype._init_header = function() {\n",
       "    var titlebar = $(\n",
       "        '<div class=\"ui-dialog-titlebar ui-widget-header ui-corner-all ' +\n",
       "        'ui-helper-clearfix\"/>');\n",
       "    var titletext = $(\n",
       "        '<div class=\"ui-dialog-title\" style=\"width: 100%; ' +\n",
       "        'text-align: center; padding: 3px;\"/>');\n",
       "    titlebar.append(titletext)\n",
       "    this.root.append(titlebar);\n",
       "    this.header = titletext[0];\n",
       "}\n",
       "\n",
       "\n",
       "\n",
       "mpl.figure.prototype._canvas_extra_style = function(canvas_div) {\n",
       "\n",
       "}\n",
       "\n",
       "\n",
       "mpl.figure.prototype._root_extra_style = function(canvas_div) {\n",
       "\n",
       "}\n",
       "\n",
       "mpl.figure.prototype._init_canvas = function() {\n",
       "    var fig = this;\n",
       "\n",
       "    var canvas_div = $('<div/>');\n",
       "\n",
       "    canvas_div.attr('style', 'position: relative; clear: both; outline: 0');\n",
       "\n",
       "    function canvas_keyboard_event(event) {\n",
       "        return fig.key_event(event, event['data']);\n",
       "    }\n",
       "\n",
       "    canvas_div.keydown('key_press', canvas_keyboard_event);\n",
       "    canvas_div.keyup('key_release', canvas_keyboard_event);\n",
       "    this.canvas_div = canvas_div\n",
       "    this._canvas_extra_style(canvas_div)\n",
       "    this.root.append(canvas_div);\n",
       "\n",
       "    var canvas = $('<canvas/>');\n",
       "    canvas.addClass('mpl-canvas');\n",
       "    canvas.attr('style', \"left: 0; top: 0; z-index: 0; outline: 0\")\n",
       "\n",
       "    this.canvas = canvas[0];\n",
       "    this.context = canvas[0].getContext(\"2d\");\n",
       "\n",
       "    var backingStore = this.context.backingStorePixelRatio ||\n",
       "\tthis.context.webkitBackingStorePixelRatio ||\n",
       "\tthis.context.mozBackingStorePixelRatio ||\n",
       "\tthis.context.msBackingStorePixelRatio ||\n",
       "\tthis.context.oBackingStorePixelRatio ||\n",
       "\tthis.context.backingStorePixelRatio || 1;\n",
       "\n",
       "    mpl.ratio = (window.devicePixelRatio || 1) / backingStore;\n",
       "\n",
       "    var rubberband = $('<canvas/>');\n",
       "    rubberband.attr('style', \"position: absolute; left: 0; top: 0; z-index: 1;\")\n",
       "\n",
       "    var pass_mouse_events = true;\n",
       "\n",
       "    canvas_div.resizable({\n",
       "        start: function(event, ui) {\n",
       "            pass_mouse_events = false;\n",
       "        },\n",
       "        resize: function(event, ui) {\n",
       "            fig.request_resize(ui.size.width, ui.size.height);\n",
       "        },\n",
       "        stop: function(event, ui) {\n",
       "            pass_mouse_events = true;\n",
       "            fig.request_resize(ui.size.width, ui.size.height);\n",
       "        },\n",
       "    });\n",
       "\n",
       "    function mouse_event_fn(event) {\n",
       "        if (pass_mouse_events)\n",
       "            return fig.mouse_event(event, event['data']);\n",
       "    }\n",
       "\n",
       "    rubberband.mousedown('button_press', mouse_event_fn);\n",
       "    rubberband.mouseup('button_release', mouse_event_fn);\n",
       "    // Throttle sequential mouse events to 1 every 20ms.\n",
       "    rubberband.mousemove('motion_notify', mouse_event_fn);\n",
       "\n",
       "    rubberband.mouseenter('figure_enter', mouse_event_fn);\n",
       "    rubberband.mouseleave('figure_leave', mouse_event_fn);\n",
       "\n",
       "    canvas_div.on(\"wheel\", function (event) {\n",
       "        event = event.originalEvent;\n",
       "        event['data'] = 'scroll'\n",
       "        if (event.deltaY < 0) {\n",
       "            event.step = 1;\n",
       "        } else {\n",
       "            event.step = -1;\n",
       "        }\n",
       "        mouse_event_fn(event);\n",
       "    });\n",
       "\n",
       "    canvas_div.append(canvas);\n",
       "    canvas_div.append(rubberband);\n",
       "\n",
       "    this.rubberband = rubberband;\n",
       "    this.rubberband_canvas = rubberband[0];\n",
       "    this.rubberband_context = rubberband[0].getContext(\"2d\");\n",
       "    this.rubberband_context.strokeStyle = \"#000000\";\n",
       "\n",
       "    this._resize_canvas = function(width, height) {\n",
       "        // Keep the size of the canvas, canvas container, and rubber band\n",
       "        // canvas in synch.\n",
       "        canvas_div.css('width', width)\n",
       "        canvas_div.css('height', height)\n",
       "\n",
       "        canvas.attr('width', width * mpl.ratio);\n",
       "        canvas.attr('height', height * mpl.ratio);\n",
       "        canvas.attr('style', 'width: ' + width + 'px; height: ' + height + 'px;');\n",
       "\n",
       "        rubberband.attr('width', width);\n",
       "        rubberband.attr('height', height);\n",
       "    }\n",
       "\n",
       "    // Set the figure to an initial 600x600px, this will subsequently be updated\n",
       "    // upon first draw.\n",
       "    this._resize_canvas(600, 600);\n",
       "\n",
       "    // Disable right mouse context menu.\n",
       "    $(this.rubberband_canvas).bind(\"contextmenu\",function(e){\n",
       "        return false;\n",
       "    });\n",
       "\n",
       "    function set_focus () {\n",
       "        canvas.focus();\n",
       "        canvas_div.focus();\n",
       "    }\n",
       "\n",
       "    window.setTimeout(set_focus, 100);\n",
       "}\n",
       "\n",
       "mpl.figure.prototype._init_toolbar = function() {\n",
       "    var fig = this;\n",
       "\n",
       "    var nav_element = $('<div/>');\n",
       "    nav_element.attr('style', 'width: 100%');\n",
       "    this.root.append(nav_element);\n",
       "\n",
       "    // Define a callback function for later on.\n",
       "    function toolbar_event(event) {\n",
       "        return fig.toolbar_button_onclick(event['data']);\n",
       "    }\n",
       "    function toolbar_mouse_event(event) {\n",
       "        return fig.toolbar_button_onmouseover(event['data']);\n",
       "    }\n",
       "\n",
       "    for(var toolbar_ind in mpl.toolbar_items) {\n",
       "        var name = mpl.toolbar_items[toolbar_ind][0];\n",
       "        var tooltip = mpl.toolbar_items[toolbar_ind][1];\n",
       "        var image = mpl.toolbar_items[toolbar_ind][2];\n",
       "        var method_name = mpl.toolbar_items[toolbar_ind][3];\n",
       "\n",
       "        if (!name) {\n",
       "            // put a spacer in here.\n",
       "            continue;\n",
       "        }\n",
       "        var button = $('<button/>');\n",
       "        button.addClass('ui-button ui-widget ui-state-default ui-corner-all ' +\n",
       "                        'ui-button-icon-only');\n",
       "        button.attr('role', 'button');\n",
       "        button.attr('aria-disabled', 'false');\n",
       "        button.click(method_name, toolbar_event);\n",
       "        button.mouseover(tooltip, toolbar_mouse_event);\n",
       "\n",
       "        var icon_img = $('<span/>');\n",
       "        icon_img.addClass('ui-button-icon-primary ui-icon');\n",
       "        icon_img.addClass(image);\n",
       "        icon_img.addClass('ui-corner-all');\n",
       "\n",
       "        var tooltip_span = $('<span/>');\n",
       "        tooltip_span.addClass('ui-button-text');\n",
       "        tooltip_span.html(tooltip);\n",
       "\n",
       "        button.append(icon_img);\n",
       "        button.append(tooltip_span);\n",
       "\n",
       "        nav_element.append(button);\n",
       "    }\n",
       "\n",
       "    var fmt_picker_span = $('<span/>');\n",
       "\n",
       "    var fmt_picker = $('<select/>');\n",
       "    fmt_picker.addClass('mpl-toolbar-option ui-widget ui-widget-content');\n",
       "    fmt_picker_span.append(fmt_picker);\n",
       "    nav_element.append(fmt_picker_span);\n",
       "    this.format_dropdown = fmt_picker[0];\n",
       "\n",
       "    for (var ind in mpl.extensions) {\n",
       "        var fmt = mpl.extensions[ind];\n",
       "        var option = $(\n",
       "            '<option/>', {selected: fmt === mpl.default_extension}).html(fmt);\n",
       "        fmt_picker.append(option);\n",
       "    }\n",
       "\n",
       "    // Add hover states to the ui-buttons\n",
       "    $( \".ui-button\" ).hover(\n",
       "        function() { $(this).addClass(\"ui-state-hover\");},\n",
       "        function() { $(this).removeClass(\"ui-state-hover\");}\n",
       "    );\n",
       "\n",
       "    var status_bar = $('<span class=\"mpl-message\"/>');\n",
       "    nav_element.append(status_bar);\n",
       "    this.message = status_bar[0];\n",
       "}\n",
       "\n",
       "mpl.figure.prototype.request_resize = function(x_pixels, y_pixels) {\n",
       "    // Request matplotlib to resize the figure. Matplotlib will then trigger a resize in the client,\n",
       "    // which will in turn request a refresh of the image.\n",
       "    this.send_message('resize', {'width': x_pixels, 'height': y_pixels});\n",
       "}\n",
       "\n",
       "mpl.figure.prototype.send_message = function(type, properties) {\n",
       "    properties['type'] = type;\n",
       "    properties['figure_id'] = this.id;\n",
       "    this.ws.send(JSON.stringify(properties));\n",
       "}\n",
       "\n",
       "mpl.figure.prototype.send_draw_message = function() {\n",
       "    if (!this.waiting) {\n",
       "        this.waiting = true;\n",
       "        this.ws.send(JSON.stringify({type: \"draw\", figure_id: this.id}));\n",
       "    }\n",
       "}\n",
       "\n",
       "\n",
       "mpl.figure.prototype.handle_save = function(fig, msg) {\n",
       "    var format_dropdown = fig.format_dropdown;\n",
       "    var format = format_dropdown.options[format_dropdown.selectedIndex].value;\n",
       "    fig.ondownload(fig, format);\n",
       "}\n",
       "\n",
       "\n",
       "mpl.figure.prototype.handle_resize = function(fig, msg) {\n",
       "    var size = msg['size'];\n",
       "    if (size[0] != fig.canvas.width || size[1] != fig.canvas.height) {\n",
       "        fig._resize_canvas(size[0], size[1]);\n",
       "        fig.send_message(\"refresh\", {});\n",
       "    };\n",
       "}\n",
       "\n",
       "mpl.figure.prototype.handle_rubberband = function(fig, msg) {\n",
       "    var x0 = msg['x0'] / mpl.ratio;\n",
       "    var y0 = (fig.canvas.height - msg['y0']) / mpl.ratio;\n",
       "    var x1 = msg['x1'] / mpl.ratio;\n",
       "    var y1 = (fig.canvas.height - msg['y1']) / mpl.ratio;\n",
       "    x0 = Math.floor(x0) + 0.5;\n",
       "    y0 = Math.floor(y0) + 0.5;\n",
       "    x1 = Math.floor(x1) + 0.5;\n",
       "    y1 = Math.floor(y1) + 0.5;\n",
       "    var min_x = Math.min(x0, x1);\n",
       "    var min_y = Math.min(y0, y1);\n",
       "    var width = Math.abs(x1 - x0);\n",
       "    var height = Math.abs(y1 - y0);\n",
       "\n",
       "    fig.rubberband_context.clearRect(\n",
       "        0, 0, fig.canvas.width / mpl.ratio, fig.canvas.height / mpl.ratio);\n",
       "\n",
       "    fig.rubberband_context.strokeRect(min_x, min_y, width, height);\n",
       "}\n",
       "\n",
       "mpl.figure.prototype.handle_figure_label = function(fig, msg) {\n",
       "    // Updates the figure title.\n",
       "    fig.header.textContent = msg['label'];\n",
       "}\n",
       "\n",
       "mpl.figure.prototype.handle_cursor = function(fig, msg) {\n",
       "    var cursor = msg['cursor'];\n",
       "    switch(cursor)\n",
       "    {\n",
       "    case 0:\n",
       "        cursor = 'pointer';\n",
       "        break;\n",
       "    case 1:\n",
       "        cursor = 'default';\n",
       "        break;\n",
       "    case 2:\n",
       "        cursor = 'crosshair';\n",
       "        break;\n",
       "    case 3:\n",
       "        cursor = 'move';\n",
       "        break;\n",
       "    }\n",
       "    fig.rubberband_canvas.style.cursor = cursor;\n",
       "}\n",
       "\n",
       "mpl.figure.prototype.handle_message = function(fig, msg) {\n",
       "    fig.message.textContent = msg['message'];\n",
       "}\n",
       "\n",
       "mpl.figure.prototype.handle_draw = function(fig, msg) {\n",
       "    // Request the server to send over a new figure.\n",
       "    fig.send_draw_message();\n",
       "}\n",
       "\n",
       "mpl.figure.prototype.handle_image_mode = function(fig, msg) {\n",
       "    fig.image_mode = msg['mode'];\n",
       "}\n",
       "\n",
       "mpl.figure.prototype.updated_canvas_event = function() {\n",
       "    // Called whenever the canvas gets updated.\n",
       "    this.send_message(\"ack\", {});\n",
       "}\n",
       "\n",
       "// A function to construct a web socket function for onmessage handling.\n",
       "// Called in the figure constructor.\n",
       "mpl.figure.prototype._make_on_message_function = function(fig) {\n",
       "    return function socket_on_message(evt) {\n",
       "        if (evt.data instanceof Blob) {\n",
       "            /* FIXME: We get \"Resource interpreted as Image but\n",
       "             * transferred with MIME type text/plain:\" errors on\n",
       "             * Chrome.  But how to set the MIME type?  It doesn't seem\n",
       "             * to be part of the websocket stream */\n",
       "            evt.data.type = \"image/png\";\n",
       "\n",
       "            /* Free the memory for the previous frames */\n",
       "            if (fig.imageObj.src) {\n",
       "                (window.URL || window.webkitURL).revokeObjectURL(\n",
       "                    fig.imageObj.src);\n",
       "            }\n",
       "\n",
       "            fig.imageObj.src = (window.URL || window.webkitURL).createObjectURL(\n",
       "                evt.data);\n",
       "            fig.updated_canvas_event();\n",
       "            fig.waiting = false;\n",
       "            return;\n",
       "        }\n",
       "        else if (typeof evt.data === 'string' && evt.data.slice(0, 21) == \"data:image/png;base64\") {\n",
       "            fig.imageObj.src = evt.data;\n",
       "            fig.updated_canvas_event();\n",
       "            fig.waiting = false;\n",
       "            return;\n",
       "        }\n",
       "\n",
       "        var msg = JSON.parse(evt.data);\n",
       "        var msg_type = msg['type'];\n",
       "\n",
       "        // Call the  \"handle_{type}\" callback, which takes\n",
       "        // the figure and JSON message as its only arguments.\n",
       "        try {\n",
       "            var callback = fig[\"handle_\" + msg_type];\n",
       "        } catch (e) {\n",
       "            console.log(\"No handler for the '\" + msg_type + \"' message type: \", msg);\n",
       "            return;\n",
       "        }\n",
       "\n",
       "        if (callback) {\n",
       "            try {\n",
       "                // console.log(\"Handling '\" + msg_type + \"' message: \", msg);\n",
       "                callback(fig, msg);\n",
       "            } catch (e) {\n",
       "                console.log(\"Exception inside the 'handler_\" + msg_type + \"' callback:\", e, e.stack, msg);\n",
       "            }\n",
       "        }\n",
       "    };\n",
       "}\n",
       "\n",
       "// from http://stackoverflow.com/questions/1114465/getting-mouse-location-in-canvas\n",
       "mpl.findpos = function(e) {\n",
       "    //this section is from http://www.quirksmode.org/js/events_properties.html\n",
       "    var targ;\n",
       "    if (!e)\n",
       "        e = window.event;\n",
       "    if (e.target)\n",
       "        targ = e.target;\n",
       "    else if (e.srcElement)\n",
       "        targ = e.srcElement;\n",
       "    if (targ.nodeType == 3) // defeat Safari bug\n",
       "        targ = targ.parentNode;\n",
       "\n",
       "    // jQuery normalizes the pageX and pageY\n",
       "    // pageX,Y are the mouse positions relative to the document\n",
       "    // offset() returns the position of the element relative to the document\n",
       "    var x = e.pageX - $(targ).offset().left;\n",
       "    var y = e.pageY - $(targ).offset().top;\n",
       "\n",
       "    return {\"x\": x, \"y\": y};\n",
       "};\n",
       "\n",
       "/*\n",
       " * return a copy of an object with only non-object keys\n",
       " * we need this to avoid circular references\n",
       " * http://stackoverflow.com/a/24161582/3208463\n",
       " */\n",
       "function simpleKeys (original) {\n",
       "  return Object.keys(original).reduce(function (obj, key) {\n",
       "    if (typeof original[key] !== 'object')\n",
       "        obj[key] = original[key]\n",
       "    return obj;\n",
       "  }, {});\n",
       "}\n",
       "\n",
       "mpl.figure.prototype.mouse_event = function(event, name) {\n",
       "    var canvas_pos = mpl.findpos(event)\n",
       "\n",
       "    if (name === 'button_press')\n",
       "    {\n",
       "        this.canvas.focus();\n",
       "        this.canvas_div.focus();\n",
       "    }\n",
       "\n",
       "    var x = canvas_pos.x * mpl.ratio;\n",
       "    var y = canvas_pos.y * mpl.ratio;\n",
       "\n",
       "    this.send_message(name, {x: x, y: y, button: event.button,\n",
       "                             step: event.step,\n",
       "                             guiEvent: simpleKeys(event)});\n",
       "\n",
       "    /* This prevents the web browser from automatically changing to\n",
       "     * the text insertion cursor when the button is pressed.  We want\n",
       "     * to control all of the cursor setting manually through the\n",
       "     * 'cursor' event from matplotlib */\n",
       "    event.preventDefault();\n",
       "    return false;\n",
       "}\n",
       "\n",
       "mpl.figure.prototype._key_event_extra = function(event, name) {\n",
       "    // Handle any extra behaviour associated with a key event\n",
       "}\n",
       "\n",
       "mpl.figure.prototype.key_event = function(event, name) {\n",
       "\n",
       "    // Prevent repeat events\n",
       "    if (name == 'key_press')\n",
       "    {\n",
       "        if (event.which === this._key)\n",
       "            return;\n",
       "        else\n",
       "            this._key = event.which;\n",
       "    }\n",
       "    if (name == 'key_release')\n",
       "        this._key = null;\n",
       "\n",
       "    var value = '';\n",
       "    if (event.ctrlKey && event.which != 17)\n",
       "        value += \"ctrl+\";\n",
       "    if (event.altKey && event.which != 18)\n",
       "        value += \"alt+\";\n",
       "    if (event.shiftKey && event.which != 16)\n",
       "        value += \"shift+\";\n",
       "\n",
       "    value += 'k';\n",
       "    value += event.which.toString();\n",
       "\n",
       "    this._key_event_extra(event, name);\n",
       "\n",
       "    this.send_message(name, {key: value,\n",
       "                             guiEvent: simpleKeys(event)});\n",
       "    return false;\n",
       "}\n",
       "\n",
       "mpl.figure.prototype.toolbar_button_onclick = function(name) {\n",
       "    if (name == 'download') {\n",
       "        this.handle_save(this, null);\n",
       "    } else {\n",
       "        this.send_message(\"toolbar_button\", {name: name});\n",
       "    }\n",
       "};\n",
       "\n",
       "mpl.figure.prototype.toolbar_button_onmouseover = function(tooltip) {\n",
       "    this.message.textContent = tooltip;\n",
       "};\n",
       "mpl.toolbar_items = [[\"Home\", \"Reset original view\", \"fa fa-home icon-home\", \"home\"], [\"Back\", \"Back to previous view\", \"fa fa-arrow-left icon-arrow-left\", \"back\"], [\"Forward\", \"Forward to next view\", \"fa fa-arrow-right icon-arrow-right\", \"forward\"], [\"\", \"\", \"\", \"\"], [\"Pan\", \"Pan axes with left mouse, zoom with right\", \"fa fa-arrows icon-move\", \"pan\"], [\"Zoom\", \"Zoom to rectangle\", \"fa fa-square-o icon-check-empty\", \"zoom\"], [\"\", \"\", \"\", \"\"], [\"Download\", \"Download plot\", \"fa fa-floppy-o icon-save\", \"download\"]];\n",
       "\n",
       "mpl.extensions = [\"eps\", \"jpeg\", \"pdf\", \"png\", \"ps\", \"raw\", \"svg\", \"tif\"];\n",
       "\n",
       "mpl.default_extension = \"png\";var comm_websocket_adapter = function(comm) {\n",
       "    // Create a \"websocket\"-like object which calls the given IPython comm\n",
       "    // object with the appropriate methods. Currently this is a non binary\n",
       "    // socket, so there is still some room for performance tuning.\n",
       "    var ws = {};\n",
       "\n",
       "    ws.close = function() {\n",
       "        comm.close()\n",
       "    };\n",
       "    ws.send = function(m) {\n",
       "        //console.log('sending', m);\n",
       "        comm.send(m);\n",
       "    };\n",
       "    // Register the callback with on_msg.\n",
       "    comm.on_msg(function(msg) {\n",
       "        //console.log('receiving', msg['content']['data'], msg);\n",
       "        // Pass the mpl event to the overridden (by mpl) onmessage function.\n",
       "        ws.onmessage(msg['content']['data'])\n",
       "    });\n",
       "    return ws;\n",
       "}\n",
       "\n",
       "mpl.mpl_figure_comm = function(comm, msg) {\n",
       "    // This is the function which gets called when the mpl process\n",
       "    // starts-up an IPython Comm through the \"matplotlib\" channel.\n",
       "\n",
       "    var id = msg.content.data.id;\n",
       "    // Get hold of the div created by the display call when the Comm\n",
       "    // socket was opened in Python.\n",
       "    var element = $(\"#\" + id);\n",
       "    var ws_proxy = comm_websocket_adapter(comm)\n",
       "\n",
       "    function ondownload(figure, format) {\n",
       "        window.open(figure.imageObj.src);\n",
       "    }\n",
       "\n",
       "    var fig = new mpl.figure(id, ws_proxy,\n",
       "                           ondownload,\n",
       "                           element.get(0));\n",
       "\n",
       "    // Call onopen now - mpl needs it, as it is assuming we've passed it a real\n",
       "    // web socket which is closed, not our websocket->open comm proxy.\n",
       "    ws_proxy.onopen();\n",
       "\n",
       "    fig.parent_element = element.get(0);\n",
       "    fig.cell_info = mpl.find_output_cell(\"<div id='\" + id + \"'></div>\");\n",
       "    if (!fig.cell_info) {\n",
       "        console.error(\"Failed to find cell for figure\", id, fig);\n",
       "        return;\n",
       "    }\n",
       "\n",
       "    var output_index = fig.cell_info[2]\n",
       "    var cell = fig.cell_info[0];\n",
       "\n",
       "};\n",
       "\n",
       "mpl.figure.prototype.handle_close = function(fig, msg) {\n",
       "    var width = fig.canvas.width/mpl.ratio\n",
       "    fig.root.unbind('remove')\n",
       "\n",
       "    // Update the output cell to use the data from the current canvas.\n",
       "    fig.push_to_output();\n",
       "    var dataURL = fig.canvas.toDataURL();\n",
       "    // Re-enable the keyboard manager in IPython - without this line, in FF,\n",
       "    // the notebook keyboard shortcuts fail.\n",
       "    IPython.keyboard_manager.enable()\n",
       "    $(fig.parent_element).html('<img src=\"' + dataURL + '\" width=\"' + width + '\">');\n",
       "    fig.close_ws(fig, msg);\n",
       "}\n",
       "\n",
       "mpl.figure.prototype.close_ws = function(fig, msg){\n",
       "    fig.send_message('closing', msg);\n",
       "    // fig.ws.close()\n",
       "}\n",
       "\n",
       "mpl.figure.prototype.push_to_output = function(remove_interactive) {\n",
       "    // Turn the data on the canvas into data in the output cell.\n",
       "    var width = this.canvas.width/mpl.ratio\n",
       "    var dataURL = this.canvas.toDataURL();\n",
       "    this.cell_info[1]['text/html'] = '<img src=\"' + dataURL + '\" width=\"' + width + '\">';\n",
       "}\n",
       "\n",
       "mpl.figure.prototype.updated_canvas_event = function() {\n",
       "    // Tell IPython that the notebook contents must change.\n",
       "    IPython.notebook.set_dirty(true);\n",
       "    this.send_message(\"ack\", {});\n",
       "    var fig = this;\n",
       "    // Wait a second, then push the new image to the DOM so\n",
       "    // that it is saved nicely (might be nice to debounce this).\n",
       "    setTimeout(function () { fig.push_to_output() }, 1000);\n",
       "}\n",
       "\n",
       "mpl.figure.prototype._init_toolbar = function() {\n",
       "    var fig = this;\n",
       "\n",
       "    var nav_element = $('<div/>');\n",
       "    nav_element.attr('style', 'width: 100%');\n",
       "    this.root.append(nav_element);\n",
       "\n",
       "    // Define a callback function for later on.\n",
       "    function toolbar_event(event) {\n",
       "        return fig.toolbar_button_onclick(event['data']);\n",
       "    }\n",
       "    function toolbar_mouse_event(event) {\n",
       "        return fig.toolbar_button_onmouseover(event['data']);\n",
       "    }\n",
       "\n",
       "    for(var toolbar_ind in mpl.toolbar_items){\n",
       "        var name = mpl.toolbar_items[toolbar_ind][0];\n",
       "        var tooltip = mpl.toolbar_items[toolbar_ind][1];\n",
       "        var image = mpl.toolbar_items[toolbar_ind][2];\n",
       "        var method_name = mpl.toolbar_items[toolbar_ind][3];\n",
       "\n",
       "        if (!name) { continue; };\n",
       "\n",
       "        var button = $('<button class=\"btn btn-default\" href=\"#\" title=\"' + name + '\"><i class=\"fa ' + image + ' fa-lg\"></i></button>');\n",
       "        button.click(method_name, toolbar_event);\n",
       "        button.mouseover(tooltip, toolbar_mouse_event);\n",
       "        nav_element.append(button);\n",
       "    }\n",
       "\n",
       "    // Add the status bar.\n",
       "    var status_bar = $('<span class=\"mpl-message\" style=\"text-align:right; float: right;\"/>');\n",
       "    nav_element.append(status_bar);\n",
       "    this.message = status_bar[0];\n",
       "\n",
       "    // Add the close button to the window.\n",
       "    var buttongrp = $('<div class=\"btn-group inline pull-right\"></div>');\n",
       "    var button = $('<button class=\"btn btn-mini btn-primary\" href=\"#\" title=\"Stop Interaction\"><i class=\"fa fa-power-off icon-remove icon-large\"></i></button>');\n",
       "    button.click(function (evt) { fig.handle_close(fig, {}); } );\n",
       "    button.mouseover('Stop Interaction', toolbar_mouse_event);\n",
       "    buttongrp.append(button);\n",
       "    var titlebar = this.root.find($('.ui-dialog-titlebar'));\n",
       "    titlebar.prepend(buttongrp);\n",
       "}\n",
       "\n",
       "mpl.figure.prototype._root_extra_style = function(el){\n",
       "    var fig = this\n",
       "    el.on(\"remove\", function(){\n",
       "\tfig.close_ws(fig, {});\n",
       "    });\n",
       "}\n",
       "\n",
       "mpl.figure.prototype._canvas_extra_style = function(el){\n",
       "    // this is important to make the div 'focusable\n",
       "    el.attr('tabindex', 0)\n",
       "    // reach out to IPython and tell the keyboard manager to turn it's self\n",
       "    // off when our div gets focus\n",
       "\n",
       "    // location in version 3\n",
       "    if (IPython.notebook.keyboard_manager) {\n",
       "        IPython.notebook.keyboard_manager.register_events(el);\n",
       "    }\n",
       "    else {\n",
       "        // location in version 2\n",
       "        IPython.keyboard_manager.register_events(el);\n",
       "    }\n",
       "\n",
       "}\n",
       "\n",
       "mpl.figure.prototype._key_event_extra = function(event, name) {\n",
       "    var manager = IPython.notebook.keyboard_manager;\n",
       "    if (!manager)\n",
       "        manager = IPython.keyboard_manager;\n",
       "\n",
       "    // Check for shift+enter\n",
       "    if (event.shiftKey && event.which == 13) {\n",
       "        this.canvas_div.blur();\n",
       "        // select the cell after this one\n",
       "        var index = IPython.notebook.find_cell_index(this.cell_info[0]);\n",
       "        IPython.notebook.select(index + 1);\n",
       "    }\n",
       "}\n",
       "\n",
       "mpl.figure.prototype.handle_save = function(fig, msg) {\n",
       "    fig.ondownload(fig, null);\n",
       "}\n",
       "\n",
       "\n",
       "mpl.find_output_cell = function(html_output) {\n",
       "    // Return the cell and output element which can be found *uniquely* in the notebook.\n",
       "    // Note - this is a bit hacky, but it is done because the \"notebook_saving.Notebook\"\n",
       "    // IPython event is triggered only after the cells have been serialised, which for\n",
       "    // our purposes (turning an active figure into a static one), is too late.\n",
       "    var cells = IPython.notebook.get_cells();\n",
       "    var ncells = cells.length;\n",
       "    for (var i=0; i<ncells; i++) {\n",
       "        var cell = cells[i];\n",
       "        if (cell.cell_type === 'code'){\n",
       "            for (var j=0; j<cell.output_area.outputs.length; j++) {\n",
       "                var data = cell.output_area.outputs[j];\n",
       "                if (data.data) {\n",
       "                    // IPython >= 3 moved mimebundle to data attribute of output\n",
       "                    data = data.data;\n",
       "                }\n",
       "                if (data['text/html'] == html_output) {\n",
       "                    return [cell, data, j];\n",
       "                }\n",
       "            }\n",
       "        }\n",
       "    }\n",
       "}\n",
       "\n",
       "// Register the function which deals with the matplotlib target/channel.\n",
       "// The kernel may be null if the page has been refreshed.\n",
       "if (IPython.notebook.kernel != null) {\n",
       "    IPython.notebook.kernel.comm_manager.register_target('matplotlib', mpl.mpl_figure_comm);\n",
       "}\n"
      ],
      "text/plain": [
       "<IPython.core.display.Javascript object>"
      ]
     },
     "metadata": {},
     "output_type": "display_data"
    },
    {
     "data": {
      "text/html": [
       "<img src=\"data:image/png;base64,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\" width=\"638.888905813665\">"
      ],
      "text/plain": [
       "<IPython.core.display.HTML object>"
      ]
     },
     "metadata": {},
     "output_type": "display_data"
    },
    {
     "name": "stderr",
     "output_type": "stream",
     "text": [
      "C:\\Users\\dennis\\Anaconda3\\lib\\site-packages\\ipykernel_launcher.py:11: MatplotlibDeprecationWarning: Passing arguments to show(), other than passing 'block' by keyword, is deprecated 3.1, and support for it will be removed in 3.3.\n",
      "  # This is added back by InteractiveShellApp.init_path()\n"
     ]
    }
   ],
   "source": [
    "from mpl_toolkits.mplot3d import Axes3D\n",
    "jtplot.reset()\n",
    "\n",
    "%matplotlib notebook\n",
    "%matplotlib notebook  \n",
    "\n",
    "fig = plt.figure()\n",
    "ax = fig.add_subplot(111, projection='3d')\n",
    "\n",
    "ax.scatter(pca_mat_bias[:,0], pca_mat_bias[:,1], output)\n",
    "plt.show(fig)"
   ]
  },
  {
   "cell_type": "code",
   "execution_count": 828,
   "metadata": {},
   "outputs": [
    {
     "name": "stdout",
     "output_type": "stream",
     "text": [
      "coefficients: [ 0.0009185  -0.18133159] intercept: 0.11427225545468712\n"
     ]
    }
   ],
   "source": [
    "print('coefficients: ' + str(lm.coef_), 'intercept: ' + str(lm.intercept_))"
   ]
  },
  {
   "cell_type": "code",
   "execution_count": 837,
   "metadata": {},
   "outputs": [
    {
     "name": "stdout",
     "output_type": "stream",
     "text": [
      "Warning: Cannot change to a different GUI toolkit: notebook. Using widget instead.\n",
      "Warning: Cannot change to a different GUI toolkit: notebook. Using widget instead.\n"
     ]
    },
    {
     "data": {
      "application/vnd.jupyter.widget-view+json": {
       "model_id": "dbace3f6b4404e8db8d903f486ad4758",
       "version_major": 2,
       "version_minor": 0
      },
      "text/plain": [
       "Canvas(toolbar=Toolbar(toolitems=[('Home', 'Reset original view', 'home', 'home'), ('Back', 'Back to previous …"
      ]
     },
     "metadata": {},
     "output_type": "display_data"
    }
   ],
   "source": [
    "from mpl_toolkits.mplot3d import Axes3D\n",
    "jtplot.reset()\n",
    "\n",
    "%matplotlib notebook\n",
    "%matplotlib notebook  \n",
    "\n",
    "fig = plt.figure()\n",
    "ax = fig.add_subplot(111, projection='3d')\n",
    "\n",
    "ax.scatter(pca_mat[:,0], pca_mat[:,1], pca_mat[:,4])\n",
    "plt.show(fig)"
   ]
  },
  {
   "cell_type": "code",
   "execution_count": 749,
   "metadata": {},
   "outputs": [
    {
     "ename": "ValueError",
     "evalue": "operands could not be broadcast together with shapes (14000,2) (1,14000) ",
     "output_type": "error",
     "traceback": [
      "\u001b[1;31m---------------------------------------------------------------------------\u001b[0m",
      "\u001b[1;31mValueError\u001b[0m                                Traceback (most recent call last)",
      "\u001b[1;32m<ipython-input-749-4fcfb60213f2>\u001b[0m in \u001b[0;36m<module>\u001b[1;34m\u001b[0m\n\u001b[0;32m      3\u001b[0m plt.scatter(actual_ERs_pca_list_bias, abs(measured_ER_pca_list_bias - actual_ERs_pca_list_bias),\n\u001b[0;32m      4\u001b[0m            c = '#d33938', s = 9, alpha = 0.05, label = 'No correction')\n\u001b[1;32m----> 5\u001b[1;33m plt.scatter(actual_ERs_pca_list_bias, abs(predictions_bias - actual_ERs_pca_list_bias),\n\u001b[0m\u001b[0;32m      6\u001b[0m             alpha = 0.15, c = '#327c9f', s = 9, label = 'Linear model')\n\u001b[0;32m      7\u001b[0m \u001b[0mplt\u001b[0m\u001b[1;33m.\u001b[0m\u001b[0mylim\u001b[0m\u001b[1;33m(\u001b[0m\u001b[1;33m-\u001b[0m\u001b[1;36m0.01\u001b[0m\u001b[1;33m,\u001b[0m\u001b[1;36m0.15\u001b[0m\u001b[1;33m)\u001b[0m\u001b[1;33m\u001b[0m\u001b[1;33m\u001b[0m\u001b[0m\n",
      "\u001b[1;31mValueError\u001b[0m: operands could not be broadcast together with shapes (14000,2) (1,14000) "
     ]
    }
   ],
   "source": [
    "plt.ylabel('Absolute error (cm yr$^{-1}$)')\n",
    "plt.xlabel('Actual erosion rate (cm yr$^{-1}$)')\n",
    "plt.scatter(actual_ERs_pca_list_bias, abs(measured_ER_pca_list_bias - actual_ERs_pca_list_bias),\n",
    "           c = '#d33938', s = 9, alpha = 0.05, label = 'No correction')\n",
    "plt.scatter(actual_ERs_pca_list_bias, abs(predictions_bias - actual_ERs_pca_list_bias),\n",
    "            alpha = 0.15, c = '#327c9f', s = 9, label = 'Linear model')\n",
    "plt.ylim(-0.01,0.15)\n",
    "colors = ['#d33938','#327c9f']\n",
    "texts = ['No correction', 'Linear model prediction']\n",
    "patches = [ plt.plot([],[], marker=\"o\", ms = 7, ls=\"\", mec=None, color=colors[i], \n",
    "            label=\"{:s}\".format(texts[i]) )[0]  for i in range(len(texts)) ]\n",
    "plt.legend(handles=patches, edgecolor = 'black')\n",
    "plt.show()\n",
    "\n",
    "# plt.savefig('D:/STEIN_paper/model_outputs/figures/bias_corrected_figure_pareto_distributions_bias_150yr.png',\n",
    "#            transparent = True)\n",
    "# plt.savefig('D:/STEIN_paper/model_outputs/figures/bias_corrected_figure_pareto_distributions_bias_150yr.jpg')\n"
   ]
  },
  {
   "cell_type": "code",
   "execution_count": 797,
   "metadata": {},
   "outputs": [],
   "source": [
    "episodic_for_correction = np.genfromtxt('D:/STEIN_paper/codes/output_matrices/episodic_erosion_for_linear_model_correction.csv',\n",
    "                      delimiter = ',')\n",
    "episodic_for_corr_05 = np.genfromtxt('D:/STEIN_paper/codes/output_matrices/episodic_erosion_for_linear_model_correction_05.csv',\n",
    "                      delimiter = ',')\n",
    "episodic_for_corr_25 = np.genfromtxt('D:/STEIN_paper/codes/output_matrices/episodic_erosion_for_linear_model_correction_25.csv',\n",
    "                      delimiter = ',')\n",
    "\n",
    "episodic_for_corr_mat = np.empty((6000,8))\n",
    "episodic_for_corr_mat[:1000,0] = (episodic_for_correction[:1000,0] / episodic_for_correction[:1000,1]) * (4.02 / P0_C14)  \n",
    "episodic_for_corr_mat[:1000,1] = episodic_for_correction[:1000,3]\n",
    "episodic_for_corr_mat[:1000,2] = (5.78 - episodic_for_correction[:1000,5]) - 5.78\n",
    "episodic_for_corr_mat[:1000,3] = [0.1 - episodic_for_correction[j,3] for j in range(1000)]\n",
    "episodic_for_corr_mat[1000:2000,0] = (episodic_for_correction[:1000,6] / episodic_for_correction[:1000,7]) * (4.02 / P0_C14)  \n",
    "episodic_for_corr_mat[1000:2000,1] = episodic_for_correction[:1000,9]\n",
    "episodic_for_corr_mat[1000:2000,2] = (5.78 - episodic_for_correction[:1000,11]) - 5.78\n",
    "episodic_for_corr_mat[1000:2000,3] = [0.1 - episodic_for_correction[j,9] for j in range(1000)]\n",
    "episodic_for_corr_mat[2000:3000,0] = (episodic_for_corr_05[:1000,0] / episodic_for_corr_05[:1000,1]) * (4.02 / P0_C14)  \n",
    "episodic_for_corr_mat[2000:3000,1] = episodic_for_corr_05[:1000,3]\n",
    "episodic_for_corr_mat[2000:3000,2] = (5.144 - episodic_for_corr_05[:1000,5]) - 5.144\n",
    "episodic_for_corr_mat[2000:3000,3] = [0.05 - episodic_for_corr_05[j,3] for j in range(1000)]\n",
    "episodic_for_corr_mat[3000:4000,0] = (episodic_for_corr_05[:1000:,6] / episodic_for_corr_05[:1000,7]) * (4.02 / P0_C14)  \n",
    "episodic_for_corr_mat[3000:4000,1] = episodic_for_corr_05[:1000,9]\n",
    "episodic_for_corr_mat[3000:4000,2] = (5.144 - episodic_for_corr_05[:1000,11]) - 5.144\n",
    "episodic_for_corr_mat[3000:4000,3] = [0.05 - episodic_for_corr_05[j,9] for j in range(1000)]\n",
    "episodic_for_corr_mat[4000:5000,0] = (episodic_for_corr_25[:1000:,0] / episodic_for_corr_05[:1000,1]) * (4.02 / P0_C14)  \n",
    "episodic_for_corr_mat[4000:5000,1] = episodic_for_corr_25[:1000,3]\n",
    "episodic_for_corr_mat[4000:5000,2] = (episodic_for_corr_25[:1000,5]) - 7.358\n",
    "episodic_for_corr_mat[4000:5000,3] = [0.25 - episodic_for_corr_25[j,3] for j in range(1000)]\n",
    "episodic_for_corr_mat[5000:6000,0] = (episodic_for_corr_25[:1000,6] / episodic_for_corr_05[:1000,7]) * (4.02 / P0_C14)  \n",
    "episodic_for_corr_mat[5000:6000,1] = episodic_for_corr_25[:1000,9]\n",
    "episodic_for_corr_mat[5000:6000,2] = (episodic_for_corr_25[:1000,11]) - 7.358\n",
    "episodic_for_corr_mat[5000:6000,3] = [0.25 - episodic_for_corr_25[j,9] for j in range(1000)]\n",
    "\n",
    "episodic_for_corr_calc = [(160 / 2.62 * P0_Be10 / episodic_for_corr_mat[i,1]) for i in range(6000)]\n",
    "# episodic_for_corr_mat[:,2] = [episodic_for_corr_mat[i,2] * (P0_Be10/P0_C14) for i in range(6000)]\n",
    "actual_ERs_episodic = ([0.1] * 2000) +([0.05] * 2000) + ([0.25] * 2000)\n",
    "# predictions_episodic = np.exp(model_perc.predict(episodic_for_corr_mat[4000:5000,:3]))#  * episodic_for_corr_mat[:,1] + episodic_for_corr_mat[:,1] #  first predictions based on the original dataset that trained the model.\n",
    "# predictions_bias_high = model_perc.predict(pca_mat_bias_high[:,0:3])"
   ]
  },
  {
   "cell_type": "code",
   "execution_count": 792,
   "metadata": {},
   "outputs": [
    {
     "name": "stdout",
     "output_type": "stream",
     "text": [
      "0.0307511916849054 0.017120315092672356\n"
     ]
    }
   ],
   "source": [
    "print(np.mean([(predictions_episodic[i-4000] - actual_ERs_episodic[i])**2 for i in range(4000,5000)]),   \n",
    "    np.mean([(episodic_for_corr_mat[i,1] - actual_ERs_episodic[i])**2 for i in range(4000,5000)]))  "
   ]
  },
  {
   "cell_type": "code",
   "execution_count": null,
   "metadata": {},
   "outputs": [],
   "source": []
  },
  {
   "cell_type": "code",
   "execution_count": 798,
   "metadata": {},
   "outputs": [
    {
     "data": {
      "text/plain": [
       "<matplotlib.collections.PathCollection at 0x651f82e8>"
      ]
     },
     "execution_count": 798,
     "metadata": {},
     "output_type": "execute_result"
    },
    {
     "data": {
      "image/png": "[encoded data removed]",
      "text/plain": [
       "<Figure size 640x480 with 1 Axes>"
      ]
     },
     "metadata": {},
     "output_type": "display_data"
    }
   ],
   "source": [
    "plt.scatter(actual_ERs_episodic[4000:5000],\n",
    "           episodic_for_corr_mat[4000:5000,2])\n",
    "\n",
    "# plt.scatter(actual_ERs_episodic[4000:5000], predictions_episodic)\n",
    "# plt.scatter(episodic_for_corr_mat[4000:5000,2],\n",
    "#            actual_ERs_episodic[4000:5000])"
   ]
  },
  {
   "cell_type": "code",
   "execution_count": 557,
   "metadata": {},
   "outputs": [],
   "source": [
    "X = episodic_for_corr_mat[:3\n",
    "y = episodic_for_corr_mat[:,4] / actual_ERs_episodic\n",
    "\n",
    "lm = linear_model.LinearRegression()\n",
    "epi_model= lm.fit(X,y)\n",
    "\n",
    "output = epi_model.predict(pca_mat_bias_high[:,2].reshape(-1,1))"
   ]
  },
  {
   "cell_type": "code",
   "execution_count": 494,
   "metadata": {},
   "outputs": [
    {
     "data": {
      "text/plain": [
       "<matplotlib.collections.PathCollection at 0x33c78b70>"
      ]
     },
     "execution_count": 494,
     "metadata": {},
     "output_type": "execute_result"
    },
    {
     "data": {
      "image/png": "[encoded data removed]",
      "text/plain": [
       "<Figure size 640x480 with 1 Axes>"
      ]
     },
     "metadata": {},
     "output_type": "display_data"
    }
   ],
   "source": [
    "# plt.scatter(actual_ERs_episodic, predictions_episodic_error)\n",
    "absolute_error = predictions_episodic_error * episodic_for_corr_mat[:,1]\n",
    "plt.scatter(actual_ERs_episodic, absolute_error)"
   ]
  },
  {
   "cell_type": "code",
   "execution_count": 437,
   "metadata": {},
   "outputs": [
    {
     "data": {
      "text/plain": [
       "<matplotlib.collections.PathCollection at 0x4c24c278>"
      ]
     },
     "execution_count": 437,
     "metadata": {},
     "output_type": "execute_result"
    },
    {
     "data": {
      "image/png": "[encoded data removed]",
      "text/plain": [
       "<Figure size 640x480 with 1 Axes>"
      ]
     },
     "metadata": {},
     "output_type": "display_data"
    }
   ],
   "source": [
    "plt.scatter(actual_ERs_episodic, np.exp(predictions_episodic))"
   ]
  },
  {
   "cell_type": "code",
   "execution_count": 433,
   "metadata": {},
   "outputs": [
    {
     "data": {
      "image/png": "[encoded data removed]",
      "text/plain": [
       "<Figure size 800x380 with 2 Axes>"
      ]
     },
     "metadata": {},
     "output_type": "display_data"
    }
   ],
   "source": [
    "fig, (ax1, ax2) = plt.subplots(nrows = 1, ncols = 2,\n",
    "                                   figsize = (8, 3.8), tight_layout = True)\n",
    "\n",
    "ax1.plot([0.02,0.26],[0.02,0.26], c = 'black', ls = '-')\n",
    "\n",
    "ax1.scatter(actual_ERs_episodic[:1000], episodic_for_corr_mat[:1000,1],\n",
    "           c = '#6a2c70', marker = 'p') # 0.1, 1000 yr\n",
    "ax1.scatter(actual_ERs_episodic[1000:2000], episodic_for_corr_mat[1000:2000,1],\n",
    "           c = '#726a95', marker = 'x') # 0.1, 100 yr\n",
    "\n",
    "ax1.scatter(actual_ERs_episodic[3000:4000], episodic_for_corr_mat[3000:4000,1],\n",
    "           c = '#5c969e', marker = 'p') # 0.05, 1000 yr\n",
    "ax1.scatter(actual_ERs_episodic[2000:3000], episodic_for_corr_mat[2000:3000,1],\n",
    "           c = '#94b4a4', marker = 'x') # 0.05, 100 yr\n",
    "ax1.scatter(actual_ERs_episodic[4000:5000],episodic_for_corr_25[:1000,3],\n",
    "           c = '#931a25', marker = 'p') # 0.25 1000 yr\n",
    "ax1.scatter(actual_ERs_episodic[5000:6000], episodic_for_corr_25[:1000,9],\n",
    "           c = '#bb2205', marker = 'x') # 0.25 100 yr\n",
    "ax1.set_xlabel('Actual erosion rate (cm yr$^{-1}$)', fontsize = 12)\n",
    "ax1.set_ylabel('Measured erosion rate (cm yr$^{-1}$)', fontsize = 12)\n",
    "\n",
    "######\n",
    "\n",
    "ax2.scatter(episodic_for_corr_mat[4000:5000,2], episodic_for_corr_mat[4000:5000,3] / actual_ERs_episodic[4000:5000] * 100,\n",
    "            c = '#931a25', marker = 'p')   # 0.25, 1000\n",
    "ax2.scatter(episodic_for_corr_mat[:1000,2], episodic_for_corr_mat[:1000,3] / actual_ERs_episodic[:1000]*100, \n",
    "            c = '#6a2c70', marker = 'p')  # 0.1, 1000\n",
    "ax2.scatter(episodic_for_corr_mat[3000:4000,2], episodic_for_corr_mat[3000:4000,3] / actual_ERs_episodic[3000:4000] * 100,\n",
    "           c = '#5c969e', marker = 'p') # 0.05, 1000\n",
    "\n",
    "ax2.scatter(episodic_for_corr_mat[5000:6000,2], episodic_for_corr_mat[5000:6000,3] / actual_ERs_episodic[5000:6000] * 100,\n",
    "           c = '#bb2205', marker = 'x') # 0.25, 1000 yr\n",
    "ax2.scatter(episodic_for_corr_mat[1000:2000,2], episodic_for_corr_mat[1000:2000,3] / actual_ERs_episodic[1000:2000] * 100,\n",
    "           c = '#726a95', marker = 'x') # 0.1, 100\n",
    "ax2.scatter(episodic_for_corr_mat[2000:3000,2], episodic_for_corr_mat[2000:3000,3] / actual_ERs_episodic[2000:3000] * 100,\n",
    "           c = '#94b4a4', marker = 'x') # o.0.5, 100\n",
    "\n",
    "colors = ['#931a25','#6a2c70', '#5c969e',\n",
    "         '#bb2205','#726a95', '#94b4a4']\n",
    "texts = ['0.25 cm yr$^{-1}$ RF: 1000', '0.10 cm yr$^{-1}$ RF: 1000', '0.05 cm yr$^{-1}$ RF: 1000',\n",
    "         '0.25 cm yr$^{-1}$ RF: 100', '0.10 cm yr$^{-1}$ RF: 100', '0.05 cm yr$^{-1}$ RF: 100']\n",
    "markers = [\"p\",\"p\",\"p\",'x','x','x']\n",
    "\n",
    "patches = [ plt.plot([],[], marker=markers[i], ms = 6, ls=\"\", mec=None, color=colors[i], \n",
    "            label=\"{:s}\".format(texts[i]) )[0]  for i in range(len(texts)) ]\n",
    "\n",
    "ax2.set_xlabel('Measured $^{14}$C / $^{10}$Be offset', fontsize = 12)\n",
    "ax2.set_ylabel('Measured erosion rate error (%)', fontsize = 12)\n",
    "ax2.legend(handles = patches, fontsize = 8.75)\n",
    "\n",
    "plt.savefig('D:/STEIN_paper/model_outputs/figures/episodic_erosion_figure.jpg')\n"
   ]
  },
  {
   "cell_type": "code",
   "execution_count": 409,
   "metadata": {},
   "outputs": [
    {
     "data": {
      "image/png": "[encoded data removed]",
      "text/plain": [
       "<Figure size 640x480 with 1 Axes>"
      ]
     },
     "metadata": {},
     "output_type": "display_data"
    }
   ],
   "source": []
  },
  {
   "cell_type": "code",
   "execution_count": 223,
   "metadata": {},
   "outputs": [],
   "source": [
    "predictions = model_perc.predict(pca_mat[:,:3])"
   ]
  },
  {
   "cell_type": "code",
   "execution_count": 434,
   "metadata": {},
   "outputs": [
    {
     "data": {
      "text/plain": [
       "<matplotlib.legend.Legend at 0x4c192da0>"
      ]
     },
     "execution_count": 434,
     "metadata": {},
     "output_type": "execute_result"
    },
    {
     "data": {
      "image/png": "[encoded data removed]",
      "text/plain": [
       "<Figure size 640x480 with 1 Axes>"
      ]
     },
     "metadata": {},
     "output_type": "display_data"
    }
   ],
   "source": [
    "jtplot.reset()\n",
    "plt.scatter(pca_mat[:,4],(pca_mat[:,4] - pca_mat[:,1]), c = 'blue')\n",
    "\n",
    "#plt.scatter(pca_mat[:,4],(pca_mat[:,4] - np.exp(predictions)), c = 'black')\n",
    "plt.scatter(pca_mat_bias[:,4], (pca_mat_bias[:,4] - pca_mat_bias[:,1]), c = 'green')\n",
    "plt.scatter(pca_mat_bias[:,4], (pca_mat_bias[:,4] - np.exp(predictions_bias)), c = 'black')\n",
    "plt.scatter(pca_mat_bias_high[:,4], (pca_mat_bias_high[:,4] - pca_mat_bias_high[:,1]), c = 'yellow')\n",
    "plt.scatter(pca_mat_bias_high[:,4], (pca_mat_bias_high[:,4] - np.exp(predictions_bias_high)), c = 'black')\n",
    "plt.scatter(actual_ERs_episodic, (actual_ERs_episodic - episodic_for_corr_mat[:,1]), c = 'red')\n",
    "plt.scatter(actual_ERs_episodic, (actual_ERs_episodic - np.exp(predictions_episodic)), c = 'black')\n",
    "plt.xlabel('Erosion Rate (cm yr)')\n",
    "plt.ylabel('Error (cm yr-1)')\n",
    "colors = ['blue', 'green', 'black', 'yellow', 'red']\n",
    "texts = ['training data','test biased', 'all corrected data', 'test biased high', 'test episodic']\n",
    "\n",
    "patches = [ plt.plot([],[], marker=\"o\", ms = 7, ls=\"\", mec=None, color=colors[i], \n",
    "            label=\"{:s}\".format(texts[i]) )[0]  for i in range(len(texts)) ]\n",
    "plt.legend(handles=patches, edgecolor = 'black')\n",
    "\n",
    "# plt.savefig('D:/STEIN_paper/model_outputs/figures/14C_correction_initial.jpg')"
   ]
  },
  {
   "cell_type": "code",
   "execution_count": 180,
   "metadata": {},
   "outputs": [
    {
     "data": {
      "text/plain": [
       "array([ 1.54599766,  3.97650103, -0.63723806])"
      ]
     },
     "execution_count": 180,
     "metadata": {},
     "output_type": "execute_result"
    }
   ],
   "source": [
    "model_perc.coef_"
   ]
  },
  {
   "cell_type": "code",
   "execution_count": 179,
   "metadata": {},
   "outputs": [
    {
     "data": {
      "text/plain": [
       "-5.595275455979321"
      ]
     },
     "execution_count": 179,
     "metadata": {},
     "output_type": "execute_result"
    }
   ],
   "source": [
    "model_perc.intercept_"
   ]
  },
  {
   "cell_type": "code",
   "execution_count": 161,
   "metadata": {},
   "outputs": [
    {
     "data": {
      "image/png": "[encoded data removed]",
      "text/plain": [
       "<Figure size 460.8x403.2 with 1 Axes>"
      ]
     },
     "metadata": {},
     "output_type": "display_data"
    }
   ],
   "source": [
    "plt.ylabel('Absolute error (cm yr$^{-1}$)')\n",
    "plt.xlabel('Actual erosion rate (cm yr$^{-1}$)')\n",
    "plt.scatter(actual_ERs_episodic[:1000], abs(episodic_for_corr_mat[:1000,3]),\n",
    "           c = '#ffda77', s = 9, alpha = 0.5, label = 'No correction, 100 yr recurr')\n",
    "plt.scatter(actual_ERs_episodic[1000:2000], abs(episodic_for_corr_mat[1000:2000,3]),\n",
    "           c = '#61b15a', s = 9, alpha = 0.5, label = 'No correction, 10 yr recurr')\n",
    "plt.scatter(actual_ERs_episodic[2000:3000], abs(episodic_for_corr_mat[2000:3000,3]),\n",
    "           c = 'blue', s = 9, alpha = 0.05, label = 'No correction, 100 yr recurr')\n",
    "plt.scatter(actual_ERs_episodic[3000:], abs(episodic_for_corr_mat[3000:,3]),\n",
    "           c = 'red', s = 9, alpha = 0.05, label = 'No correction, 10 yr recurr')\n",
    "plt.scatter(actual_ERs_episodic[:4000], abs(predictions_episodic[:4000] - actual_ERs_episodic[:4000]),\n",
    "            alpha = 0.15, c = '#327c9f', s = 9, label = 'Linear model')\n",
    "plt.ylim(-0.1,0.15)\n",
    "colors = ['#ffda77','#61b15a', '#327c9f']\n",
    "texts = ['No correction, 100 yr recurr', 'No correction, 10 yr recurr','Linear model prediction']\n",
    "patches = [ plt.plot([],[], marker=\"o\", ms = 7, ls=\"\", mec=None, color=colors[i], \n",
    "            label=\"{:s}\".format(texts[i]) )[0]  for i in range(len(texts)) ]\n",
    "plt.legend(handles=patches, edgecolor = 'black')\n",
    "plt.show()"
   ]
  }
 ],
 "metadata": {
  "kernelspec": {
   "display_name": "Python 3",
   "language": "python",
   "name": "python3"
  },
  "language_info": {
   "codemirror_mode": {
    "name": "ipython",
    "version": 3
   },
   "file_extension": ".py",
   "mimetype": "text/x-python",
   "name": "python",
   "nbconvert_exporter": "python",
   "pygments_lexer": "ipython3",
   "version": "3.7.1"
  }
 },
 "nbformat": 4,
 "nbformat_minor": 2
}
