{
 "cells": [
  {
   "cell_type": "code",
   "execution_count": 5,
   "metadata": {},
   "outputs": [],
   "source": [
    "import numpy as np\n",
    "import matplotlib.pyplot as plt\n",
    "from scipy import linalg\n",
    "from scipy.interpolate import interp1d\n",
    "from jupyterthemes import jtplot\n",
    "import seaborn as sns\n",
    "\n",
    "jtplot.style(theme = 'gruvboxd')\n",
    "%matplotlib inline"
   ]
  },
  {
   "cell_type": "code",
   "execution_count": null,
   "metadata": {},
   "outputs": [],
   "source": [
    "He_lin = np.arange(0,max_depth[0] + 1,1)"
   ]
  },
  {
   "cell_type": "code",
   "execution_count": 2,
   "metadata": {},
   "outputs": [],
   "source": [
    "def matrix_vals(He_lin):\n",
    "    dt_hours = 12\n",
    "    siy = 86400 * 365.25\n",
    "    thermnz = len(He_lin)\n",
    "    thermdz = He_lin[-1] / (thermnz - 1)\n",
    "    thermdt = 86400 / (24 / dt_hours) \n",
    "    thermnt = int(365 * 24 / dt_hours)\n",
    "    alpha = 1.5e-6\n",
    "    kappa = alpha * 365 * 24 * 60 * 60                                     # annual diffusivity (for analytical T solution) \n",
    "    \n",
    "    return dt_hours, siy, thermnz, thermdz, thermdt, thermnt, alpha, kappa "
   ]
  },
  {
   "cell_type": "code",
   "execution_count": null,
   "metadata": {},
   "outputs": [],
   "source": []
  },
  {
   "cell_type": "code",
   "execution_count": null,
   "metadata": {},
   "outputs": [],
   "source": [
    "dt_hours, siy, thermnz, thermdz, thermdt, thermnt, alpha, kappa = matrix_vals(He_lin)"
   ]
  },
  {
   "cell_type": "code",
   "execution_count": 6,
   "metadata": {
    "code_folding": []
   },
   "outputs": [],
   "source": [
    "def lhs_operator(N, sigma):\n",
    "                                                        \n",
    "    D = np.diag(2.0 * (1.0 + 1.0 / sigma) * np.ones(N))        # Operator diagonal\n",
    "    D[-1, -1] = 1.0 + 2.0 / sigma                               # Neumann condition for the last element.\n",
    "    U = np.diag(-1.0 * np.ones(N - 1), k=1)                    # Upper diagonal\n",
    "    L = np.diag(-1.0 * np.ones(N - 1), k=-1)                   # Lower diagonal\n",
    "\n",
    "    A = D + U + L                                                 # Assemble the operator.\n",
    "\n",
    "    return A\n",
    "\n",
    "def Temp_fun(MAT, AMP, z, tiy):\n",
    "    \n",
    "    kappa = 1.5*10**-2 * 365 * 24 * 60 * 60\n",
    "    Py = 1\n",
    "    t = tiy / thermnt\n",
    "    Amplitude = AMP\n",
    "    AMP = AMP\n",
    "    T = MAT - Amplitude * np.exp(-z * np.sqrt(np.pi / (kappa * Py))) * np.cos(2 * np.pi * t / Py - z * np.sqrt(np.pi / (kappa * Py)))    \n",
    "\n",
    "    return T\n",
    "    \n",
    "def rhs_vector(T, MAT, AMP, sigma, qdx, n):\n",
    "    \n",
    "    b = T[:-2] + 2.0 * (1.0 / sigma - 1.0) * T[1:-1] + T[2:]                    # Set Dirichlet condition\n",
    "    b[0] += Temp_fun(MAT, AMP, 0, n)                                              # Set Neumann condition\n",
    "    b[-1] += qdx\n",
    "    \n",
    "    return b\n",
    "    \n",
    "def crank_nicolson(T0, MAT, AMP, nt, dt, dx, alpha, q):\n",
    "            \n",
    "    # Create the implicit operator of the system\n",
    "    sigma = alpha * dt / dx**2\n",
    "    A = lhs_operator(len(T0) - 2, sigma)                                    # Integrate through time\n",
    "    T = T0.copy()                                                           \n",
    "    T_mat = np.empty((thermnz,365))\n",
    "\n",
    "    for n in range(nt):\n",
    "        b = rhs_vector(T, MAT, AMP, sigma, q * dx, n)                                    # Generate RHS\n",
    "        T[1:-1] = linalg.solve(A, b)                                        # Solve the system\n",
    "        T[-1] = T[-2] + q * dx                                              # Apply Neumann BC\n",
    "        \n",
    "#         if n <= (74*2) or n >= (288 * 2):\n",
    "#             T[0] = 0\n",
    "#         else:\n",
    "#             T[0] = Temp_fun(MAT, AMP, 0, n)\n",
    "        \n",
    "        T[0] = Temp_fun(MAT, AMP, 0, n)\n",
    "\n",
    "        if n % (24 / dt_hours) == 0:\n",
    "            T_mat[:,int(n/(24 / dt_hours))] = T    \n",
    "        \n",
    "        # T_mat[:,n] = T\n",
    "        \n",
    "    return T, T_mat\n",
    "\n",
    "def diff_calc(T):\n",
    "    \n",
    "    Diff = [10**(-3928.1*(1/(T[i])) - 2.9315) for i in range(len(T))]              # cm^^2 * s^-1\n",
    "    \n",
    "    return Diff\n",
    "    \n",
    "def EDT_calculation(MAT, AMP, T0):    \n",
    "    Ea = 112 * 1e3\n",
    "    R = 8.3144621\n",
    "\n",
    "    # alpha_m = 1.5*10**-6                                                               \n",
    "    alpha_cm = alpha / 10**-4    \n",
    "\n",
    "    q = 0.0  \n",
    "    \n",
    "    T0 = T0\n",
    "    \n",
    "    Temps_output = crank_nicolson(T0, MAT, AMP, thermnt, thermdt, thermdz, alpha_cm, q)[1]\n",
    "    Temps = Temps_output\n",
    "    \n",
    "    depth_mean_Ts = [None] * np.shape(Temps)[0]\n",
    "    depth_integ = [None] * np.shape(Temps)[0]\n",
    "    \n",
    "    exper = lambda t: np.exp(-Ea / (R * (t + 273.15)))\n",
    "    exps = np.array([exper(Tempsi) for Tempsi in Temps])\n",
    "    EDTs = [(-Ea / R / np.log(np.mean(exps[i,:]))) for i in range(len(He_lin))]\n",
    "    \n",
    "    \n",
    "    depth_mean_Ts = [(np.mean(Temps[i,:])) for i in range(len(Temps))]\n",
    "    plus = lambda t: t + 273.15\n",
    "    depth_mean_Ts = [plus(depth_mean_Tsi) for depth_mean_Tsi in depth_mean_Ts]\n",
    "    \n",
    "    Diff_z = diff_calc(EDTs)\n",
    "    \n",
    "    return Temps_output, Temps, depth_mean_Ts, EDTs, Diff_z, He_lin"
   ]
  }
 ],
 "metadata": {
  "kernelspec": {
   "display_name": "Python 3",
   "language": "python",
   "name": "python3"
  },
  "language_info": {
   "codemirror_mode": {
    "name": "ipython",
    "version": 3
   },
   "file_extension": ".py",
   "mimetype": "text/x-python",
   "name": "python",
   "nbconvert_exporter": "python",
   "pygments_lexer": "ipython3",
   "version": "3.7.1"
  }
 },
 "nbformat": 4,
 "nbformat_minor": 2
}
