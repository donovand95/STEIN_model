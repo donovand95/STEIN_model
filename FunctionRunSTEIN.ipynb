{
 "cells": [
  {
   "cell_type": "markdown",
   "id": "d14bd404",
   "metadata": {},
   "source": [
    "## Initialise Functions\n",
    "<br>\n",
    "Initialises the functions used throughout the model.<br>\n",
    "<br>\n",
    "Extra functions include a decadal temperature  excursion wherein the daily average T in the summer is 6 deg (C) higher than the previous day's temperature for one week. (written for a response to reviewer comments).\n",
    "\n",
    "#### Syntax\n",
    "`FunctionRunSTEIN()` <br>\n",
    "`ExtraFxnRunSTEIN()` <br>\n",
    "\n",
    "#### Input \n",
    "#### Output\n",
    "\n",
    "#### Notes\n",
    "**Date of Creation:** 7. Juli 2021 <br>\n",
    "**Author:** Donovan Dennis <br>\n",
    "**Update:** <br>"
   ]
  },
  {
   "cell_type": "code",
   "execution_count": 1,
   "id": "5b0a5b23",
   "metadata": {},
   "outputs": [],
   "source": [
    "def FunctionRunSTEIN():\n",
    "    %run functions\\RockfallGenerator.ipynb\n",
    "    %run functions\\SetParams.ipynb\n",
    "    %run functions\\crnErodeFxn.ipynb\n",
    "    %run functions\\BeAnnualFxn.ipynb\n",
    "    %run functions\\CAnnualFxn.ipynb\n",
    "    %run functions\\CRNLoopFxn.ipynb\n",
    "    %run functions\\CrankNicholsonBedrock.ipynb\n",
    "    %run functions\\ReturnTempsHe3.ipynb\n",
    "    %run functions\\CalculateEDTsFxn.ipynb\n",
    "    %run functions\\ProdDiffHe3Fxn.ipynb\n",
    "    %run functions\\HeErodeFxn.ipynb\n",
    "    %run functions\\HeLoopFxn.ipynb\n",
    "    %run functions\\ErosionRateCalc.ipynb\n",
    "    %run functions\\CNSamplingFxn.ipynb\n",
    "    %run functions\\MeasCompERGenerator.ipynb\n",
    "    %run functions\\TrueCompERGenerator.ipynb\n",
    "    %run functions\\RunSimulationsStochasticFull.ipynb\n",
    "    %run functions\\ConstantERGenerator.ipynb\n",
    "    %run functions\\RunSimulationsConstant.ipynb\n",
    "    \n",
    "    return"
   ]
  },
  {
   "cell_type": "code",
   "execution_count": null,
   "id": "da7778d0",
   "metadata": {},
   "outputs": [],
   "source": [
    "def ExtraFunctionRunSTEIN():\n",
    "    %run functions\\RunSimulationsConstantTExcursion.ipynb\n",
    "    %run functions\\HeLoopFxnDecadalTExcursion.ipynb\n",
    "    \n",
    "    return"
   ]
  }
 ],
 "metadata": {
  "kernelspec": {
   "display_name": "Python 3",
   "language": "python",
   "name": "python3"
  },
  "language_info": {
   "codemirror_mode": {
    "name": "ipython",
    "version": 3
   },
   "file_extension": ".py",
   "mimetype": "text/x-python",
   "name": "python",
   "nbconvert_exporter": "python",
   "pygments_lexer": "ipython3",
   "version": "3.9.5"
  }
 },
 "nbformat": 4,
 "nbformat_minor": 5
}
