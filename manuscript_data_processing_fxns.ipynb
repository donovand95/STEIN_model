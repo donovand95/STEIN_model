{
 "cells": [
  {
   "cell_type": "code",
   "execution_count": null,
   "metadata": {
    "code_folding": [
     10
    ]
   },
   "outputs": [],
   "source": [
    "# function to import the surface data from the evaluation (training) dataset. 10 different evaluations each at 3 different erosion rates; then 10 different evaluations at 3 different pareto shape values \n",
    "# also imports the expected mean values given constant erosion\n",
    "\n",
    "def CreateMainArrays(TotalTime, Scenarios, SampleNo, Schemes):\n",
    "    MeasuredArrays = [0] * Schemes\n",
    "    MeanArrays = [0] * Schemes\n",
    "    EvalArrays0 = np.empty((TotalTime,11,Scenarios))\n",
    "    EvalArrays1 = np.empty((TotalTime,11,Scenarios))\n",
    "    EvalArrays2 = np.empty((TotalTime,11,Scenarios))\n",
    "    EvalArrays3 = np.empty((TotalTime,11,Scenarios))\n",
    "    EvalArrays4 = np.empty((TotalTime,11,Scenarios))\n",
    "    EvalArrays5 = np.empty((TotalTime,11,Scenarios))\n",
    "\n",
    "    MainArrayColNames = ['STO Surface C-14','STO Surface Be-10','STO Surface 14/10 Ratio',\n",
    "                         'STO Surface He-3','STO Surface He-3 Ret','STO Erosion Event Depth',\n",
    "                         'CON Surface C-14','CON Surface Be-10','CON Surface 14/10 Ratio',\n",
    "                         'CON Surface He-3', 'CON Surface He-3 Ret']\n",
    "    \n",
    "    for j in range(Schemes):\n",
    "        MeasuredArrays[j] = pd.DataFrame(np.genfromtxt('Dennis_and_Scherler_2021_output_data\\stochastic_outputs\\measured_value_arrays\\measured_output_' + str(ListMeasured.iloc[j][0]) + '.csv',\n",
    "                            delimiter = ','))\n",
    "    for j in range(Schemes):\n",
    "        MeanArrays[j] = pd.DataFrame(np.genfromtxt(r'Dennis_and_Scherler_2021_output_data\\stochastic_outputs\\all_year_mean_arrays\\all_year_means_output_' + str(ListMeasured.iloc[j][0]) + '.csv',  \n",
    "                            delimiter = ','))\n",
    "        \n",
    "    for i in range(Scenarios):\n",
    "        EvalArrays0[:,:,i] = np.genfromtxt('Dennis_and_Scherler_2021_output_data\\stochastic_outputs\\erosion_rate_tests\\STO_pareto_c0.7_comparison_output_ER' + str(EvalDataERLists.iloc[i][0]) + '.csv',  \n",
    "                                      delimiter = ',')\n",
    "        EvalArrays1[:,:,i] = np.genfromtxt('Dennis_and_Scherler_2021_output_data\\stochastic_outputs\\erosion_rate_tests\\STO_pareto_c0.7_comparison_output_ER' + str(EvalDataERLists.iloc[i][1]) + '.csv',  \n",
    "                                      delimiter = ',')\n",
    "        EvalArrays2[:,:,i] = np.genfromtxt('Dennis_and_Scherler_2021_output_data\\stochastic_outputs\\erosion_rate_tests\\STO_pareto_c0.7_comparison_output_ER' + str(EvalDataERLists.iloc[i][2]) + '.csv',  \n",
    "                                      delimiter = ',')\n",
    "        EvalArrays3[:,:,i] = np.genfromtxt('Dennis_and_Scherler_2021_output_data\\stochastic_outputs\\Pareto_tests\\Pareto_c0.5_data\\STO_pareto_c0.5_comparison_output_ER' + str(EvalDataERLists.iloc[i][3]) + '.csv',  \n",
    "                                          delimiter = ',')\n",
    "        EvalArrays4[:,:,i] = np.genfromtxt('Dennis_and_Scherler_2021_output_data\\stochastic_outputs\\Pareto_tests\\Pareto_c0.7_data\\STO_pareto_c0.7_comparison_output_ER' + str(EvalDataERLists.iloc[i][4]) + '.csv',  \n",
    "                                          delimiter = ',')\n",
    "        EvalArrays5[:,:,i] = np.genfromtxt('Dennis_and_Scherler_2021_output_data\\stochastic_outputs\\Pareto_tests\\Pareto_c1.0_data\\STO_pareto_c1.0_comparison_output_ER' + str(EvalDataERLists.iloc[i][5]) + '.csv',  \n",
    "                                          delimiter = ',')\n",
    "    \n",
    "    return [EvalArrays0, EvalArrays1, EvalArrays2,EvalArrays3, EvalArrays4, EvalArrays5], MeasuredArrays, MeanArrays"
   ]
  },
  {
   "cell_type": "code",
   "execution_count": 1,
   "metadata": {
    "code_folding": []
   },
   "outputs": [],
   "source": [
    "# function to import the surface data from the test dataset. 2 different evaluations each at 12 different erosion rates; \n",
    "# also imports the expected mean values given constant erosion\n",
    "\n",
    "def CreateTestArrays(TotalTime, Scenarios, SampleNo, Schemes):\n",
    "    MeasuredArrays = [0] * Scenarios\n",
    "    MeanArrays = [0] * Scenarios\n",
    "    EvalArrays0 = np.empty((TotalTime,11,Scenarios))\n",
    "    EvalArrays1 = np.empty((TotalTime,11,Scenarios))\n",
    "\n",
    "    for j in range(Scenarios):\n",
    "        MeasuredArrays[j] = pd.DataFrame(np.genfromtxt(r'Dennis_and_Scherler_2021_output_data\\correction_test_dataset\\all_year_mean_arrays\\measured_output_' + str(np.mean(TestDataERs[j])) + '.csv',\n",
    "                                        delimiter = ','))\n",
    "        MeanArrays[j] = pd.DataFrame(np.genfromtxt(r'Dennis_and_Scherler_2021_output_data\\correction_test_dataset\\all_year_mean_arrays\\all_year_means_output_' + str(np.mean(TestDataERs[j])) + '.csv',  \n",
    "                                                delimiter = ','))\n",
    "    for i in range(Scenarios):\n",
    "        EvalArrays0[:,:,i] = np.genfromtxt(r'Dennis_and_Scherler_2021_output_data\\correction_test_dataset\\comparison_outputs\\STO_pareto_c0.8_comparison_output_ER' + str(TestDataERs[i][0]) + '.csv',  \n",
    "                                          delimiter = ',')\n",
    "        EvalArrays1[:,:,i] = np.genfromtxt(r'Dennis_and_Scherler_2021_output_data\\correction_test_dataset\\comparison_outputs\\STO_pareto_c0.8_comparison_output_ER' + str(TestDataERs[i][1]) + '.csv',  \n",
    "                                          delimiter = ',')\n",
    "\n",
    "    return [EvalArrays0, EvalArrays1], MeasuredArrays, MeanArrays"
   ]
  },
  {
   "cell_type": "code",
   "execution_count": null,
   "metadata": {
    "code_folding": [
     0
    ]
   },
   "outputs": [],
   "source": [
    "def SamplingFxn(MainMatrix, SampleNo, Scenarios, TotalTime):\n",
    "    SampledYears = np.sort(np.random.choice(np.arange(SpunUp,TotalTime),SampleNo))\n",
    "    SamplingMatrix = np.empty((SampleNo, 6, Scenarios))\n",
    "    MeasuredMatrix = np.empty((6,Scenarios))\n",
    "    \n",
    "    for j in range(Scenarios):\n",
    "        \n",
    "        sampling_14C = []\n",
    "        sampling_Be = []\n",
    "        sampling_rat = []\n",
    "        sampling_3He = []\n",
    "    \n",
    "        for i in range(sample_no):           \n",
    "\n",
    "            sampling_14C.append(MainMatrix[SampledYears[i],0,j])\n",
    "            sampling_Be.append(MainMatrix[SampledYears[i],1,j])\n",
    "            sampling_rat.append(MainMatrix[SampledYears[i],2,j])\n",
    "            sampling_3He.append(MainMatrix[SampledYears[i],3,j])\n",
    "        \n",
    "        SamplingMatrix[:,0,j] = sampling_14C\n",
    "        SamplingMatrix[:,1,j] = sampling_Be\n",
    "        SamplingMatrix[:,2,j] = sampling_rat\n",
    "        SamplingMatrix[:,3,j] = sampling_3He\n",
    "        SamplingMatrix[:,4,j] = np.divide(sampling_3He,sampling_Be) * (SurfBe10 / SurfHe3)\n",
    "        SamplingMatrix[:,5,j] = SampledYears\n",
    "        \n",
    "        \n",
    "        MeasuredMatrix[0,j] = np.mean(SamplingMatrix[:,0,j])\n",
    "        MeasuredMatrix[1,j] = np.mean(SamplingMatrix[:,1,j])\n",
    "        MeasuredMatrix[2,j] = MeasuredMatrix[0,j] / MeasuredMatrix[1,j]\n",
    "        MeasuredMatrix[3,j] = np.mean(SamplingMatrix[:,3,j])\n",
    "        MeasuredMatrix[4,j] = (np.mean(SamplingMatrix[:,3,j]) / np.mean(SamplingMatrix[:,1,j])) * (SurfBe10 / SurfHe3)\n",
    "        MeasuredMatrix[5,j] = (CN_lambda / rock_rho * SurfBe10 / MeasuredMatrix[1,j] - Be10DecayCon)\n",
    "    \n",
    "    MeasuredMatrix_ER = [(CN_lambda / rock_rho * SurfBe10 / MeasuredMatrix[1,j] - Be10DecayCon) for j in range(Scenarios)]\n",
    "    \n",
    "    return SamplingMatrix, MeasuredMatrix, MeasuredMatrix_ER  "
   ]
  },
  {
   "cell_type": "code",
   "execution_count": null,
   "metadata": {
    "code_folding": [
     0
    ]
   },
   "outputs": [],
   "source": [
    "def CalculateActualERs(DataMain, Scenarios, Schemes, TotalTime):\n",
    "    CalcERs = np.empty((Schemes,Scenarios))\n",
    "    for i in range(Scenarios):\n",
    "        for j in range(Schemes):\n",
    "            CalcERs[j,i] = np.sum(DataMain[j][SpunUp:, 5, i]) / (TotalTime - SpunUp) \n",
    "    ExportERs = pd.DataFrame(CalcERs) \n",
    "    \n",
    "    return ExportERs"
   ]
  },
  {
   "cell_type": "code",
   "execution_count": null,
   "metadata": {
    "code_folding": [
     0
    ]
   },
   "outputs": [],
   "source": [
    "def CalculateMeasERs(DataMeasured, Scenarios, Schemes):    \n",
    "    MeasERs = np.empty((Schemes,Scenarios))\n",
    "    for i in range(Scenarios):\n",
    "        for j in range(Schemes):\n",
    "            MeasERs[j,i] = (CN_lambda / rock_rho * SurfBe10 / DataMeasured[j].iloc[1,i] - Be10DecayCon) \n",
    "    \n",
    "    ExportERs = pd.DataFrame(MeasERs, index = EvalDataERLists.columns) \n",
    "    \n",
    "    return ExportERs"
   ]
  },
  {
   "cell_type": "code",
   "execution_count": null,
   "metadata": {
    "code_folding": [
     0
    ]
   },
   "outputs": [],
   "source": [
    "def CalculateMeasERsTestData(DataMeasured, Scenarios, Schemes):    \n",
    "    MeasERs = np.empty((Schemes,Scenarios))\n",
    "    for i in range(Scenarios):\n",
    "        for j in range(Schemes):\n",
    "            MeasERs[j,i] = (CN_lambda / rock_rho * SurfBe10 / DataMeasured[i].loc[1,j] - Be10DecayCon) \n",
    "    \n",
    "    ExportERs = pd.DataFrame(MeasERs) \n",
    "    \n",
    "    return ExportERs"
   ]
  },
  {
   "cell_type": "code",
   "execution_count": null,
   "metadata": {
    "code_folding": [
     0
    ]
   },
   "outputs": [],
   "source": [
    "def GenerateSamples(Scenarios,Schemes,SampleNo,DataMain, TotalTime):\n",
    "    ColumnNames = ['Meas C-14', 'Meas Be-10', 'Meas C-14/Be-10',\n",
    "                  'Meas He-3', 'Meas He-3 Ret.', 'Meas ER']\n",
    "    SamplingMatrices = [0] * Schemes\n",
    "    \n",
    "    for j in range(Schemes):\n",
    "        Data = DataMain[j] \n",
    "        \n",
    "        Sampling1000 = [0] * 1000\n",
    "        \n",
    "        for k in range(1000):\n",
    "            Sampling1000[k] = pd.DataFrame(SamplingFxn(Data, SampleNo, Scenarios, TotalTime)[1], index = ColumnNames) \n",
    "        SamplingMatrices[j] = Sampling1000\n",
    "            \n",
    "    return SamplingMatrices"
   ]
  },
  {
   "cell_type": "code",
   "execution_count": null,
   "metadata": {
    "code_folding": [
     0
    ]
   },
   "outputs": [],
   "source": [
    "def SampleCalculations(Scenarios,Schemes,SampleNo,Sampling1000,DataMean,ActualERs):\n",
    "    EmptyFrame= np.array([np.arange(1000)]*Scenarios).T\n",
    "    ColumnNames = ['C14 Error', 'C14 Percent', 'Meas. ER',\n",
    "                  'ER Error', 'Meas. He Perc.', 'He Error']\n",
    "    C14Error = [pd.DataFrame(EmptyFrame)] * Schemes\n",
    "    C14Percent = [pd.DataFrame(EmptyFrame)] * Schemes\n",
    "    MeasER = [pd.DataFrame(EmptyFrame)] * Schemes\n",
    "    ERError = [pd.DataFrame(EmptyFrame)] * Schemes\n",
    "    MeasHePerc = [pd.DataFrame(EmptyFrame)] * Schemes\n",
    "    HeError = [pd.DataFrame(EmptyFrame)] * Schemes\n",
    "    \n",
    "    for j in range(Schemes):\n",
    "        for k in range(1000):\n",
    "            for i in range(Scenarios):\n",
    "                C14Error[j].loc[k,i] = Sampling1000[j][k][i]['Meas C-14/Be-10'] - DataMean[j].loc[8][i]\n",
    "                C14Percent[j].loc[k,i] = Sampling1000[j][k][i]['Meas C-14'] / DataMean[j].loc[1][i] * SurfBe10 / SurfC14\n",
    "                MeasER[j].loc[k,i] = CN_lambda / rock_rho * SurfBe10 / Sampling1000[j][k][i]['Meas Be-10'] - Be10DecayCon\n",
    "                ERError[j].loc[k,i] = ActualERs.iloc[j,i] - MeasER[j].iloc[k,i]\n",
    "                MeasHePerc[j].loc[k,i] = Sampling1000[j][k][i]['Meas He-3'] / Sampling1000[j][k][i]['Meas Be-10'] * SurfBe10 / SurfHe3 \n",
    "                HeError[j].loc[k,i] = MeasHePerc[j].loc[k,i] - DataMean[j].loc[10][i] \n",
    "    \n",
    "    return C14Error, C14Percent, MeasER, ERError, MeasHePerc, HeError"
   ]
  },
  {
   "cell_type": "code",
   "execution_count": null,
   "metadata": {
    "code_folding": [
     0
    ]
   },
   "outputs": [],
   "source": [
    "def SampleCalculationsTestData(Scenarios,Schemes,SampleNo,Sampling1000,DataMean,ActualERs):\n",
    "    EmptyFrame= np.array([np.arange(1000)]*Scenarios).T\n",
    "    ColumnNames = ['C14 Error', 'C14 Percent', 'Meas. ER',\n",
    "                  'ER Error', 'Meas. He Perc.', 'He Error']\n",
    "    C14Error = [pd.DataFrame(EmptyFrame)] * Schemes\n",
    "    C14Percent = [pd.DataFrame(EmptyFrame)] * Schemes\n",
    "    MeasER = [pd.DataFrame(EmptyFrame)] * Schemes\n",
    "    ERError = [pd.DataFrame(EmptyFrame)] * Schemes\n",
    "    MeasHePerc = [pd.DataFrame(EmptyFrame)] * Schemes\n",
    "    HeError = [pd.DataFrame(EmptyFrame)] * Schemes\n",
    "    \n",
    "    for j in range(Schemes):\n",
    "        for k in range(1000):\n",
    "            for i in range(Scenarios):\n",
    "                C14Error[j].loc[k,i] = Sampling1000[j][k][i]['Meas C-14/Be-10'] - DataMean[j].loc[8][j]\n",
    "                C14Percent[j].loc[k,i] = Sampling1000[j][k][i]['Meas C-14'] / DataMean[j].loc[1][j] * SurfBe10 / SurfC14\n",
    "                MeasER[j].loc[k,i] = CN_lambda / rock_rho * SurfBe10 / Sampling1000[j][k][i]['Meas Be-10'] - Be10DecayCon\n",
    "                ERError[j].loc[k,i] = ActualERs.iloc[j,i] - MeasER[j].iloc[k,i]\n",
    "                MeasHePerc[j].loc[k,i] = Sampling1000[j][k][i]['Meas He-3'] / Sampling1000[j][k][i]['Meas Be-10'] * SurfBe10 / SurfHe3 \n",
    "                HeError[j].loc[k,i] = MeasHePerc[j].loc[k,i] - DataMean[j].loc[10][j] \n",
    "    \n",
    "    return C14Error, C14Percent, MeasER, ERError, MeasHePerc, HeError"
   ]
  },
  {
   "cell_type": "code",
   "execution_count": null,
   "metadata": {},
   "outputs": [],
   "source": [
    "import numpy as np\n",
    "TestDataERs = np.array([[0.023104229792599094,0.02435678123680414],\n",
    "[0.049977861486000794,0.046039637112256775],\n",
    "[0.08026350826855132,0.07527028699791478],\n",
    "[0.10237212913893964,0.09674008500389059],\n",
    "[0.1189184133000077,0.129776384428187],\n",
    "[0.13684324447211305,0.1358791014642034],\n",
    "[0.16052915606863058,0.15997318254441772],\n",
    "[0.18485462580492978,0.1972475298698408],\n",
    "[0.22110547984657594,0.21047307543990476],\n",
    "[0.24350681381311287, 0.24327063008813232],\n",
    "[0.24997349591072862,0.252445333459826],\n",
    "[0.29020021211953295, 0.2701724456855725]])"
   ]
  }
 ],
 "metadata": {
  "kernelspec": {
   "display_name": "Python 3",
   "language": "python",
   "name": "python3"
  },
  "language_info": {
   "codemirror_mode": {
    "name": "ipython",
    "version": 3
   },
   "file_extension": ".py",
   "mimetype": "text/x-python",
   "name": "python",
   "nbconvert_exporter": "python",
   "pygments_lexer": "ipython3",
   "version": "3.7.1"
  }
 },
 "nbformat": 4,
 "nbformat_minor": 4
}
