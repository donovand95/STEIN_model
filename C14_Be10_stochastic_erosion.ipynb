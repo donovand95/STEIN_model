{
 "cells": [
  {
   "cell_type": "code",
   "execution_count": 20,
   "metadata": {
    "code_folding": [
     0
    ]
   },
   "outputs": [],
   "source": [
    "def rockfalls_import():\n",
    "    read_in = open('C:/Users/dennis/Documents/STEIN_links/for_publication/model_outputs/stochastic_erosion/erosion_sets/import_dates.csv')\n",
    "    myreader = csv.reader(read_in)\n",
    "    rockfall_mat = np.empty((total_time, scenarios))\n",
    "    \n",
    "    for row in myreader:\n",
    "        mat_gen_dates = row[:]\n",
    "    \n",
    "    rockfall_mat[:,:] = np.genfromtxt('C:/Users/dennis/Documents/STEIN_links/for_publication/model_outputs/stochastic_erosion/erosion_sets/rockfall_matrix_' + str(stoch_base_ER) + '_' + str(mat_gen_dates[-1]) + '.csv',\n",
    "                                  delimiter = ',')\n",
    "    ERs = np.genfromtxt('C:/Users/dennis/Documents/STEIN_links/for_publication/model_outputs/stochastic_erosion/erosion_sets/ER_list_' + str(stoch_base_ER) + '_' + str(mat_gen_dates[-1]) + '.csv',\n",
    "                                  delimiter = ',')\n",
    "        \n",
    "    return rockfall_mat, ERs"
   ]
  },
  {
   "cell_type": "code",
   "execution_count": 7,
   "metadata": {
    "code_folding": [
     0
    ]
   },
   "outputs": [],
   "source": [
    "def Be10fxn(dt, depth, conc0, scaling_factor):\n",
    "    \n",
    "    Be10_P0 = SLHL_Be10 * scaling_factor\n",
    "    decay = 4.998e-7    \n",
    "    B_Be = 0.026 # Granger and Smith 2000\n",
    "    L3 = 4360 # g cm^-2 Granger and Smith 2000\n",
    "    \n",
    "    muons_10 = [0.026 * np.e**(-rock_rho * depth[i] / L3) for i in depth]\n",
    "    spallogenic_10 = [Be10_P0 * np.e**(-mu * depth[i]) for i in depth]\n",
    "    production_tot_10 = [muons_10[i] + spallogenic_10[i] for i in depth]\n",
    "    \n",
    "    conc10Be = [conc0[i] * np.e**(-decay) + (production_tot_10[i] / (decay + 0) * (1 - np.e**(-(decay + 0) * 1))) for i in depth]    \n",
    "\n",
    "    return conc10Be"
   ]
  },
  {
   "cell_type": "code",
   "execution_count": 15,
   "metadata": {
    "code_folding": [
     0
    ]
   },
   "outputs": [],
   "source": [
    "def C14fxn(dt, depth, conc0, scaling_factor):    \n",
    "    C14_P0 = SLHL_C14 * scaling_factor   # production rate atoms / g / yr\n",
    "    thalf = 5730    # half life 14-C, years\n",
    "    decay = np.log(2) / thalf\n",
    "    f_tot = 1.72*10**(-2) # Lupker et al. \n",
    "\n",
    "    mu = 2.62/160 # g * cm^-2\n",
    "    A1 = 170.6 # Granger and Smith (2000)\n",
    "    A2 = 36.75 # ibid.\n",
    "    L1 = 788.6 # g cm^-2; Granger and Smith (2000)\n",
    "    L2 = 2688 # g cm*-2; ibid.\n",
    "    \n",
    "    muons_14 = [f_tot * (A1*np.e**((-rock_rho * depth[i])/L1) + A2*np.e**((-2.62*depth[i])/L2)) for i in depth]  \n",
    "    spallation_14 = [C14_P0 * np.e**(-mu * depth[i]) for i in depth]\n",
    "    production_tot_14 = [spallation_14[i] + muons_14[i] for i in depth]\n",
    "    \n",
    "    conc14C = [conc0[i]*np.e**(-decay) + (production_tot_14[i] / (decay + 0) * (1 - np.e**(-(decay + 0) * 1))) for i in depth]\n",
    "\n",
    "    return conc14C"
   ]
  },
  {
   "cell_type": "code",
   "execution_count": 6,
   "metadata": {
    "code_folding": [
     0
    ]
   },
   "outputs": [],
   "source": [
    "def CRN_fxn(conc10Be, conc14C, rockfall_mat, dat_lin, year):\n",
    "    fall_thickness = rockfall_mat[year] + 0.0001\n",
    "    conc10Be = Be10fxn(dt, dat_lin, conc10Be, scaling_factor)\n",
    "    conc14C = C14fxn(dt, dat_lin, conc14C, scaling_factor)\n",
    "\n",
    "    depths = dat_lin[dat_lin > fall_thickness]\n",
    "    minus = len(dat_lin) - len(depths)\n",
    "    \n",
    "    if minus > 0.0001:\n",
    "        \n",
    "        sec_Befxn = interp1d(x = (depths - fall_thickness), \n",
    "                             y = conc10Be[minus:],\n",
    "                             kind = 'cubic',\n",
    "                             fill_value = \"extrapolate\")\n",
    "\n",
    "        conc10Be[:-minus] = sec_Befxn(x = dat_lin[:-minus])\n",
    "        conc10Be[-minus:] = [0] * minus\n",
    "\n",
    "    \n",
    "        sec_Cfxn = interp1d(x = (depths - fall_thickness), y = conc14C[minus:], fill_value = \"extrapolate\")\n",
    "        conc14C[:-minus] = sec_Cfxn(x = dat_lin[:-minus])\n",
    "        conc14C[-minus:] = [0] * minus\n",
    "    \n",
    "    else:\n",
    "        sec_Befxn = interp1d(x = depths, \n",
    "                             y = conc10Be[minus:],\n",
    "                             kind = 'cubic',\n",
    "                             fill_value = \"extrapolate\")\n",
    "\n",
    "        conc10Be[:-minus] = sec_Befxn(x = dat_lin[:-minus])\n",
    "        conc10Be[-minus:] = [0] * minus\n",
    "\n",
    "    \n",
    "        sec_Cfxn = interp1d(x = depths, y = conc14C[minus:], fill_value = \"extrapolate\")\n",
    "        conc14C[:-minus] = sec_Cfxn(x = dat_lin[:-minus])\n",
    "        conc14C[-minus:] = [0] * minus\n",
    "        \n",
    "    rockfall_mat = np.delete(rockfall_mat, (0), axis = 0)    \n",
    "    \n",
    "    return conc10Be, conc14C"
   ]
  },
  {
   "cell_type": "code",
   "execution_count": 6,
   "metadata": {
    "code_folding": []
   },
   "outputs": [],
   "source": [
    "def CRN_loop_fxn(total_time):\n",
    "    dat_lin = np.arange(0,max_depth[1],1)\n",
    "    all_rockfalls, ERs = rockfalls_import()\n",
    "    all_mat = np.empty((total_time, 3, scenarios))\n",
    "    \n",
    "    for i in range(scenarios):\n",
    "        conc14C = [0] * len(dat_lin)\n",
    "        conc10Be = [0] * len(dat_lin)\n",
    "        C_surf = np.empty((total_time,))\n",
    "        Be_surf = np.empty((total_time,))\n",
    "        C_tot = np.empty((max_depth[1],total_time))\n",
    "        Be_tot = np.empty((max_depth[1],total_time))            \n",
    "        export_mat = np.empty((total_time,3))\n",
    "        \n",
    "        year_falls = all_rockfalls[:,i]\n",
    "        rockfall_plot = year_falls\n",
    "        ER = ERs[i]\n",
    "        \n",
    "        for j in range(0,total_time):\n",
    "            year = j\n",
    "            conc10Be, conc14C = CRN_fxn(conc10Be, conc14C, year_falls, dat_lin, year)\n",
    "            C_surf[j,] = np.average(conc14C[0:6])\n",
    "            Be_surf[j,] = np.average(conc10Be[0:6])\n",
    "            C_tot[:,j] = conc14C\n",
    "            Be_tot[:,j] = conc10Be\n",
    "            # print(year)\n",
    "        \n",
    "        print('Main C14 & Be10 loop scenario ' + str(i) + 'complete.')\n",
    "        \n",
    "        ratios = [(C_tot[0,i] / Be_tot[0,i]) for i in range(total_time)]\n",
    "\n",
    "        export_mat[:,0] = C_surf\n",
    "        export_mat[:,1] = Be_surf\n",
    "        export_mat[:,2] = ratios\n",
    "        all_mat[:,:,i] = export_mat\n",
    "        \n",
    "        C_export = C_tot\n",
    "        Be_export = Be_tot\n",
    "        \n",
    "        if save_output == True:\n",
    "            \n",
    "            if save_only_surf == True:\n",
    "                np.savetxt(r'C:/Users/dennis/Documents/STEIN_links/for_publication/model_outputs/stochastic_erosion/Be10_C14_simulation_outputs/STO_C14_Be10_ER' + str(ER) + '_expmat.csv',\n",
    "                           export_mat,\n",
    "                           delimiter = ',')\n",
    "\n",
    "            else:\n",
    "                np.savetxt(r'C:/Users/dennis/Documents/STEIN_links/for_publication/model_outputs/stochastic_erosion/Be10_C14_simulation_outputs/STO_C14_Be10_ER' + str(ER) + '_expmat.csv',\n",
    "                       export_mat,\n",
    "                       delimiter = ',')              \n",
    "                np.savetxt(r'C:/Users/dennis/Documents/STEIN_links/for_publication/model_outputs/full_14C_10Be_data/Be10_C14_simulation_outputs/STO_C14_Be10_ER' + str(ER) + '_expC.csv',\n",
    "                       C_export,\n",
    "                       delimiter = ',')\n",
    "                np.savetxt(r'C:/Users/dennis/Documents/STEIN_links/for_publication/model_outputs/full_14C_10Be_data/Be10_C14_simulation_outputs/STO_C14_Be10_ER' + str(ER) + '_expBe.csv',\n",
    "                       Be_export,\n",
    "                       delimiter = ',')\n",
    "        \n",
    "    return export_mat, all_mat"
   ]
  }
 ],
 "metadata": {
  "kernelspec": {
   "display_name": "Python 3",
   "language": "python",
   "name": "python3"
  },
  "language_info": {
   "codemirror_mode": {
    "name": "ipython",
    "version": 3
   },
   "file_extension": ".py",
   "mimetype": "text/x-python",
   "name": "python",
   "nbconvert_exporter": "python",
   "pygments_lexer": "ipython3",
   "version": "3.7.1"
  }
 },
 "nbformat": 4,
 "nbformat_minor": 2
}
