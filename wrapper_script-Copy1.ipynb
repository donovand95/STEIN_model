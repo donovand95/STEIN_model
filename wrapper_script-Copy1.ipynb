{
 "cells": [
  {
   "cell_type": "code",
   "execution_count": 204,
   "metadata": {},
   "outputs": [],
   "source": [
    "import numpy as np\n",
    "import pandas as pd\n",
    "from scipy.interpolate import interp1d, interp2d\n",
    "from scipy import linalg\n",
    "import matplotlib.pyplot as plt\n",
    "import random\n",
    "from IPython.display import display, clear_output\n",
    "from ipywidgets import widgets, Layout, interact, interactive, fixed, interact_manual\n",
    "from jupyterthemes import jtplot\n",
    "import time\n",
    "import scipy as scipy\n",
    "import csv\n",
    "\n",
    "%run ~/Documents/STEIN_links/for_publication/functions_for_wrapper.ipynb"
   ]
  },
  {
   "cell_type": "code",
   "execution_count": 205,
   "metadata": {
    "code_folding": [
     0
    ]
   },
   "outputs": [
    {
     "name": "stdout",
     "output_type": "stream",
     "text": [
      "Select an erosion type for the simulation.\n"
     ]
    },
    {
     "data": {
      "application/vnd.jupyter.widget-view+json": {
       "model_id": "e96d2ae5df7a40cba5df2aea57e0e6f3",
       "version_major": 2,
       "version_minor": 0
      },
      "text/plain": [
       "Dropdown(description='Erosion type:', options=(('Stochastic Rockfalls', 'stochastic'), ('Steady-state', 'const…"
      ]
     },
     "metadata": {},
     "output_type": "display_data"
    },
    {
     "name": "stdout",
     "output_type": "stream",
     "text": [
      "Input total time length (years) for individual simulations. \n",
      "Max = 150000 \n",
      "Min = 10\n"
     ]
    },
    {
     "data": {
      "application/vnd.jupyter.widget-view+json": {
       "model_id": "1145384898d445a8af2c8511cbdf292d",
       "version_major": 2,
       "version_minor": 0
      },
      "text/plain": [
       "BoundedIntText(value=75, description='Total time:', max=150000, min=10)"
      ]
     },
     "metadata": {},
     "output_type": "display_data"
    },
    {
     "name": "stdout",
     "output_type": "stream",
     "text": [
      "Select a C-14 sea level high latitude production rate. \n",
      "Borchers et al. (2016) (12.76) is recommended.\n"
     ]
    },
    {
     "data": {
      "application/vnd.jupyter.widget-view+json": {
       "model_id": "96071763992743c4b1d0b69bb8e42092",
       "version_major": 2,
       "version_minor": 0
      },
      "text/plain": [
       "Dropdown(description='$^{14}$C Production Rate:', index=1, options=(('9.5 \\t (Fenton et al. (2019)', 9.5), ('1…"
      ]
     },
     "metadata": {},
     "output_type": "display_data"
    },
    {
     "name": "stdout",
     "output_type": "stream",
     "text": [
      "Select a Be-10 sea level high latitude production rate.\n"
     ]
    },
    {
     "data": {
      "application/vnd.jupyter.widget-view+json": {
       "model_id": "29ecdd041e07423ab33e0e365c75832b",
       "version_major": 2,
       "version_minor": 0
      },
      "text/plain": [
       "Dropdown(description='$^{10}$Be Production Rate:', index=1, options=(('3.83 \\t (Borchers et al. (2016)', 3.83)…"
      ]
     },
     "metadata": {},
     "output_type": "display_data"
    },
    {
     "name": "stdout",
     "output_type": "stream",
     "text": [
      "Select a He-3 sea level high latitude production rate.\n"
     ]
    },
    {
     "data": {
      "application/vnd.jupyter.widget-view+json": {
       "model_id": "1cf06669b3b04ff99e3f0f1458a834d3",
       "version_major": 2,
       "version_minor": 0
      },
      "text/plain": [
       "Dropdown(description='$^{3}$He Production Rate:', index=4, options=(('102 \\t ( Vermeesh et al. (2009)', 102.0)…"
      ]
     },
     "metadata": {},
     "output_type": "display_data"
    },
    {
     "name": "stdout",
     "output_type": "stream",
     "text": [
      "Input cosmogenic nuclide production rate scaling factor. \n",
      "For SLHL, enter 1.\n"
     ]
    },
    {
     "data": {
      "application/vnd.jupyter.widget-view+json": {
       "model_id": "3e75e7fc68d749cf87eb97e28ef523c3",
       "version_major": 2,
       "version_minor": 0
      },
      "text/plain": [
       "BoundedFloatText(value=1.0, description='CN scaling factor: \\t', max=900.0, min=1e-07, step=0.1, style=Descrip…"
      ]
     },
     "metadata": {},
     "output_type": "display_data"
    },
    {
     "name": "stdout",
     "output_type": "stream",
     "text": [
      "Input the mean grain size of the quartz used for He-3 measurements.\n"
     ]
    },
    {
     "data": {
      "application/vnd.jupyter.widget-view+json": {
       "model_id": "4eca3af01de54d56845ceadaedf91439",
       "version_major": 2,
       "version_minor": 0
      },
      "text/plain": [
       "BoundedFloatText(value=0.1, description='Quartz grain size', max=2.0, min=0.08, step=0.01, style=DescriptionSt…"
      ]
     },
     "metadata": {},
     "output_type": "display_data"
    },
    {
     "name": "stdout",
     "output_type": "stream",
     "text": [
      "Input a mean annual temperature for the simulations.\n"
     ]
    },
    {
     "data": {
      "application/vnd.jupyter.widget-view+json": {
       "model_id": "e0b7ed9407db4fc9915da399d737b64d",
       "version_major": 2,
       "version_minor": 0
      },
      "text/plain": [
       "BoundedFloatText(value=0.0, description='Mean annual temperature (0 $\\\\circ$C)', max=15.0, min=-50.0, step=0.5…"
      ]
     },
     "metadata": {},
     "output_type": "display_data"
    },
    {
     "name": "stdout",
     "output_type": "stream",
     "text": [
      "Input an amplitude for the seasonal temperature function. \n",
      "Amplitude of 5.0 for MAT = 0.0 indicates mean summer temperature of +5.0 C and mean winter temperature of -5.0 C.\n"
     ]
    },
    {
     "data": {
      "application/vnd.jupyter.widget-view+json": {
       "model_id": "34b7d405651747ad9f13b7a00c2b5223",
       "version_major": 2,
       "version_minor": 0
      },
      "text/plain": [
       "BoundedFloatText(value=5.0, description='Temperature seasonality', max=35.0, min=0.5, step=0.5, style=Descript…"
      ]
     },
     "metadata": {},
     "output_type": "display_data"
    },
    {
     "name": "stdout",
     "output_type": "stream",
     "text": [
      "Would you like to save the output files?\n"
     ]
    },
    {
     "data": {
      "application/vnd.jupyter.widget-view+json": {
       "model_id": "3c22908135f248709795521b9aab499a",
       "version_major": 2,
       "version_minor": 0
      },
      "text/plain": [
       "Dropdown(description='Save Output', options=(('Yes', True), ('No', False)), value=True)"
      ]
     },
     "metadata": {},
     "output_type": "display_data"
    }
   ],
   "source": [
    "# Input the initial variables:\n",
    "style = {'description_width' : 'initial'}\n",
    "erosion_type = widgets.Dropdown(options = [('Stochastic Rockfalls', 'stochastic'),\n",
    "                                           ('Steady-state', 'constant'),\n",
    "                                           ('No Erosion', 'none')],\n",
    "                                value='stochastic',\n",
    "                                description='Erosion type:',\n",
    "                                style = style)\n",
    "\n",
    "print('Select an erosion type for the simulation.')\n",
    "display(erosion_type)\n",
    "\n",
    "total_time = widgets.BoundedIntText(value = 75,\n",
    "                                   min = 10,\n",
    "                                   max = 150000,\n",
    "                                   description = \"Total time:\")\n",
    "\n",
    "print('Input total time length (years) for individual simulations. \\nMax = 150000 \\nMin = 10')\n",
    "display(total_time)\n",
    "\n",
    "SLHL_C14 = widgets.Dropdown(options=[('9.5 \\t (Fenton et al. (2019)', 9.5),\n",
    "                                      ('12.76 \\t (Borchers et al. (2016)', 12.76)],\n",
    "                           value = 12.76,\n",
    "                           description='$^{14}$C Production Rate:',\n",
    "                           style = style)\n",
    "print('Select a C-14 sea level high latitude production rate. \\nBorchers et al. (2016) (12.76) is recommended.')\n",
    "display(SLHL_C14)\n",
    "\n",
    "SLHL_Be10 = widgets.Dropdown(options=[('3.83 \\t (Borchers et al. (2016)', 3.83),\n",
    "                                      ('3.89 \\t (Borchers et al. (2016)', 3.89),\n",
    "                                      ('3.93 \\t (Borchers et al. (2016)', 3.93),\n",
    "                                      ('4.02 \\t (Borchers et al. (2016))', 4.02)],\n",
    "                           value=3.89,\n",
    "                           description='$^{10}$Be Production Rate:',\n",
    "                           style = style)\n",
    "print('Select a Be-10 sea level high latitude production rate.')\n",
    "display(SLHL_Be10)\n",
    "\n",
    "SLHL_He3 = widgets.Dropdown(options=[('102 \\t ( Vermeesh et al. (2009)', 102.0),\n",
    "                                      ('107 \\t (Vermeesh et al. (2009)', 107.0),\n",
    "                                      ('110 \\t (Vermeesh et al. (2009)', 110.0),\n",
    "                                     ('112.26 \\t (Borchers et al. (2016)', 112.26),\n",
    "                                      ('114.55 \\t (Borchers et al. (2016)', 114.55),\n",
    "                                     ('117.47 \\t (Borchers et al. (2016)', 117.47),\n",
    "                                     ('128 \\t (Vermeesh et al. (2009))', 128.0)],\n",
    "                           value=114.55,\n",
    "                           description='$^{3}$He Production Rate:',\n",
    "                           style = style)\n",
    "print('Select a He-3 sea level high latitude production rate.')\n",
    "display(SLHL_He3)\n",
    "\n",
    "scaling_factor = widgets.BoundedFloatText(value = 1.0,\n",
    "                                min = 0.0000001,\n",
    "                                max = 900.0,\n",
    "                                step = 0.1, \n",
    "                                description = \"CN scaling factor: \\t\",\n",
    "                                style = style)\n",
    "print('Input cosmogenic nuclide production rate scaling factor. \\nFor SLHL, enter ' + str('1') + '.')\n",
    "display(scaling_factor)\n",
    "\n",
    "gr_sz = widgets.BoundedFloatText(value = 0.1,\n",
    "                                min = 0.08,\n",
    "                                max = 2.0,\n",
    "                                step = 0.01, \n",
    "                                description = \"Quartz grain size\",\n",
    "                                style = style)\n",
    "print('Input the mean grain size of the quartz used for He-3 measurements.')\n",
    "display(gr_sz)\n",
    "\n",
    "MAT = widgets.BoundedFloatText(value = 0.0,\n",
    "                                min = -50.0,\n",
    "                                max = 15.0,\n",
    "                                step = 0.5, \n",
    "                                description = \"Mean annual temperature (0 $\\circ$C)\",\n",
    "                                style = style)\n",
    "print('Input a mean annual temperature for the simulations.')\n",
    "display(MAT)\n",
    "\n",
    "T_AMP=widgets.BoundedFloatText(value=5.0,\n",
    "                                min=0.5,\n",
    "                                max=35.0,\n",
    "                                step=0.5, \n",
    "                                description = \"Temperature seasonality\",\n",
    "                                style = style)\n",
    "print('Input an amplitude for the seasonal temperature function. \\nAmplitude of 5.0 for MAT = 0.0 indicates mean summer temperature of +5.0 C and mean winter temperature of -5.0 C.')\n",
    "display(T_AMP)\n",
    "\n",
    "save_output = widgets.Dropdown(options = [('Yes', True), ('No',False)],\n",
    "                              value = True,\n",
    "                              description = 'Save Output')\n",
    "print('Would you like to save the output files?')\n",
    "display(save_output)\n",
    "\n",
    "save_only_surf = True"
   ]
  },
  {
   "cell_type": "code",
   "execution_count": 206,
   "metadata": {
    "code_folding": [
     0
    ]
   },
   "outputs": [
    {
     "name": "stdout",
     "output_type": "stream",
     "text": [
      "Input number of stochastic erosion scenarios. \n",
      "Max = 30 \n",
      "Min = 1\n"
     ]
    },
    {
     "data": {
      "application/vnd.jupyter.widget-view+json": {
       "model_id": "aab9dedc42be4f11afa578e888c3229d",
       "version_major": 2,
       "version_minor": 0
      },
      "text/plain": [
       "BoundedIntText(value=2, description='Scenarios:', max=30, min=2, style=DescriptionStyle(description_width='ini…"
      ]
     },
     "metadata": {},
     "output_type": "display_data"
    },
    {
     "name": "stdout",
     "output_type": "stream",
     "text": [
      "Input the time-averaged erosion rate (total lost / total time).\n"
     ]
    },
    {
     "data": {
      "application/vnd.jupyter.widget-view+json": {
       "model_id": "23742f3214c44117917d94a6dcc8d78f",
       "version_major": 2,
       "version_minor": 0
      },
      "text/plain": [
       "BoundedFloatText(value=0.1, description='Base Erosion Rate (cm yr$^{-1}$:', max=349.0, min=1e-05, style=Descri…"
      ]
     },
     "metadata": {},
     "output_type": "display_data"
    },
    {
     "name": "stdout",
     "output_type": "stream",
     "text": [
      "Input the number of sub-samples you would like to base the CN measurements on for each stochastic sample. These concentrations are selected from random times in the model run, as in a \"time for space\" substition.\n"
     ]
    },
    {
     "data": {
      "application/vnd.jupyter.widget-view+json": {
       "model_id": "5044c2947871479b8e3573f9a6a3bb4a",
       "version_major": 2,
       "version_minor": 0
      },
      "text/plain": [
       "BoundedIntText(value=30, description='No. of Sub-samples:', max=74, min=2, style=DescriptionStyle(description_…"
      ]
     },
     "metadata": {},
     "output_type": "display_data"
    },
    {
     "name": "stdout",
     "output_type": "stream",
     "text": [
      "Input the Pareto distribution shape value (c).\n"
     ]
    },
    {
     "data": {
      "application/vnd.jupyter.widget-view+json": {
       "model_id": "f6dc50b4c5d143b9b4eac50c901edb38",
       "version_major": 2,
       "version_minor": 0
      },
      "text/plain": [
       "BoundedIntText(value=1, description='Pareto Distribution Shape Value', max=5, style=DescriptionStyle(descripti…"
      ]
     },
     "metadata": {},
     "output_type": "display_data"
    }
   ],
   "source": [
    "# Input the case-dependent variables:\n",
    "if erosion_type.value == 'stochastic':\n",
    "    scenarios = widgets.BoundedIntText(value = 1,\n",
    "                                   min = 2,\n",
    "                                   max = 30,\n",
    "                                   description = 'Scenarios:',\n",
    "                                   style = style)\n",
    "    print('Input number of stochastic erosion scenarios. \\nMax = 30 \\nMin = 1')\n",
    "    display(scenarios)\n",
    "    \n",
    "    stoch_base_ER = widgets.BoundedFloatText(value = 0.1,\n",
    "                                   min = 0.00001,\n",
    "                                   max = 349.0,\n",
    "                                   description = 'Base Erosion Rate (cm yr$^{-1}$:',\n",
    "                                   style = style)\n",
    "    print('Input the time-averaged erosion rate (total lost / total time).')\n",
    "    display(stoch_base_ER)\n",
    "    \n",
    "    sample_no = widgets.BoundedIntText(value = 30,\n",
    "                                      min = 2,\n",
    "                                      max = (total_time.value - 1),\n",
    "                                      description = 'No. of Sub-samples:',\n",
    "                                      style = style)\n",
    "    print('Input the number of sub-samples you would like to base the CN measurements on for each stochastic sample. These concentrations are selected from random times in the model run, as in a \"time for space\" substition.') \n",
    "    display(sample_no)\n",
    "    \n",
    "    pareto_c = widgets.BoundedIntText(value = 1.0,\n",
    "                                      min = 0.1,\n",
    "                                      max = 5,\n",
    "                                      description = 'Pareto Distribution Shape Value',\n",
    "                                      style = style)\n",
    "    print('Input the Pareto distribution shape value (c).') \n",
    "    display(pareto_c)\n",
    "    \n",
    "\n",
    "if erosion_type.value == 'constant':\n",
    "    erosion_rate = widgets.FloatText(value = 0.1,\n",
    "                                     min = 0.001,\n",
    "                                     max = 350,\n",
    "                                     description = 'Erosion Rate (cm yr$^{-1}$)',\n",
    "                                    style = style)\n",
    "    print('Input the steady-state erosion rate.')\n",
    "    display(erosion_rate)\n",
    "\n",
    "    shift_ER = widgets.Dropdown(options = [('Yes', True), ('No', False)],\n",
    "                               value = False,\n",
    "                               description = 'Change erosion rate mid-simulation?',\n",
    "                               style = style)\n",
    "\n",
    "    print('Would you like to change the erosion rate during the simulation? This will be a step-function change at a specific time.')  \n",
    "    display(shift_ER)\n",
    "\n",
    "    time_ER_shift = widgets.BoundedIntText(value = int(0.5 * total_time.value),\n",
    "                                          min = 0,\n",
    "                                          max = (total_time.value - 1),\n",
    "                                          description = 'Time for rate change:',\n",
    "                                          style = style)\n",
    "    new_ER = widgets.BoundedFloatText(value = 0.1,\n",
    "                                      min = 0.0000001,\n",
    "                                      max = 349,\n",
    "                                      description = 'New erosion rate (cm yr$^{-1}$)',\n",
    "                                     style = style)\n",
    "    print('If you will change the erosion rate, please input the year of the time change and the new erosion rate.')\n",
    "    display(time_ER_shift)\n",
    "    display(new_ER)"
   ]
  },
  {
   "cell_type": "code",
   "execution_count": 207,
   "metadata": {
    "code_folding": [
     0,
     1,
     42,
     44,
     73,
     75
    ],
    "scrolled": true
   },
   "outputs": [
    {
     "name": "stdout",
     "output_type": "stream",
     "text": [
      "Main C14 & Be10 loop scenario 0complete.\n",
      "Main C14 & Be10 loop scenario 1complete.\n",
      "Main He3 loop scenario 74complete.\n",
      "Main He3 loop scenario 74complete.\n"
     ]
    },
    {
     "name": "stderr",
     "output_type": "stream",
     "text": [
      "C:\\Users\\dennis\\Anaconda3\\lib\\site-packages\\ipykernel_launcher.py:17: RuntimeWarning:\n",
      "\n",
      "invalid value encountered in true_divide\n",
      "\n"
     ]
    },
    {
     "name": "stdout",
     "output_type": "stream",
     "text": [
      "Comparison Be10 / C14 loop complete.\n",
      "Comparison He3 loop scenario complete.\n"
     ]
    },
    {
     "name": "stderr",
     "output_type": "stream",
     "text": [
      "C:\\Users\\dennis\\Anaconda3\\lib\\site-packages\\ipykernel_launcher.py:17: RuntimeWarning:\n",
      "\n",
      "invalid value encountered in true_divide\n",
      "\n"
     ]
    },
    {
     "name": "stdout",
     "output_type": "stream",
     "text": [
      "Comparison Be10 / C14 loop complete.\n",
      "Comparison He3 loop scenario complete.\n"
     ]
    },
    {
     "name": "stderr",
     "output_type": "stream",
     "text": [
      "C:\\Users\\dennis\\Anaconda3\\lib\\site-packages\\ipykernel_launcher.py:17: RuntimeWarning:\n",
      "\n",
      "invalid value encountered in true_divide\n",
      "\n"
     ]
    },
    {
     "name": "stdout",
     "output_type": "stream",
     "text": [
      "Comparison Be10 / C14 loop complete.\n",
      "Comparison He3 loop scenario complete.\n"
     ]
    },
    {
     "name": "stderr",
     "output_type": "stream",
     "text": [
      "C:\\Users\\dennis\\Anaconda3\\lib\\site-packages\\ipykernel_launcher.py:17: RuntimeWarning:\n",
      "\n",
      "invalid value encountered in true_divide\n",
      "\n"
     ]
    },
    {
     "name": "stdout",
     "output_type": "stream",
     "text": [
      "Comparison Be10 / C14 loop complete.\n",
      "Comparison He3 loop scenario complete.\n",
      "Completed Erosion Rate: 0.1\n"
     ]
    },
    {
     "name": "stderr",
     "output_type": "stream",
     "text": [
      "C:\\Users\\dennis\\Anaconda3\\lib\\site-packages\\numpy\\core\\fromnumeric.py:3335: RuntimeWarning:\n",
      "\n",
      "Mean of empty slice.\n",
      "\n",
      "C:\\Users\\dennis\\Anaconda3\\lib\\site-packages\\numpy\\core\\_methods.py:161: RuntimeWarning:\n",
      "\n",
      "invalid value encountered in double_scalars\n",
      "\n"
     ]
    }
   ],
   "source": [
    "if get_values(erosion_type) == 'stochastic':\n",
    "    [erosion_type, \n",
    "     total_time, \n",
    "     SLHL_C14, \n",
    "     SLHL_Be10,\n",
    "     SLHL_He3, \n",
    "     scaling_factor, \n",
    "     gr_sz, MAT, T_AMP, \n",
    "     save_output,\n",
    "     scenarios,\n",
    "     stoch_base_ER, sample_no,\n",
    "     pareto_c,\n",
    "     max_depth, \n",
    "     rock_rho, \n",
    "     CN_lambda, \n",
    "     mu, dt, rho, \n",
    "     nx, r, dx, x, \n",
    "     x_up, x_low, \n",
    "     x_vol, shell_mass, \n",
    "     alpha, P0_Be10, P0_He3] = [set_values()[i] for i in range(len(set_values()))]\n",
    "    \n",
    "    %run ~\\Documents\\STEIN_links\\for_publication\\rockfall_generation_stochastic_erosion.ipynb    \n",
    "    %run ~\\Documents\\STEIN_links\\for_publication\\C14_Be10_stochastic_erosion.ipynb\n",
    "    %run ~\\Documents\\STEIN_links\\for_publication\\He3_stochastic_erosion.ipynb\n",
    "    %run ~\\Documents\\STEIN_links\\for_publication\\stochastic_measured_constants_CRN_loops.ipynb\n",
    "\n",
    "    rockfall_matrix_gen(stoch_base_ER, pareto_c)\n",
    "    rockfall_output = erosion_export(stoch_base_ER)\n",
    "        \n",
    "    rockfalls_imported = rockfalls_import()\n",
    "    CRN_output = CRN_loop_fxn(total_time)\n",
    "    \n",
    "    He3_output = He3_loop_fxn(total_time)\n",
    "\n",
    "    comparison_constants, samples, measured, measured_ER = compare_fxn()\n",
    "    og_ER_mat = original_ER_fxn(rockfalls_imported[1])\n",
    "    master_array, master_df, master_means = post_process(CRN_output, He3_output)\n",
    "    \n",
    "    export_inputs = export_var_function()\n",
    "    \n",
    "    print('Completed Erosion Rate: ' + str(stoch_base_ER))\n",
    "\n",
    "elif get_values(erosion_type) == 'constant':\n",
    "     \n",
    "    [erosion_type, \n",
    "     total_time, \n",
    "     SLHL_C14, \n",
    "     SLHL_Be10,\n",
    "     SLHL_He3, \n",
    "     scaling_factor, \n",
    "     gr_sz, MAT, T_AMP, \n",
    "     save_output, initial_ER, \n",
    "     shift_ER, time_ER_shift,\n",
    "     ER_shift_factor,\n",
    "     max_depth, \n",
    "     rock_rho, \n",
    "     CN_lambda, \n",
    "     mu, dt, rho, \n",
    "     nx, r, dx, x, \n",
    "     x_up, x_low, \n",
    "     x_vol, shell_mass, \n",
    "     alpha, P0_Be10, P0_He3] = [set_values()[i] for i in range(len(set_values()))]    \n",
    "    \n",
    "    %run D:\\STEIN_paper\\model_outputs\\scripts\\C14_Be10_constant_erosion.ipynb\n",
    "    CRN_output = CRN_loop_fxn(total_time, time_ER_shift)\n",
    "    \n",
    "    %run D:\\STEIN_paper\\model_outputs\\scripts\\He3_constant_erosion.ipynb\n",
    "    %run D:\\STEIN_paper\\model_outputs\\scripts\\He3_constant_erosion_kinparams_test.ipynb\n",
    "\n",
    "    He3_output = He3_loop_fxn(total_time, time_ER_shift)\n",
    "    \n",
    "    He3_percents = np.divide((He3_output[1]),CRN_output[4]) * P0_Be10 / P0_He3\n",
    "\n",
    "elif get_values(erosion_type) == 'none':\n",
    "\n",
    "    [erosion_type,\n",
    "     total_time,\n",
    "     SLHL_C14, \n",
    "     SLHL_Be10,\n",
    "     SLHL_He3,\n",
    "     scaling_factor, \n",
    "     gr_sz, \n",
    "     MAT, \n",
    "     T_AMP, \n",
    "     save_output] = [set_values()[i] for i in range(len(set_values()))]\n",
    "    \n",
    "    %run D:\\STEIN_paper\\model_outputs\\scripts\\C14_Be10_no_erosion.ipynb\n",
    "    CRN_output = CRN_loop_fxn(total_time, time_ER_shift)\n",
    "    \n",
    "    %run D:\\STEIN_paper\\model_outputs\\scripts\\He3_no_erosion.ipynb\n",
    "    He3_output = He3_loop_fxn(total_time, time_ER_shift)\n",
    "    \n",
    "    He3_percents = np.divide((He3_output[1]),CRN_output[4]) * P0_Be10 / P0_He3"
   ]
  },
  {
   "cell_type": "code",
   "execution_count": null,
   "metadata": {},
   "outputs": [],
   "source": []
  }
 ],
 "metadata": {
  "kernelspec": {
   "display_name": "Python 3",
   "language": "python",
   "name": "python3"
  },
  "language_info": {
   "codemirror_mode": {
    "name": "ipython",
    "version": 3
   },
   "file_extension": ".py",
   "mimetype": "text/x-python",
   "name": "python",
   "nbconvert_exporter": "python",
   "pygments_lexer": "ipython3",
   "version": "3.7.1"
  }
 },
 "nbformat": 4,
 "nbformat_minor": 2
}
