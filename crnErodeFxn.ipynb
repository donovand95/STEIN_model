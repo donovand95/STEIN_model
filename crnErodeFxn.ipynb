{
 "cells": [
  {
   "cell_type": "markdown",
   "id": "355a8e3f",
   "metadata": {},
   "source": [
    "## Erode the surface during CRN production/decay\n",
    "<br>\n",
    "  \n",
    "#### Syntax\n",
    "`conc10Be, conc14C = crnErodeFxn(conc10Be, conc14C, erode_z, CosmoPars)` <br>\n",
    "#### Input \n",
    "`conc10Be` : vector of size len(CRNz) with spacing dz containing the concentration of <sup>10Be </sup>(at g-1). <br>\n",
    "`conc14C` : vector of size len(CRNz) with spacing dz containing the concentration of <sup>14C </sup>(at g-1). <br>\n",
    "`erode_z` : depth of the annual erosion event (cm). <br>\n",
    "`CosmoPars` : dictionary of parameters for the cosmogenic nuclide calculations. <br>\n",
    "#### Variables Used\n",
    "##### Cosmo Pars\n",
    "`CRNz` : : depth vector of len(max_depths / dz) <br>\n",
    "#### Output\n",
    "`conc10Be` : vector of size len(CRNz) with spacing dz containing <sup>10</sup>Be concentrations after this year (at g-1).<br>\n",
    "`conc14C` : vector of size len(CRNz) with spacing dz containing <sup>14</sup>C concentrations after this year (at g-1).<br>\n",
    "#### Notes\n",
    "**Date of Creation:** 1. Juli 2021 <br>\n",
    "**Author:** Donovan Dennis <br>\n",
    "**Update:** <br>"
   ]
  },
  {
   "cell_type": "code",
   "execution_count": 1,
   "id": "cd6fb1b5",
   "metadata": {},
   "outputs": [],
   "source": [
    "def crnErodeFxn(conc10Be, conc14C, erode_z, CosmoPars):\n",
    "    CRNz = CosmoPars['CRNz']  # import depth vector to solve at\n",
    "    \n",
    "    conc10Be = Be10AnnualFxn(conc10Be, CosmoPars) # calculate how much Be-10 accumulates\n",
    "    conc14C = C14AnnualFxn(conc14C, CosmoPars)\n",
    "\n",
    "    old_depths = CRNz[CRNz > erode_z] # return only depths which are deeper than the erosion event\n",
    "    minus = len(CRNz) - len(old_depths) # determine the number of nodes to remove from the 'surface'\n",
    "    \n",
    "    if minus > 0:\n",
    "        \n",
    "        # define the 10Be interpolation function on the remaining nodes\n",
    "        sec_Befxn = interp1d(x = (old_depths - erode_z), \n",
    "                             y = conc10Be[minus:],\n",
    "                             kind = 'cubic',\n",
    "                             fill_value = \"extrapolate\")\n",
    "        \n",
    "        # interpolate the concentrations of the nodes which are now at the surface\n",
    "        conc10Be[:-minus] = sec_Befxn(x = CRNz[:-minus])\n",
    "        # replace all nodes which were greater than max_depth[1] with 0.0 at g-1 concentration\n",
    "        conc10Be[-minus:] = [0] * minus\n",
    "\n",
    "        # define the 14C interpolation function on the remaining nodes\n",
    "        sec_Cfxn = interp1d(x = (old_depths - erode_z), \n",
    "                            y = conc14C[minus:], \n",
    "                            kind = 'cubic',\n",
    "                            fill_value = \"extrapolate\")\n",
    "        # interpolate the concentrations of the nodes which are now at the surface\n",
    "        conc14C[:-minus] = sec_Cfxn(x = CRNz[:-minus])\n",
    "        # replace all nodes which were greater than max_depth[1] with 0.0 at g-1 concentration\n",
    "        conc14C[-minus:] = [0] * minus\n",
    "    \n",
    "    else:\n",
    "        conc10Be = conc10Be\n",
    "        conc14C = conc14C\n",
    "            \n",
    "    return conc10Be, conc14C"
   ]
  }
 ],
 "metadata": {
  "kernelspec": {
   "display_name": "Python 3",
   "language": "python",
   "name": "python3"
  },
  "language_info": {
   "codemirror_mode": {
    "name": "ipython",
    "version": 3
   },
   "file_extension": ".py",
   "mimetype": "text/x-python",
   "name": "python",
   "nbconvert_exporter": "python",
   "pygments_lexer": "ipython3",
   "version": "3.9.5"
  }
 },
 "nbformat": 4,
 "nbformat_minor": 5
}
